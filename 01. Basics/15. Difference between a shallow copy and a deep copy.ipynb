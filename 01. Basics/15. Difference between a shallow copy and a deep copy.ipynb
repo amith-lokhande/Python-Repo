{
 "cells": [
  {
   "cell_type": "markdown",
   "id": "39a8222b",
   "metadata": {},
   "source": [
    "### <span style=\"background-color: yellow;\">Difference between a shallow copy and a deep copy</span>\n",
    "\n",
    "The difference between a `shallow copy` and a `deep copy` lies in how they create and handle copies of objects or data structures.\n",
    "\n",
    "A ``shallow copy`` creates a new object or data structure but references the same elements as the original. In other words, it creates a new container object, but the elements within the container are still referenced by both the original and the copied object. Modifying the elements in one object will also affect the other. Shallow copies are typically created using methods like slicing (`[:]`), the `copy()` method, or the `list()`/`dict()` constructor.\n",
    "\n",
    "Here's an example to illustrate `shallow copy`:"
   ]
  },
  {
   "cell_type": "code",
   "execution_count": 1,
   "id": "11ceb61d",
   "metadata": {},
   "outputs": [
    {
     "name": "stdout",
     "output_type": "stream",
     "text": [
      "[10, 2, 3]\n",
      "[1, 2, 3]\n"
     ]
    }
   ],
   "source": [
    "original_list = [1, 2, 3]\n",
    "shallow_copy = original_list[:]\n",
    "original_list[0] = 10\n",
    "\n",
    "print(original_list)   # Output: [10, 2, 3]\n",
    "print(shallow_copy)    # Output: [1, 2, 3]\n"
   ]
  },
  {
   "cell_type": "markdown",
   "id": "71566065",
   "metadata": {},
   "source": [
    "In the example, modifying the first element of `original_list` does not affect `shallow_copy` because it is a separate list object, but both lists still reference the same elements.\n",
    "\n",
    "On the other hand, a `deep copy` creates a new object or data structure and recursively copies all the elements, including any nested objects, into the new structure. It ensures that the copied object is completely independent of the original. Modifying the elements in one object will not affect the other. Deep copies are typically created using the `copy.deepcopy()` function.\n",
    "\n",
    "Here's an example to illustrate `deep copy`:"
   ]
  },
  {
   "cell_type": "code",
   "execution_count": 2,
   "id": "7522b08f",
   "metadata": {},
   "outputs": [
    {
     "name": "stdout",
     "output_type": "stream",
     "text": [
      "[1, 2, [10, 4]]\n",
      "[1, 2, [3, 4]]\n"
     ]
    }
   ],
   "source": [
    "import copy\n",
    "\n",
    "original_list = [1, 2, [3, 4]]\n",
    "deep_copy = copy.deepcopy(original_list)\n",
    "original_list[2][0] = 10\n",
    "\n",
    "print(original_list)  # Output: [1, 2, [10, 4]]\n",
    "print(deep_copy)     # Output: [1, 2, [3, 4]]\n"
   ]
  },
  {
   "cell_type": "markdown",
   "id": "bcf7ae72",
   "metadata": {},
   "source": [
    "In this example, modifying the nested list within `original_list` does not affect `deep_copy` because it created a completely independent copy with its own set of elements.\n",
    "\n",
    "> **In summary, a `shallow copy` creates a new object but references the same elements, while a `deep copy` creates a new object and recursively copies all elements, including any nested objects, into the new structure, resulting in a fully independent copy. Also, `shallow copy` has faster program execution when compared to `deep copy`.**"
   ]
  },
  {
   "cell_type": "code",
   "execution_count": null,
   "id": "3e2bf46a",
   "metadata": {},
   "outputs": [],
   "source": []
  }
 ],
 "metadata": {
  "kernelspec": {
   "display_name": "Python 3 (ipykernel)",
   "language": "python",
   "name": "python3"
  },
  "language_info": {
   "codemirror_mode": {
    "name": "ipython",
    "version": 3
   },
   "file_extension": ".py",
   "mimetype": "text/x-python",
   "name": "python",
   "nbconvert_exporter": "python",
   "pygments_lexer": "ipython3",
   "version": "3.9.13"
  }
 },
 "nbformat": 4,
 "nbformat_minor": 5
}
