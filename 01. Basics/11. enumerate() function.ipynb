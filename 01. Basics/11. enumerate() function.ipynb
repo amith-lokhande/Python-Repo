{
 "cells": [
  {
   "cell_type": "markdown",
   "id": "0ea20d63",
   "metadata": {},
   "source": [
    "#### The syntax for the enumerate() function in Python is as follows:\n",
    "\n",
    " ```python\n",
    "enumerate(iterable, start=0)\n",
    "```\n",
    "\n",
    "* **`iterable:`** This is the sequence, collection, or iterator that you want to enumerate. It can be a list, tuple, string, or any other iterable object.\n",
    "* **`start (optional):`** This parameter specifies the starting index for enumeration. By default, it is set to 0. You can provide a different value if you want the enumeration to start from a specific index.\n",
    "\n",
    "The enumerate() function returns an iterator that generates pairs of (index, value) for each element in the iterable.\n",
    "\n",
    "Here's an example of the enumerate() syntax in action:"
   ]
  },
  {
   "cell_type": "code",
   "execution_count": 1,
   "id": "052509f5",
   "metadata": {},
   "outputs": [
    {
     "name": "stdout",
     "output_type": "stream",
     "text": [
      "0 apple\n",
      "1 banana\n",
      "2 orange\n"
     ]
    }
   ],
   "source": [
    "# Example 1 -\n",
    "\n",
    "fruits = ['apple', 'banana', 'orange']\n",
    "\n",
    "for index, fruit in enumerate(fruits):\n",
    "    print(index, fruit)\n"
   ]
  },
  {
   "cell_type": "markdown",
   "id": "d576109a",
   "metadata": {},
   "source": [
    "**`Explanation:`**\n",
    "\n",
    "In the above example, we have a list called fruits that contains three elements. We use the enumerate() function to iterate over the list, which provides both the index and the corresponding value of each element.\n",
    "\n",
    "Within the for loop, the enumerate(fruits) returns pairs of (index, fruit) at each iteration. The variable index holds the index of the current element, starting from 0, and fruit holds the value of the element.\n",
    "\n",
    "The print(index, fruit) statement prints the index and the fruit name for each element in the fruits list.\n",
    "\n",
    "As a result, the output shows the index and fruit name pairs, demonstrating the functionality of the enumerate() function."
   ]
  },
  {
   "cell_type": "code",
   "execution_count": 2,
   "id": "b75580b1",
   "metadata": {},
   "outputs": [
    {
     "name": "stdout",
     "output_type": "stream",
     "text": [
      "1 apple\n",
      "2 banana\n",
      "3 orange\n"
     ]
    }
   ],
   "source": [
    "# Example 2 - Using start parameter\n",
    "\n",
    "fruits = ['apple', 'banana', 'orange']\n",
    "\n",
    "for index, fruit in enumerate(fruits, start=1):\n",
    "    print(index, fruit)\n",
    "\"\"\"\n",
    "Note - Start parameter sets the index from \"0 to 1\" or from 0 to whichever number we input. \n",
    "It changes the index number but not the starting index itself (meaning - using start parameter does not change the fruits order \n",
    "from apple to banana or something else. It only changes the index of apple from 0 to 1)\n",
    "\"\"\""
   ]
  },
  {
   "cell_type": "code",
   "execution_count": 3,
   "id": "19a28bea",
   "metadata": {},
   "outputs": [
    {
     "name": "stdout",
     "output_type": "stream",
     "text": [
      "Color #1: red\n",
      "Color #2: green\n",
      "Color #3: blue\n",
      "Color #4: yellow\n"
     ]
    }
   ],
   "source": [
    "# Example 3 - \n",
    "\n",
    "colors = ['red', 'green', 'blue', 'yellow']\n",
    "\n",
    "for index, color in enumerate(colors, start=1):\n",
    "    print(f\"Color #{index}: {color}\")\n"
   ]
  },
  {
   "cell_type": "code",
   "execution_count": 4,
   "id": "9d806813",
   "metadata": {},
   "outputs": [
    {
     "name": "stdout",
     "output_type": "stream",
     "text": [
      "Passed subjects:\n",
      "Subject #1\n",
      "Subject #2\n",
      "Subject #4\n",
      "Subject #5\n"
     ]
    }
   ],
   "source": [
    "# Example 4 - \n",
    "\n",
    "grades = [85, 92, 78, 90, 88]\n",
    "passing_threshold = 80\n",
    "\n",
    "passed_subjects = []\n",
    "\n",
    "for index, grade in enumerate(grades, start=1):\n",
    "    if grade >= passing_threshold:\n",
    "        passed_subjects.append(index)\n",
    "\n",
    "print(\"Passed subjects:\")\n",
    "for subject in passed_subjects:\n",
    "    print(f\"Subject #{subject}\")\n"
   ]
  },
  {
   "cell_type": "code",
   "execution_count": null,
   "id": "346f6d46",
   "metadata": {},
   "outputs": [],
   "source": []
  }
 ],
 "metadata": {
  "kernelspec": {
   "display_name": "Python 3 (ipykernel)",
   "language": "python",
   "name": "python3"
  },
  "language_info": {
   "codemirror_mode": {
    "name": "ipython",
    "version": 3
   },
   "file_extension": ".py",
   "mimetype": "text/x-python",
   "name": "python",
   "nbconvert_exporter": "python",
   "pygments_lexer": "ipython3",
   "version": "3.9.13"
  }
 },
 "nbformat": 4,
 "nbformat_minor": 5
}
