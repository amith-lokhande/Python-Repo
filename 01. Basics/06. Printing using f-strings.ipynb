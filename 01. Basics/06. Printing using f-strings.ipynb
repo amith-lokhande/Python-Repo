{
 "cells": [
  {
   "cell_type": "code",
   "execution_count": 1,
   "id": "88225fc2",
   "metadata": {},
   "outputs": [
    {
     "name": "stdout",
     "output_type": "stream",
     "text": [
      "My name is Alice and I am 25 years old.\n"
     ]
    }
   ],
   "source": [
    "# Using f-strings in Python for string formatting\n",
    "\n",
    "name = \"Alice\"\n",
    "age = 25\n",
    "\n",
    "print(f\"My name is {name} and I am {age} years old.\")\n",
    "\n",
    "\"\"\"\n",
    "In this example, we have two variables: name and age. The f-string is used to create a formatted \n",
    "string where the values of these variables are inserted.\n",
    "\"\"\"\n",
    "\n",
    "\"\"\"\n",
    "In this example, we have two variables: name and age. The f-string is used to create a formatted string where the \n",
    "values of these variables are inserted.\n",
    "\n",
    "The f-string allows us to embed expressions within curly braces {}, which will be evaluated and replaced with the \n",
    "corresponding values at runtime. This makes it convenient to include variables or other expressions directly within \n",
    "the string.\n",
    "\"\"\";"
   ]
  },
  {
   "cell_type": "code",
   "execution_count": null,
   "id": "cb9fbd98",
   "metadata": {},
   "outputs": [],
   "source": []
  }
 ],
 "metadata": {
  "kernelspec": {
   "display_name": "Python 3 (ipykernel)",
   "language": "python",
   "name": "python3"
  },
  "language_info": {
   "codemirror_mode": {
    "name": "ipython",
    "version": 3
   },
   "file_extension": ".py",
   "mimetype": "text/x-python",
   "name": "python",
   "nbconvert_exporter": "python",
   "pygments_lexer": "ipython3",
   "version": "3.9.13"
  }
 },
 "nbformat": 4,
 "nbformat_minor": 5
}
