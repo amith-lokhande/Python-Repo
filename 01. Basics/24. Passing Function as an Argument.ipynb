{
 "cells": [
  {
   "cell_type": "markdown",
   "id": "a68d1c47",
   "metadata": {},
   "source": [
    "### <span style=\"background-color: yellow;\">Passing Function as an Argument</span>\n",
    "\n",
    "In Python, functions are first-class citizens, which means you can pass functions as arguments to other functions. This ability to pass functions as arguments is a powerful feature that enables higher-order functions and allows for flexible and dynamic programming.\n",
    "\n",
    "Here's an example that demonstrates passing a function as an argument in Python:"
   ]
  },
  {
   "cell_type": "code",
   "execution_count": 1,
   "id": "d3810675",
   "metadata": {},
   "outputs": [
    {
     "name": "stdout",
     "output_type": "stream",
     "text": [
      "HELLO, ALICE!\n"
     ]
    }
   ],
   "source": [
    "def greet(name):\n",
    "    return f\"Hello, {name}!\"\n",
    "\n",
    "def shout_greeting(greeting_function, name):\n",
    "    greeting = greeting_function(name)\n",
    "    shouted_greeting = greeting.upper()\n",
    "    print(shouted_greeting)\n",
    "\n",
    "shout_greeting(greet, \"Alice\")\n"
   ]
  },
  {
   "cell_type": "markdown",
   "id": "f53c465f",
   "metadata": {},
   "source": [
    "In the above example, we have two functions:\n",
    "\n",
    "1. The `greet()` function takes a `name` argument and returns a greeting string with the provided name.\n",
    "2. The `shout_greeting()` function takes two arguments: `greeting_function` (which is expected to be a function) and `name`. It calls the `greeting_function` with the provided `name`, converts the greeting to uppercase, and prints the shouted greeting.\n",
    "\n",
    "By calling `shout_greeting(greet, \"Alice\")`, we pass the `greet` function as an argument to `shout_greeting`. Inside `shout_greeting`, the `greeting_function` parameter refers to the passed function (`greet`). It then calls `greeting_function(\"Alice\")`, which invokes the `greet()` function with the provided name.\n",
    "\n",
    "This demonstrates how we can pass a function (`greet`) as an argument to another function (`shout_greeting`). The ability to pass functions as arguments allows for code reusability, modular design, and the creation of higher-order functions that can operate on other functions."
   ]
  }
 ],
 "metadata": {
  "kernelspec": {
   "display_name": "Python 3 (ipykernel)",
   "language": "python",
   "name": "python3"
  },
  "language_info": {
   "codemirror_mode": {
    "name": "ipython",
    "version": 3
   },
   "file_extension": ".py",
   "mimetype": "text/x-python",
   "name": "python",
   "nbconvert_exporter": "python",
   "pygments_lexer": "ipython3",
   "version": "3.9.13"
  }
 },
 "nbformat": 4,
 "nbformat_minor": 5
}
