{
 "cells": [
  {
   "cell_type": "markdown",
   "id": "e7584154",
   "metadata": {},
   "source": [
    "### <span style=\"background-color: yellow;\">floor() and ceil()</span>\n",
    "\n",
    "In Python, `floor` and `ceil` refer to mathematical functions that round a given number to the nearest integer in different ways:\n",
    "\n",
    "**`1. floor(x):`** The `floor` function returns the largest integer that is less than or equal to the given number `x`. It rounds down the number towards negative infinity."
   ]
  },
  {
   "cell_type": "code",
   "execution_count": 1,
   "id": "ed31d0b1",
   "metadata": {},
   "outputs": [
    {
     "name": "stdout",
     "output_type": "stream",
     "text": [
      "\n",
      " 3\n",
      "-3\n"
     ]
    }
   ],
   "source": [
    "# Example:\n",
    "\n",
    "import math\n",
    "\n",
    "print(\"\\n\", math.floor(3.7))  # Output: 3\n",
    "print(math.floor(-2.3))  # Output: -3\n"
   ]
  },
  {
   "cell_type": "markdown",
   "id": "160becea",
   "metadata": {},
   "source": [
    "In the above example, `math.floor(3.7)` returns `3` because `3` is the largest integer that is less than or equal to `3.7`. Similarly, `math.floor(-2.3)` returns `-3` because `-3` is the largest integer that is less than or equal to `-2.3`.\n",
    "\n",
    "**`2. ceil(x):`** The `ceil` function returns the smallest integer that is greater than or equal to the given number `x`. It rounds up the number towards positive infinity."
   ]
  },
  {
   "cell_type": "code",
   "execution_count": 2,
   "id": "8c08e1db",
   "metadata": {},
   "outputs": [
    {
     "name": "stdout",
     "output_type": "stream",
     "text": [
      "\n",
      " 4\n",
      "-2\n"
     ]
    }
   ],
   "source": [
    "# Example:\n",
    "\n",
    "import math\n",
    "\n",
    "print(\"\\n\", math.ceil(3.7))  # Output: 4\n",
    "print(math.ceil(-2.3))  # Output: -2\n"
   ]
  },
  {
   "cell_type": "markdown",
   "id": "bf6b191b",
   "metadata": {},
   "source": [
    "In the above example, `math.ceil(3.7)` returns `4` because `4` is the smallest integer that is greater than or equal to `3.7`. Similarly, `math.ceil(-2.3)` returns `-2` because `-2` is the smallest integer that is greater than or equal to `-2.3`.\n",
    "\n",
    "> The `floor` and `ceil` functions are part of the `math` module in Python's standard library. They are commonly used when you need to perform mathematical rounding operations and ensure specific behavior when dealing with decimal numbers."
   ]
  }
 ],
 "metadata": {
  "kernelspec": {
   "display_name": "Python 3 (ipykernel)",
   "language": "python",
   "name": "python3"
  },
  "language_info": {
   "codemirror_mode": {
    "name": "ipython",
    "version": 3
   },
   "file_extension": ".py",
   "mimetype": "text/x-python",
   "name": "python",
   "nbconvert_exporter": "python",
   "pygments_lexer": "ipython3",
   "version": "3.9.13"
  }
 },
 "nbformat": 4,
 "nbformat_minor": 5
}
