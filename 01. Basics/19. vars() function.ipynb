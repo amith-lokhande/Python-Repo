{
 "cells": [
  {
   "cell_type": "markdown",
   "id": "c02b6b16",
   "metadata": {},
   "source": [
    "In Python, **`vars()`** is a built-in function that returns the __dict__ attribute of an object. The __dict__ attribute is a dictionary containing the object's namespace, or in other words, it holds the object's attributes and their corresponding values.\n",
    "\n",
    "Here's the general syntax of the vars() function:\n",
    "\n"
   ]
  },
  {
   "cell_type": "code",
   "execution_count": null,
   "id": "42c8489d",
   "metadata": {},
   "outputs": [],
   "source": [
    "# Don't run the code \n",
    "\n",
    "vars(object)     # syntax\n"
   ]
  },
  {
   "cell_type": "markdown",
   "id": "d3711e80",
   "metadata": {},
   "source": [
    "**`object:`** The object for which you want to retrieve the attributes and their values.\n",
    "When you pass an object to the vars() function, it returns a dictionary that represents the object's attributes and their values. The keys of the dictionary are the attribute names, and the values are the corresponding attribute values.\n",
    "\n",
    "Here's an example usage of the vars() function:"
   ]
  },
  {
   "cell_type": "code",
   "execution_count": 1,
   "id": "cc6db757",
   "metadata": {},
   "outputs": [
    {
     "name": "stdout",
     "output_type": "stream",
     "text": [
      "{'name': 'John', 'age': 25}\n",
      "John\n",
      "25\n"
     ]
    }
   ],
   "source": [
    "class Person:\n",
    "    def __init__(self, name, age):\n",
    "        self.name = name\n",
    "        self.age = age\n",
    "\n",
    "person = Person(\"John\", 25)\n",
    "attributes = vars(person)\n",
    "\n",
    "print(attributes)  # {'name': 'John', 'age': 25}\n",
    "print(attributes['name'])  # 'John'\n",
    "print(attributes['age'])  # 25\n"
   ]
  },
  {
   "cell_type": "markdown",
   "id": "57dff613",
   "metadata": {},
   "source": [
    "In the above example, the **vars()** function is used to retrieve the attributes and their values from the person object. The returned dictionary attributes contains the attributes 'name' and 'age' along with their respective values.\n",
    "\n",
    "**`NOTE - `** We either get the entire dictionary (i.e., key value pair) or values to the input keys in vars() function. But, we do not get keys from input values.\n",
    "\n",
    "Here's an example."
   ]
  },
  {
   "cell_type": "code",
   "execution_count": 2,
   "id": "8a8acad5",
   "metadata": {
    "scrolled": true
   },
   "outputs": [
    {
     "ename": "KeyError",
     "evalue": "'John'",
     "output_type": "error",
     "traceback": [
      "\u001b[1;31m---------------------------------------------------------------------------\u001b[0m",
      "\u001b[1;31mKeyError\u001b[0m                                  Traceback (most recent call last)",
      "\u001b[1;32m~\\AppData\\Local\\Temp\\ipykernel_9948\\2985659733.py\u001b[0m in \u001b[0;36m<module>\u001b[1;34m\u001b[0m\n\u001b[1;32m----> 1\u001b[1;33m \u001b[0mprint\u001b[0m\u001b[1;33m(\u001b[0m\u001b[0mattributes\u001b[0m\u001b[1;33m[\u001b[0m\u001b[1;34m'John'\u001b[0m\u001b[1;33m]\u001b[0m\u001b[1;33m)\u001b[0m\u001b[1;33m\u001b[0m\u001b[1;33m\u001b[0m\u001b[0m\n\u001b[0m",
      "\u001b[1;31mKeyError\u001b[0m: 'John'"
     ]
    }
   ],
   "source": [
    "print(attributes['John'])  "
   ]
  }
 ],
 "metadata": {
  "kernelspec": {
   "display_name": "Python 3 (ipykernel)",
   "language": "python",
   "name": "python3"
  },
  "language_info": {
   "codemirror_mode": {
    "name": "ipython",
    "version": 3
   },
   "file_extension": ".py",
   "mimetype": "text/x-python",
   "name": "python",
   "nbconvert_exporter": "python",
   "pygments_lexer": "ipython3",
   "version": "3.9.13"
  }
 },
 "nbformat": 4,
 "nbformat_minor": 5
}
