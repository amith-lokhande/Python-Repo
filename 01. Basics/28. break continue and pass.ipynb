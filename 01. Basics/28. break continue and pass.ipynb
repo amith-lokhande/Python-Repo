{
 "cells": [
  {
   "cell_type": "markdown",
   "id": "1a6f96cc",
   "metadata": {},
   "source": [
    "### <span style=\"background-color: yellow;\">break, continue, and pass</span>\n",
    "\n",
    "In Python, `break`, `continue`, and `pass` are control flow statements used to alter the execution of loops and conditional statements.\n",
    "\n",
    "**`1. break statement:`** When encountered inside a loop (such as `for` or `while`), the `break` statement immediately terminates the loop, regardless of the loop condition. The program execution continues with the next statement after the loop."
   ]
  },
  {
   "cell_type": "code",
   "execution_count": 1,
   "id": "2d91db4d",
   "metadata": {},
   "outputs": [
    {
     "name": "stdout",
     "output_type": "stream",
     "text": [
      "1\n",
      "2\n",
      "3\n"
     ]
    }
   ],
   "source": [
    "# Example\n",
    "\n",
    "for i in range(1, 6):\n",
    "    if i == 4:\n",
    "        break\n",
    "    print(i)\n",
    "\n",
    "        \n",
    "# Output:\n",
    "'''\n",
    "1\n",
    "2\n",
    "3\n",
    "''';"
   ]
  },
  {
   "cell_type": "markdown",
   "id": "f2db2d51",
   "metadata": {},
   "source": [
    "In this example, when `i` becomes 4, the `break` statement is encountered, and the loop is terminated. The number 4 is not printed, and the loop is exited.\n",
    "\n",
    "**`2. continue statement:`** When encountered inside a loop, the `continue` statement skips the rest of the current iteration and moves to the next iteration of the loop. It essentially skips the remaining statements within the loop for the current iteration."
   ]
  },
  {
   "cell_type": "code",
   "execution_count": 2,
   "id": "f96ea626",
   "metadata": {},
   "outputs": [
    {
     "name": "stdout",
     "output_type": "stream",
     "text": [
      "1\n",
      "2\n",
      "4\n",
      "5\n"
     ]
    }
   ],
   "source": [
    "# Example\n",
    "\n",
    "for i in range(1, 6):\n",
    "    if i == 3:\n",
    "        continue\n",
    "    print(i)\n",
    "\n",
    "# Output:\n",
    "'''\n",
    "1\n",
    "2\n",
    "4\n",
    "5\n",
    "''';"
   ]
  },
  {
   "cell_type": "markdown",
   "id": "3d470ec7",
   "metadata": {},
   "source": [
    "In this example, when `i` becomes 3, the `continue` statement is encountered, and the remaining statements in the loop (i.e., the `print` statement) are skipped. The loop continues with the next iteration.\n",
    "\n",
    "**`3. pass statement:`** The `pass` statement is a placeholder statement that does nothing. It is used when a statement is syntactically required, but you want to have no code execution or want to indicate that the code will be added later."
   ]
  },
  {
   "cell_type": "code",
   "execution_count": 3,
   "id": "860c3939",
   "metadata": {},
   "outputs": [
    {
     "name": "stdout",
     "output_type": "stream",
     "text": [
      "1\n",
      "2\n",
      "3\n",
      "4\n",
      "5\n"
     ]
    }
   ],
   "source": [
    "# Example:\n",
    "\n",
    "for i in range(1, 6):\n",
    "    if i == 3:\n",
    "        pass\n",
    "    print(i)\n",
    "\n",
    "# Output:\n",
    "'''\n",
    "1\n",
    "2\n",
    "3\n",
    "4\n",
    "5\n",
    "''';"
   ]
  },
  {
   "cell_type": "markdown",
   "id": "e91d0b93",
   "metadata": {},
   "source": [
    "In this example, the `pass` statement has no effect on the program flow. When `i` becomes 3, the `pass` statement is encountered, but it does nothing. The loop continues with the execution of the `print` statement as usual.\n",
    "\n",
    "These control flow statements (`break`, `continue`, and `pass`) provide ways to control the flow of execution within loops and conditional statements, allowing for more flexible and specific behavior based on certain conditions or requirements."
   ]
  }
 ],
 "metadata": {
  "kernelspec": {
   "display_name": "Python 3 (ipykernel)",
   "language": "python",
   "name": "python3"
  },
  "language_info": {
   "codemirror_mode": {
    "name": "ipython",
    "version": 3
   },
   "file_extension": ".py",
   "mimetype": "text/x-python",
   "name": "python",
   "nbconvert_exporter": "python",
   "pygments_lexer": "ipython3",
   "version": "3.9.13"
  }
 },
 "nbformat": 4,
 "nbformat_minor": 5
}
