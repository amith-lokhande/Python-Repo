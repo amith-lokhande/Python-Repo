{
 "cells": [
  {
   "cell_type": "markdown",
   "id": "bda88e4a",
   "metadata": {},
   "source": [
    "### <span style=\"background-color: yellow;\">Sorting in Python</span>\n",
    "\n",
    "In Python, there are several ways to sort data, depending on the data structure and requirements. Here are some commonly used methods for sorting in Python:\n",
    "\n",
    "**1. List Sorting:**\n",
    "   - **`sort():`** This method is used to sort a list in ascending order in-place. It modifies the original list.\n",
    "   - **`sorted():`** This function returns a new sorted list without modifying the original list. It can be used to sort any iterable object, including lists."
   ]
  },
  {
   "cell_type": "code",
   "execution_count": 1,
   "id": "28f9f037",
   "metadata": {},
   "outputs": [
    {
     "name": "stdout",
     "output_type": "stream",
     "text": [
      "[1, 2, 3, 4, 5]\n",
      "[1, 2, 3, 4, 5]\n",
      "[3, 1, 4, 2, 5]\n"
     ]
    }
   ],
   "source": [
    "# Example:\n",
    "\n",
    "numbers = [3, 1, 4, 2, 5]\n",
    "numbers.sort()  # Sorts the list in-place\n",
    "print(numbers)  # Output: [1, 2, 3, 4, 5]\n",
    "\n",
    "numbers = [3, 1, 4, 2, 5]\n",
    "sorted_numbers = sorted(numbers)  # Returns a new sorted list\n",
    "print(sorted_numbers)  # Output: [1, 2, 3, 4, 5]\n",
    "print(numbers)  # Output: [3, 1, 4, 2, 5] (original list remains unchanged)\n"
   ]
  },
  {
   "cell_type": "markdown",
   "id": "b79c60f9",
   "metadata": {},
   "source": [
    "**2. Sorting with Custom Criteria:**\n",
    "   - **`sort()`** and **`sorted()`** accept an optional `key` parameter that allows you to specify a custom function to determine the sorting criteria. The function should return a value based on which the sorting will be performed."
   ]
  },
  {
   "cell_type": "code",
   "execution_count": 2,
   "id": "2f8a5fa3",
   "metadata": {},
   "outputs": [
    {
     "name": "stdout",
     "output_type": "stream",
     "text": [
      "['Bob', 'Alice', 'David', 'Charlie']\n",
      "[10, 20, 3, 5]\n"
     ]
    }
   ],
   "source": [
    "# Example:\n",
    "\n",
    "names = [\"Alice\", \"Bob\", \"Charlie\", \"David\"]\n",
    "names.sort(key=len)  # Sorts the list based on the length of names\n",
    "print(names)  # Output: ['Bob', 'Alice', 'David', 'Charlie']\n",
    "\n",
    "numbers = [10, 5, 20, 3]\n",
    "sorted_numbers = sorted(numbers, key=lambda x: x % 10)  # Sorts based on the remainder when divided by 10\n",
    "print(sorted_numbers)  # Output: [20, 10, 3, 5]\n"
   ]
  },
  {
   "cell_type": "markdown",
   "id": "994379a3",
   "metadata": {},
   "source": [
    "**3. Sorting Complex Objects:**\n",
    "   - You can sort lists of complex objects by specifying the **`key`** parameter with a function that returns the attribute or key to be used for sorting."
   ]
  },
  {
   "cell_type": "code",
   "execution_count": 3,
   "id": "5591e410",
   "metadata": {},
   "outputs": [
    {
     "name": "stdout",
     "output_type": "stream",
     "text": [
      "Charlie 20\n",
      "Alice 25\n",
      "Bob 30\n"
     ]
    }
   ],
   "source": [
    "# Example:\n",
    "\n",
    "class Person:\n",
    "    def __init__(self, name, age):\n",
    "        self.name = name\n",
    "        self.age = age\n",
    "\n",
    "people = [\n",
    "    Person(\"Alice\", 25),\n",
    "    Person(\"Bob\", 30),\n",
    "    Person(\"Charlie\", 20)\n",
    "]\n",
    "\n",
    "# Sort people by age\n",
    "sorted_people = sorted(people, key=lambda x: x.age)\n",
    "for person in sorted_people:\n",
    "    print(person.name, person.age)\n",
    "# Output:\n",
    "# Charlie 20\n",
    "# Alice 25\n",
    "# Bob 30\n"
   ]
  },
  {
   "cell_type": "markdown",
   "id": "7dd0ceed",
   "metadata": {},
   "source": [
    "> **These are just a few examples of sorting in Python. There are more advanced sorting techniques and modules available, such as the `heapq` module for heap-based sorting and the `numpy` library for sorting multidimensional arrays.**"
   ]
  },
  {
   "cell_type": "code",
   "execution_count": null,
   "id": "47e48b77",
   "metadata": {},
   "outputs": [],
   "source": []
  }
 ],
 "metadata": {
  "kernelspec": {
   "display_name": "Python 3 (ipykernel)",
   "language": "python",
   "name": "python3"
  },
  "language_info": {
   "codemirror_mode": {
    "name": "ipython",
    "version": 3
   },
   "file_extension": ".py",
   "mimetype": "text/x-python",
   "name": "python",
   "nbconvert_exporter": "python",
   "pygments_lexer": "ipython3",
   "version": "3.9.13"
  }
 },
 "nbformat": 4,
 "nbformat_minor": 5
}
