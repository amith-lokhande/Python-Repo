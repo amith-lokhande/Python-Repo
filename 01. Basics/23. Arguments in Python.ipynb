{
 "cells": [
  {
   "cell_type": "markdown",
   "id": "1f1c0f26",
   "metadata": {},
   "source": [
    "### <span style=\"background-color: yellow;\">Arguments in Python</span>\n",
    "\n",
    "In Python, arguments refer to the values that are passed into a function or method when it is called. They allow you to provide inputs or data to the function, which can be used for computation or other operations within the function's body. Python supports several types of arguments, including positional arguments, keyword arguments, default arguments, and variable-length arguments.\n",
    "\n",
    "**`1. Positional Arguments:`** These are the most common type of arguments and are matched to parameters based on their position or order. The values are passed in the same order as the parameters are defined in the function's signature."
   ]
  },
  {
   "cell_type": "code",
   "execution_count": 1,
   "id": "8b5f6d3f",
   "metadata": {},
   "outputs": [
    {
     "name": "stdout",
     "output_type": "stream",
     "text": [
      "Hello Alice you are 25 years old.\n"
     ]
    }
   ],
   "source": [
    "# Example:\n",
    "\n",
    "def greet(name, age):\n",
    "    print(\"Hello\", name, \"you are\", age, \"years old.\")\n",
    "\n",
    "greet(\"Alice\", 25)\n",
    "\n",
    "# Output: Hello Alice, you are 25 years old.\n"
   ]
  },
  {
   "cell_type": "markdown",
   "id": "72a4c249",
   "metadata": {},
   "source": [
    "**`2. Keyword Arguments:`** In this type of argument, values are passed to function parameters by specifying the parameter name along with the value. This allows you to pass arguments in any order, as long as you specify the parameter names."
   ]
  },
  {
   "cell_type": "code",
   "execution_count": 2,
   "id": "7a8250a0",
   "metadata": {},
   "outputs": [
    {
     "name": "stdout",
     "output_type": "stream",
     "text": [
      "Hello Bob you are 30 years old.\n"
     ]
    }
   ],
   "source": [
    "# Example:\n",
    "\n",
    "def greet(name, age):\n",
    "    print(\"Hello\", name, \"you are\", age, \"years old.\")\n",
    "\n",
    "greet(age=30, name=\"Bob\")\n",
    "\n",
    "# Output: Hello Bob, you are 30 years old.\n"
   ]
  },
  {
   "cell_type": "markdown",
   "id": "b830e4e0",
   "metadata": {},
   "source": [
    "**`3. Default Arguments:`** These arguments have default values assigned to them in the function definition. If a value is not provided for a default argument during the function call, the default value will be used."
   ]
  },
  {
   "cell_type": "code",
   "execution_count": 3,
   "id": "142f3c43",
   "metadata": {},
   "outputs": [
    {
     "name": "stdout",
     "output_type": "stream",
     "text": [
      "Hello Alice you are 18 years old.\n"
     ]
    }
   ],
   "source": [
    "# Example:\n",
    "\n",
    "def greet(name, age=18):\n",
    "    print(\"Hello\", name, \"you are\", age, \"years old.\")\n",
    "\n",
    "greet(\"Alice\")\n",
    "\n",
    "# Output: Hello Alice, you are 18 years old.\n"
   ]
  },
  {
   "cell_type": "markdown",
   "id": "de6a1ffa",
   "metadata": {},
   "source": [
    "**`4. Variable-Length Arguments:`** Python allows you to define functions that can accept a variable number of arguments. There are two types of variable-length arguments: *args (non-keyword variable arguments) and **kwargs (keyword variable arguments)."
   ]
  },
  {
   "cell_type": "code",
   "execution_count": 4,
   "id": "3519711f",
   "metadata": {},
   "outputs": [
    {
     "name": "stdout",
     "output_type": "stream",
     "text": [
      "15\n"
     ]
    }
   ],
   "source": [
    "# Example using *args:\n",
    "\n",
    "def sum_numbers(*args):\n",
    "    total = 0\n",
    "    for num in args:\n",
    "        total += num\n",
    "    return total\n",
    "\n",
    "result = sum_numbers(1, 2, 3, 4, 5)\n",
    "print(result)\n",
    "\n",
    "# Output: 15\n"
   ]
  },
  {
   "cell_type": "code",
   "execution_count": 5,
   "id": "ce1e1b92",
   "metadata": {
    "scrolled": true
   },
   "outputs": [
    {
     "name": "stdout",
     "output_type": "stream",
     "text": [
      "name : Alice\n",
      "age : 25\n",
      "city : London\n"
     ]
    }
   ],
   "source": [
    "# Example using **kwargs:\n",
    "\n",
    "def display_info(**kwargs):\n",
    "    for key, value in kwargs.items():\n",
    "        print(key, \":\", value)\n",
    "\n",
    "display_info(name=\"Alice\", age=25, city=\"London\")\n",
    "\n",
    "# Output:\n",
    "\n",
    "# name : Alice\n",
    "# age : 25\n",
    "# city : London\n"
   ]
  },
  {
   "cell_type": "markdown",
   "id": "2f38c3b8",
   "metadata": {},
   "source": [
    ">These different types of arguments in Python provide flexibility and allow you to write functions that can handle a variety of input scenarios."
   ]
  }
 ],
 "metadata": {
  "kernelspec": {
   "display_name": "Python 3 (ipykernel)",
   "language": "python",
   "name": "python3"
  },
  "language_info": {
   "codemirror_mode": {
    "name": "ipython",
    "version": 3
   },
   "file_extension": ".py",
   "mimetype": "text/x-python",
   "name": "python",
   "nbconvert_exporter": "python",
   "pygments_lexer": "ipython3",
   "version": "3.9.13"
  }
 },
 "nbformat": 4,
 "nbformat_minor": 5
}
