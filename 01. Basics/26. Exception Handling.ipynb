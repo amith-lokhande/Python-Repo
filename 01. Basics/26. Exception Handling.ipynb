{
 "cells": [
  {
   "cell_type": "markdown",
   "id": "2410b5f3",
   "metadata": {},
   "source": [
    "### <span style=\"background-color: yellow;\">Exception Handling</span>\n",
    "\n",
    "Exception handling in Python allows you to handle and manage runtime errors or exceptions that may occur during program execution. It helps prevent abrupt termination of the program and provides a way to gracefully handle and recover from exceptional situations. Python provides a built-in mechanism for exception handling through the use of `try`, `except`, `else`, `finally`, and `raise` statements.\n",
    "\n",
    "The basic syntax for exception handling in Python is as follows:\n",
    "\n",
    "```python\n",
    "try:\n",
    "    # Code that may raise an exception\n",
    "    # ...\n",
    "except ExceptionType1:\n",
    "    # Handler for ExceptionType1\n",
    "    # ...\n",
    "except ExceptionType2:\n",
    "    # Handler for ExceptionType2\n",
    "    # ...\n",
    "else:\n",
    "    # Code to execute if no exceptions occurred in the try block\n",
    "    # ...\n",
    "finally:\n",
    "    # Code that always executes, regardless of exceptions\n",
    "    # ...\n",
    "```\n",
    "\n",
    "Here's a breakdown of each part:\n",
    "\n",
    "- `try` block: The code that potentially raises an exception is placed within the `try` block.\n",
    "- `except` block(s): The `except` block(s) catch specific exceptions that may occur in the `try` block. Each `except` block handles a particular exception type by specifying the exception class.\n",
    "- `else` block (optional): The `else` block is executed if no exceptions occurred in the `try` block. It is typically used to specify code that should run only if no exceptions were raised.\n",
    "- `finally` block (optional): The `finally` block is always executed, regardless of whether an exception occurred. It is commonly used to define cleanup code that must be executed, such as closing files or releasing resources.\n",
    "- `raise` statement (optional): You can raise exceptions manually using the `raise` statement. It allows you to create custom exceptions or re-raise caught exceptions.\n",
    "\n",
    "Here's an example that demonstrates exception handling in Python:\n",
    "\n",
    "```python\n",
    "try:\n",
    "    x = int(input(\"Enter a number: \"))\n",
    "    result = 10 / x\n",
    "    print(\"Result:\", result)\n",
    "except ValueError:\n",
    "    print(\"Invalid input. Please enter a valid number.\")\n",
    "except ZeroDivisionError:\n",
    "    print(\"Cannot divide by zero.\")\n",
    "else:\n",
    "    print(\"No exceptions occurred.\")\n",
    "finally:\n",
    "    print(\"Execution completed.\")\n",
    "```\n",
    "\n",
    "In the above example, the user is prompted to enter a number. If the user enters an invalid value (e.g., a non-integer), a `ValueError` is raised, and the corresponding `except` block is executed. If the user enters `0`, a `ZeroDivisionError` occurs, and its respective `except` block is executed. If the user enters a valid non-zero number, the division is performed in the `try` block, and the `else` block is executed. In any case, the `finally` block is executed.\n",
    "\n",
    "Exception handling allows you to gracefully handle errors, provide appropriate error messages, and take necessary actions to handle exceptional situations, ensuring the program's smooth execution."
   ]
  },
  {
   "cell_type": "code",
   "execution_count": 1,
   "id": "cee95794",
   "metadata": {
    "scrolled": true
   },
   "outputs": [
    {
     "name": "stdout",
     "output_type": "stream",
     "text": [
      "Division result: 5.0\n",
      "Division completed successfully.\n",
      "\n",
      "Error: Division by zero is not allowed.\n",
      "\n",
      "Error: Invalid operand types for division.\n"
     ]
    }
   ],
   "source": [
    "# Example 1 - try and except\n",
    "\n",
    "def divide_numbers(x, y):\n",
    "    try:\n",
    "        result = x / y\n",
    "        print(\"Division result:\", result)\n",
    "    except ZeroDivisionError:\n",
    "        print(\"Error: Division by zero is not allowed.\")\n",
    "    except TypeError:\n",
    "        print(\"Error: Invalid operand types for division.\")\n",
    "    else:\n",
    "        print(\"Division completed successfully.\")\n",
    "\n",
    "# Case 1: Valid division\n",
    "divide_numbers(10, 2)\n",
    "\n",
    "print(\"\")\n",
    "\n",
    "# Case 2: Division by zero\n",
    "divide_numbers(8, 0)\n",
    "\n",
    "print(\"\")\n",
    "\n",
    "# Case 3: Invalid operand types\n",
    "divide_numbers(\"10\", 2)\n"
   ]
  },
  {
   "cell_type": "code",
   "execution_count": 2,
   "id": "72de351d",
   "metadata": {},
   "outputs": [
    {
     "name": "stdout",
     "output_type": "stream",
     "text": [
      "Division result: 5.0\n",
      "Division completed successfully.\n",
      "Finally block executed.\n",
      "\n",
      "Error: Division by zero is not allowed.\n",
      "Finally block executed.\n"
     ]
    }
   ],
   "source": [
    "# Example 2 - try, except and finally\n",
    "\n",
    "def divide_numbers(x, y):\n",
    "    try:\n",
    "        result = x / y\n",
    "        print(\"Division result:\", result)\n",
    "    except ZeroDivisionError:\n",
    "        print(\"Error: Division by zero is not allowed.\")\n",
    "    else:\n",
    "        print(\"Division completed successfully.\")\n",
    "    finally:\n",
    "        print(\"Finally block executed.\")\n",
    "\n",
    "# Case 1: Valid division\n",
    "divide_numbers(10, 2)\n",
    "\n",
    "print(\"\")\n",
    "\n",
    "# Case 2: Division by zero\n",
    "divide_numbers(8, 0)\n"
   ]
  }
 ],
 "metadata": {
  "kernelspec": {
   "display_name": "Python 3 (ipykernel)",
   "language": "python",
   "name": "python3"
  },
  "language_info": {
   "codemirror_mode": {
    "name": "ipython",
    "version": 3
   },
   "file_extension": ".py",
   "mimetype": "text/x-python",
   "name": "python",
   "nbconvert_exporter": "python",
   "pygments_lexer": "ipython3",
   "version": "3.9.13"
  }
 },
 "nbformat": 4,
 "nbformat_minor": 5
}
