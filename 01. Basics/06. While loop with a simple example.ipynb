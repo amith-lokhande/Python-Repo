{
 "cells": [
  {
   "cell_type": "code",
   "execution_count": 1,
   "id": "121601f9",
   "metadata": {},
   "outputs": [
    {
     "name": "stdout",
     "output_type": "stream",
     "text": [
      "Enter a number to start counting down from: 4\n",
      "4\n",
      "3\n",
      "2\n",
      "1\n",
      "0\n"
     ]
    }
   ],
   "source": [
    "# Get the starting number from the user\n",
    "start_number = int(input(\"Enter a number to start counting down from: \"))   # 4\n",
    "\n",
    "# Validate the input    \n",
    "if start_number <= 0:                                                       # Skipped\n",
    "    print(\"Please enter a positive number.\")\n",
    "else:\n",
    "    # Use a while loop to count down\n",
    "    while start_number >= 0:                                                # while 4 >= 0\n",
    "        print(start_number)                                                 # print(4,3,2,1,0)\n",
    "        start_number -= 1                                                   # Start number = 3\n"
   ]
  },
  {
   "cell_type": "code",
   "execution_count": null,
   "id": "c95e87cf",
   "metadata": {},
   "outputs": [],
   "source": []
  }
 ],
 "metadata": {
  "kernelspec": {
   "display_name": "Python 3 (ipykernel)",
   "language": "python",
   "name": "python3"
  },
  "language_info": {
   "codemirror_mode": {
    "name": "ipython",
    "version": 3
   },
   "file_extension": ".py",
   "mimetype": "text/x-python",
   "name": "python",
   "nbconvert_exporter": "python",
   "pygments_lexer": "ipython3",
   "version": "3.9.13"
  }
 },
 "nbformat": 4,
 "nbformat_minor": 5
}
