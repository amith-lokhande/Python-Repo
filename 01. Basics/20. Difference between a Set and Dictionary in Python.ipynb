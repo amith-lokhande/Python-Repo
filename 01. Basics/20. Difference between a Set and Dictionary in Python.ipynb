{
 "cells": [
  {
   "cell_type": "markdown",
   "id": "a1ed436b",
   "metadata": {},
   "source": [
    "### <span style=\"background-color: yellow;\">Difference between a Set and Dictionary in Python</span>\n",
    "\n",
    "In Python, both sets and dictionaries are data structures used to store and manipulate collections of elements. However, they have some key differences in terms of their characteristics and intended usage:\n",
    "\n",
    "**`Set:`**\n",
    "- A set is an unordered collection of unique elements. It does not allow duplicate values.\n",
    "- The elements in a set are not indexed or ordered, so you cannot access them by their position.\n",
    "- Sets are mutable, meaning you can add, remove, or modify elements after the set is created.\n",
    "- Sets are typically used when you need to store a collection of items without any particular order and want to ensure uniqueness.\n",
    "- Set elements must be hashable, which includes immutable types like numbers, strings, and tuples (as long as the tuple contains only hashable elements)."
   ]
  },
  {
   "cell_type": "code",
   "execution_count": 1,
   "id": "03a7bda7",
   "metadata": {},
   "outputs": [
    {
     "name": "stdout",
     "output_type": "stream",
     "text": [
      "{1, 2, 4, 5, 6}\n"
     ]
    }
   ],
   "source": [
    "# Example:\n",
    "\n",
    "my_set = {1, 2, 3, 4, 5}\n",
    "\n",
    "my_set.add(6)\n",
    "my_set.remove(3)\n",
    "\n",
    "print(my_set)\n",
    "\n",
    "# Output:{1, 2, 4, 5, 6}\n"
   ]
  },
  {
   "cell_type": "markdown",
   "id": "9161c678",
   "metadata": {},
   "source": [
    "**`Dictionary:`**\n",
    "- A dictionary is an unordered collection of key-value pairs.\n",
    "- Each element in a dictionary consists of a key and its associated value. Keys are unique within a dictionary, but values can be duplicated.\n",
    "- Dictionaries are mutable and allow you to add, remove, or modify key-value pairs.\n",
    "- Dictionary elements are not accessed by their position but by their keys. You can retrieve the value associated with a specific key.\n",
    "- Dictionaries are commonly used when you need to store and retrieve data based on specific keys."
   ]
  },
  {
   "cell_type": "code",
   "execution_count": 2,
   "id": "223c6ae8",
   "metadata": {},
   "outputs": [
    {
     "name": "stdout",
     "output_type": "stream",
     "text": [
      "{'name': 'Alice', 'age': 30, 'country': 'USA'}\n"
     ]
    }
   ],
   "source": [
    "# Example:\n",
    "\n",
    "my_dict = {\"name\": \"Alice\", \"age\": 25, \"city\": \"London\"}\n",
    "\n",
    "my_dict[\"age\"] = 30\n",
    "my_dict[\"country\"] = \"USA\"\n",
    "del my_dict[\"city\"]\n",
    "\n",
    "print(my_dict)\n",
    "\n",
    "# Output: {'name': 'Alice', 'age': 30, 'country': 'USA'}\n"
   ]
  },
  {
   "cell_type": "markdown",
   "id": "f7a38e05",
   "metadata": {},
   "source": [
    "To summarize, `sets` are used when you need to store a collection of unique elements without any specific order, while `dictionaries` are used to store key-value pairs for efficient retrieval of values based on keys."
   ]
  },
  {
   "cell_type": "code",
   "execution_count": null,
   "id": "9c67c60b",
   "metadata": {},
   "outputs": [],
   "source": []
  }
 ],
 "metadata": {
  "kernelspec": {
   "display_name": "Python 3 (ipykernel)",
   "language": "python",
   "name": "python3"
  },
  "language_info": {
   "codemirror_mode": {
    "name": "ipython",
    "version": 3
   },
   "file_extension": ".py",
   "mimetype": "text/x-python",
   "name": "python",
   "nbconvert_exporter": "python",
   "pygments_lexer": "ipython3",
   "version": "3.9.13"
  }
 },
 "nbformat": 4,
 "nbformat_minor": 5
}
