{
 "cells": [
  {
   "cell_type": "markdown",
   "id": "25f4226a",
   "metadata": {},
   "source": [
    "### <span style=\"background-color: yellow;\">Built-in Data Types in Python</span>\n",
    "\n",
    "Python provides several built-in data types that are commonly used to represent and manipulate different kinds of data. Some of the main built-in data types in Python include:\n",
    "\n",
    "**1. Numeric types:**\n",
    "   - **`int:`** Represents integers (whole numbers) like 42, -10, etc.\n",
    "   - **`float:`** Represents floating-point numbers with decimal values like 3.14, -0.5, etc.\n",
    "   - **`complex:`** Represents complex numbers in the form `a + bj`, where `a` and `b` are real numbers and `j` represents the imaginary unit.\n",
    "\n",
    "**2. Sequence types:**\n",
    "   - **`str:`** Represents strings of characters like \"Hello, World!\", \"Python\", etc.\n",
    "   - **`list:`** Represents ordered, mutable (changeable) sequences of elements enclosed in square brackets like [1, 2, 3], [\"apple\", \"banana\", \"cherry\"], etc.\n",
    "   - **`tuple`:** Represents ordered, immutable (unchangeable) sequences of elements enclosed in parentheses like (1, 2, 3), (\"apple\", \"banana\", \"cherry\"), etc.\n",
    "\n",
    "**3. Mapping type:**\n",
    "   - **`dict:`** Represents unordered collections of key-value pairs enclosed in curly braces like {\"name\": \"Alice\", \"age\": 25}, {\"apple\": 1, \"banana\": 2}, etc.\n",
    "\n",
    "**4. Set types:**\n",
    "   - **`set:`** Represents unordered collections of unique elements enclosed in curly braces like {1, 2, 3}, {\"apple\", \"banana\", \"cherry\"}, etc.\n",
    "   - **`frozenset:`** Represents immutable sets, similar to `set` but with unchangeable elements.\n",
    "\n",
    "**5. Boolean type:**\n",
    "   - **`bool:`** Represents the truth values `True` and `False`.\n",
    "\n",
    "**6. None type:**\n",
    "   - **`None:`** Represents the absence of a value or a null value.\n",
    "\n",
    "These built-in data types provide the fundamental building blocks for representing and working with various kinds of data in Python. They have different properties, methods, and behavior associated with them, allowing you to perform operations and manipulations specific to each data type. Additionally, Python allows for the creation of user-defined data types using classes, which further extends the capabilities of the language."
   ]
  }
 ],
 "metadata": {
  "kernelspec": {
   "display_name": "Python 3 (ipykernel)",
   "language": "python",
   "name": "python3"
  },
  "language_info": {
   "codemirror_mode": {
    "name": "ipython",
    "version": 3
   },
   "file_extension": ".py",
   "mimetype": "text/x-python",
   "name": "python",
   "nbconvert_exporter": "python",
   "pygments_lexer": "ipython3",
   "version": "3.9.13"
  }
 },
 "nbformat": 4,
 "nbformat_minor": 5
}
