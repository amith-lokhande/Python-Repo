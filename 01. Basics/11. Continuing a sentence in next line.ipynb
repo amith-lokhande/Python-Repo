{
 "cells": [
  {
   "cell_type": "markdown",
   "id": "02d12116",
   "metadata": {},
   "source": [
    "### <span style=\"background-color: yellow;\">To continue a sentence on the next line in Markdown, you can use one of the following methods:</span>"
   ]
  },
  {
   "cell_type": "markdown",
   "id": "1070831b",
   "metadata": {},
   "source": [
    "**1. Using br:**\n",
    "\n",
    "    This is a long sentence that <br>\n",
    "    continues on the next line.\n",
    "   "
   ]
  },
  {
   "cell_type": "markdown",
   "id": "f91157f1",
   "metadata": {},
   "source": [
    "**2. Use a backslash (\\) at the end of the line:**\n",
    "   ```\n",
    "   This is a long sentence that \\\n",
    "   continues on the next line.\n",
    "   ```"
   ]
  },
  {
   "cell_type": "markdown",
   "id": "1156fc35",
   "metadata": {},
   "source": [
    "**3. Use two spaces at the end of the line:**\n",
    "   ```**\n",
    "   This is a long sentence that  \n",
    "   continues on the next line.\n",
    "   ```"
   ]
  },
  {
   "cell_type": "markdown",
   "id": "e0e0fca4",
   "metadata": {},
   "source": [
    "**4. Wrap the sentence in double quotation marks (\") or parentheses ():**\n",
    "   ```\n",
    "   \"This is a long sentence that\n",
    "   continues on the next line.\"\n",
    "\n",
    "   (This is a long sentence that\n",
    "   continues on the next line.)\n",
    "   ```"
   ]
  },
  {
   "cell_type": "markdown",
   "id": "69225d62",
   "metadata": {},
   "source": [
    "**Regardless of the method you choose, the sentence will continue on the next line when the Markdown is rendered. Note that there will be no visible line break or additional spacing between the lines.**"
   ]
  }
 ],
 "metadata": {
  "kernelspec": {
   "display_name": "Python 3 (ipykernel)",
   "language": "python",
   "name": "python3"
  },
  "language_info": {
   "codemirror_mode": {
    "name": "ipython",
    "version": 3
   },
   "file_extension": ".py",
   "mimetype": "text/x-python",
   "name": "python",
   "nbconvert_exporter": "python",
   "pygments_lexer": "ipython3",
   "version": "3.9.13"
  }
 },
 "nbformat": 4,
 "nbformat_minor": 5
}
