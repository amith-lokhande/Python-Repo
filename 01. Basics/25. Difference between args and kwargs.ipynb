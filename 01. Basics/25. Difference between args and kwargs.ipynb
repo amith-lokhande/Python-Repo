{
 "cells": [
  {
   "cell_type": "markdown",
   "id": "2c787cb6",
   "metadata": {},
   "source": [
    "### <span style=\"background-color: yellow;\">Difference between `*args` and `**kwargs`</span>\n",
    "\n",
    "In Python, `*args` and `**kwargs` are special syntaxes used in function definitions to allow for a variable number of arguments. \n",
    "\n",
    "`*args` allows you to pass a variable number of positional arguments to a function. It collects these arguments into a `tuple` inside the function.\n",
    "\n",
    "`**kwargs` allows you to pass a variable number of keyword arguments (i.e., arguments specified with a name) to a function. It collects these arguments into a `dictionary` inside the function, where the keys are the argument names and the values are the corresponding values.\n",
    "\n",
    "Here's an example that demonstrates the usage of `*args` and `**kwargs`:"
   ]
  },
  {
   "cell_type": "code",
   "execution_count": 1,
   "id": "ec94fbac",
   "metadata": {},
   "outputs": [],
   "source": [
    "def show_arguments(*args, **kwargs):\n",
    "    print(\"Positional arguments:\")\n",
    "    for arg in args:\n",
    "        print(arg)\n",
    "\n",
    "    print(\"\\nKeyword arguments:\")\n",
    "    for key, value in kwargs.items():\n",
    "        print(f\"{key}: {value}\")"
   ]
  },
  {
   "cell_type": "code",
   "execution_count": 2,
   "id": "c630d708",
   "metadata": {},
   "outputs": [
    {
     "name": "stdout",
     "output_type": "stream",
     "text": [
      "Positional arguments:\n",
      "apple\n",
      "banana\n",
      "cherry\n",
      "\n",
      "Keyword arguments:\n"
     ]
    }
   ],
   "source": [
    "# Example 1: Only positional arguments\n",
    "show_arguments(\"apple\", \"banana\", \"cherry\")"
   ]
  },
  {
   "cell_type": "code",
   "execution_count": 3,
   "id": "ccec2836",
   "metadata": {},
   "outputs": [
    {
     "name": "stdout",
     "output_type": "stream",
     "text": [
      "Positional arguments:\n",
      "\n",
      "Keyword arguments:\n",
      "name: Alice\n",
      "age: 25\n",
      "city: New York\n"
     ]
    }
   ],
   "source": [
    "# Example 2: Only keyword arguments\n",
    "show_arguments(name=\"Alice\", age=25, city=\"New York\")"
   ]
  },
  {
   "cell_type": "code",
   "execution_count": 4,
   "id": "e523fed5",
   "metadata": {},
   "outputs": [
    {
     "name": "stdout",
     "output_type": "stream",
     "text": [
      "Positional arguments:\n",
      "apple\n",
      "banana\n",
      "\n",
      "Keyword arguments:\n",
      "name: Alice\n",
      "age: 25\n"
     ]
    }
   ],
   "source": [
    "# Example 3: Mixed positional and keyword arguments\n",
    "show_arguments(\"apple\", \"banana\", name=\"Alice\", age=25)"
   ]
  },
  {
   "cell_type": "markdown",
   "id": "8a647b4d",
   "metadata": {},
   "source": [
    "In the above example:\n",
    "\n",
    "1. In the first call to `show_arguments(\"apple\", \"banana\", \"cherry\")`, only positional arguments are provided. The `*args` parameter collects these arguments into a tuple inside the function. The output displays the positional arguments: \"apple\", \"banana\", \"cherry\". Since no keyword arguments are passed, the `**kwargs` parameter is an empty dictionary.\n",
    "\n",
    "2. In the second call to `show_arguments(name=\"Alice\", age=25, city=\"New York\")`, only keyword arguments are provided. The `**kwargs` parameter collects these arguments into a dictionary inside the function. The output displays the keyword arguments with their corresponding values: \"name: Alice\", \"age: 25\", \"city: New York\". Since no positional arguments are passed, the `*args` parameter is an empty tuple.\n",
    "\n",
    "3. In the third call to `show_arguments(\"apple\", \"banana\", name=\"Alice\", age=25)`, both positional and keyword arguments are provided. The `*args` parameter collects the positional arguments into a tuple, and the `**kwargs` parameter collects the keyword arguments into a dictionary. The output displays the positional arguments: \"apple\", \"banana\", and the keyword arguments with their corresponding values: \"name: Alice\", \"age: 25\".\n",
    "\n",
    "By using `*args` and `**kwargs`, you can create functions that can accept a variable number of arguments, providing flexibility and allowing callers to pass different combinations of arguments."
   ]
  },
  {
   "cell_type": "code",
   "execution_count": null,
   "id": "10dbe24b",
   "metadata": {},
   "outputs": [],
   "source": []
  }
 ],
 "metadata": {
  "kernelspec": {
   "display_name": "Python 3 (ipykernel)",
   "language": "python",
   "name": "python3"
  },
  "language_info": {
   "codemirror_mode": {
    "name": "ipython",
    "version": 3
   },
   "file_extension": ".py",
   "mimetype": "text/x-python",
   "name": "python",
   "nbconvert_exporter": "python",
   "pygments_lexer": "ipython3",
   "version": "3.9.13"
  }
 },
 "nbformat": 4,
 "nbformat_minor": 5
}
