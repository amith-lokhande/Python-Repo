{
 "cells": [
  {
   "cell_type": "code",
   "execution_count": 1,
   "id": "a51dff89",
   "metadata": {},
   "outputs": [
    {
     "name": "stdout",
     "output_type": "stream",
     "text": [
      "Jupyter Notebook version: 6.4.12\n"
     ]
    }
   ],
   "source": [
    "import pkg_resources\n",
    "\n",
    "def get_jupyter_notebook_version():\n",
    "    try:\n",
    "        version = pkg_resources.get_distribution(\"notebook\").version\n",
    "        return version\n",
    "    except pkg_resources.DistributionNotFound:\n",
    "        return \"Jupyter Notebook is not installed.\"\n",
    "\n",
    "notebook_version = get_jupyter_notebook_version()\n",
    "print(\"Jupyter Notebook version:\", notebook_version)"
   ]
  },
  {
   "cell_type": "code",
   "execution_count": null,
   "id": "bb359c40",
   "metadata": {},
   "outputs": [],
   "source": []
  }
 ],
 "metadata": {
  "kernelspec": {
   "display_name": "Python 3 (ipykernel)",
   "language": "python",
   "name": "python3"
  },
  "language_info": {
   "codemirror_mode": {
    "name": "ipython",
    "version": 3
   },
   "file_extension": ".py",
   "mimetype": "text/x-python",
   "name": "python",
   "nbconvert_exporter": "python",
   "pygments_lexer": "ipython3",
   "version": "3.9.13"
  }
 },
 "nbformat": 4,
 "nbformat_minor": 5
}
