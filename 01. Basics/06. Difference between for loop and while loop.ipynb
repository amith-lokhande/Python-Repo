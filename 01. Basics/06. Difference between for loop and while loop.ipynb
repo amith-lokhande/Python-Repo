{
 "cells": [
  {
   "cell_type": "markdown",
   "id": "767de900",
   "metadata": {},
   "source": [
    "#### The main difference between a for loop and a while loop in Python is the way they control the flow of execution.\n",
    "\n",
    "**`1. for loop:`**\n",
    "\n",
    "* A for loop is used when you have a specific sequence or collection of elements and you want to iterate over each element in that sequence.\n",
    "* It iterates over a predefined sequence or collection, such as a list, tuple, string, or range.\n",
    "* The loop continues until all the elements in the sequence have been processed.\n",
    "* It is generally used when you know the number of iterations in advance or when you want to iterate over all the elements in a sequence."
   ]
  },
  {
   "cell_type": "code",
   "execution_count": 1,
   "id": "249e1640",
   "metadata": {},
   "outputs": [
    {
     "name": "stdout",
     "output_type": "stream",
     "text": [
      "1\n",
      "2\n",
      "3\n",
      "4\n",
      "5\n"
     ]
    }
   ],
   "source": [
    "\n",
    "# For loop example\n",
    "\n",
    "numbers = [1, 2, 3, 4, 5]\n",
    "for num in numbers:\n",
    "    print(num)\n"
   ]
  },
  {
   "cell_type": "markdown",
   "id": "73da76c3",
   "metadata": {},
   "source": [
    "**`2. while loop:`**\n",
    "\n",
    "* A while loop is used when you want to repeatedly execute a block of code as long as a certain condition is true.\n",
    "* It checks the condition before each iteration and continues as long as the condition remains true.\n",
    "* The loop may or may not have a predefined number of iterations.\n",
    "* It is generally used when you don't know the exact number of iterations in advance or when you want to repeat a block of code until a specific condition is met.\n"
   ]
  },
  {
   "cell_type": "code",
   "execution_count": 2,
   "id": "dd46d8f1",
   "metadata": {},
   "outputs": [
    {
     "name": "stdout",
     "output_type": "stream",
     "text": [
      "0\n",
      "1\n",
      "2\n",
      "3\n",
      "4\n"
     ]
    }
   ],
   "source": [
    "\n",
    "# While loop example\n",
    "\n",
    "count = 0\n",
    "while count < 5:\n",
    "    print(count)\n",
    "    count += 1\n"
   ]
  }
 ],
 "metadata": {
  "kernelspec": {
   "display_name": "Python 3 (ipykernel)",
   "language": "python",
   "name": "python3"
  },
  "language_info": {
   "codemirror_mode": {
    "name": "ipython",
    "version": 3
   },
   "file_extension": ".py",
   "mimetype": "text/x-python",
   "name": "python",
   "nbconvert_exporter": "python",
   "pygments_lexer": "ipython3",
   "version": "3.9.13"
  }
 },
 "nbformat": 4,
 "nbformat_minor": 5
}
