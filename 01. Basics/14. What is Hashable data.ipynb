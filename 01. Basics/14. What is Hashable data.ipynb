{
 "cells": [
  {
   "cell_type": "markdown",
   "id": "8802fe9c",
   "metadata": {},
   "source": [
    "### <span style=\"background-color: yellow;\">Hashable Data</span>\n",
    "\n",
    "In Python, hashable data refers to objects that can be hashed, meaning they have a unique hash value associated with them. Hashing is a process of converting data into a fixed-size numerical value, which is used for various purposes such as data retrieval and comparison.\n",
    "\n",
    "Hashable data types in Python are those that are immutable, meaning their values cannot be changed after they are created. Some examples of hashable data types in Python include **integers, floats, strings, tuples, and frozensets**. These data types have a hash value associated with them that remains constant throughout their lifetime.\n",
    "\n",
    "Hashable data is important in Python because it allows objects to be used as dictionary keys or stored in sets, which require objects to be hashable for efficient lookup and comparison operations. Mutable objects like lists and dictionaries are not hashable because their values can change, and thus they cannot be used as keys in dictionaries or stored in sets directly.\n",
    "\n",
    "> **`In summary, hashable data in Python refers to objects that have a fixed hash value and can be used for efficient data retrieval and comparison operations, particularly as dictionary keys or set elements.`**"
   ]
  }
 ],
 "metadata": {
  "kernelspec": {
   "display_name": "Python 3 (ipykernel)",
   "language": "python",
   "name": "python3"
  },
  "language_info": {
   "codemirror_mode": {
    "name": "ipython",
    "version": 3
   },
   "file_extension": ".py",
   "mimetype": "text/x-python",
   "name": "python",
   "nbconvert_exporter": "python",
   "pygments_lexer": "ipython3",
   "version": "3.9.13"
  }
 },
 "nbformat": 4,
 "nbformat_minor": 5
}
