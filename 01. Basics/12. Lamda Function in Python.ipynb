{
 "cells": [
  {
   "cell_type": "markdown",
   "id": "c0a7b8d3",
   "metadata": {},
   "source": [
    "### <span style=\"background-color: yellow;\">Lamda Function in Python</span>\n",
    "\n",
    "In Python, a lambda function is a small anonymous function that can be defined without a name. It is also known as an \"anonymous function\" because it doesn't require the use of the `def` keyword to define a named function. Instead, lambda functions are typically used for simple, one-line expressions and are often used in combination with higher-order functions like `map()`, `filter()`, and `reduce()`.\n",
    "\n",
    "The general syntax of a lambda function is as follows:\n",
    "\n",
    "```python\n",
    "lambda arguments: expression\n",
    "```\n",
    "\n",
    "Here's an example to illustrate the use of lambda functions:"
   ]
  },
  {
   "cell_type": "code",
   "execution_count": 3,
   "id": "07667510",
   "metadata": {},
   "outputs": [
    {
     "name": "stdout",
     "output_type": "stream",
     "text": [
      "8\n"
     ]
    }
   ],
   "source": [
    "# Example 1: Adding two numbers using a lambda function\n",
    "\n",
    "add = lambda x, y: x + y\n",
    "\n",
    "result = add(3, 5)\n",
    "\n",
    "print(result)  # Output: 8"
   ]
  },
  {
   "cell_type": "markdown",
   "id": "a16973ee",
   "metadata": {},
   "source": [
    "In the above example, a lambda function `add` is defined with two arguments `x` and `y`. The function takes the two arguments, adds them together using the expression `x + y`, and returns the result. The lambda function is then called with arguments `3` and `5`, and the result is printed.\n",
    "\n",
    "Lambda functions can also be used with higher-order functions like `map()`. Here's an example:"
   ]
  },
  {
   "cell_type": "code",
   "execution_count": 2,
   "id": "ac535272",
   "metadata": {},
   "outputs": [
    {
     "name": "stdout",
     "output_type": "stream",
     "text": [
      "[1, 4, 9, 16, 25]\n"
     ]
    }
   ],
   "source": [
    "# Example 2: Using lambda function with map()\n",
    "\n",
    "numbers = [1, 2, 3, 4, 5]\n",
    "squared_numbers = list(map(lambda x: x ** 2, numbers))\n",
    "print(squared_numbers)  # Output: [1, 4, 9, 16, 25]"
   ]
  },
  {
   "cell_type": "markdown",
   "id": "3b974451",
   "metadata": {},
   "source": [
    "In the above example, the lambda function `lambda x: x ** 2` is passed as the first argument to the `map()` function. The lambda function takes each element from the `numbers` list, squares it using the expression `x ** 2`, and returns the squared value. The `map()` function applies this lambda function to each element of the `numbers` list and returns a new list with the squared values.\n",
    "\n",
    "Lambda functions are particularly useful when you need a simple, one-line function without the need to define a named function explicitly. However, they should be used judiciously, as overly complex or lengthy expressions can make the code less readable."
   ]
  },
  {
   "cell_type": "code",
   "execution_count": null,
   "id": "e112d4a0",
   "metadata": {},
   "outputs": [],
   "source": []
  }
 ],
 "metadata": {
  "kernelspec": {
   "display_name": "Python 3 (ipykernel)",
   "language": "python",
   "name": "python3"
  },
  "language_info": {
   "codemirror_mode": {
    "name": "ipython",
    "version": 3
   },
   "file_extension": ".py",
   "mimetype": "text/x-python",
   "name": "python",
   "nbconvert_exporter": "python",
   "pygments_lexer": "ipython3",
   "version": "3.9.13"
  }
 },
 "nbformat": 4,
 "nbformat_minor": 5
}
