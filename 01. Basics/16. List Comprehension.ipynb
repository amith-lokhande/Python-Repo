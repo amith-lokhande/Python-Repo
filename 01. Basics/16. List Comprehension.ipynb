{
 "cells": [
  {
   "cell_type": "markdown",
   "id": "5585e418",
   "metadata": {},
   "source": [
    "### <span style=\"background-color: yellow;\">List Comprehension</span>\n",
    "\n",
    "List comprehension is a concise and efficient way to create lists in Python. It allows you to create a new list by specifying an expression and an iterable, which is then iterated over to generate elements for the new list. The resulting list is constructed by evaluating the expression for each item in the iterable.\n",
    "\n",
    "Here's an example of list comprehension that creates a list of squares:"
   ]
  },
  {
   "cell_type": "code",
   "execution_count": 1,
   "id": "687ced0d",
   "metadata": {},
   "outputs": [
    {
     "name": "stdout",
     "output_type": "stream",
     "text": [
      "[1, 4, 9, 16, 25]\n"
     ]
    }
   ],
   "source": [
    "squares = [x**2 for x in range(1, 6)]\n",
    "print(squares)\n",
    "\n",
    "# Output: [1, 4, 9, 16, 25]\n"
   ]
  },
  {
   "cell_type": "markdown",
   "id": "fc0e6f87",
   "metadata": {},
   "source": [
    "In the example above, `[x**2 for x in range(1, 6)]` is the list comprehension. It iterates over the range of numbers from 1 to 5 (inclusive), where `x` takes on each value in the range. The expression `x**2` calculates the square of `x` for each value. As a result, the list `squares` is created with the squares of numbers from 1 to 5.\n",
    "\n",
    "You can also include conditions in the list comprehension to filter the items from the iterable. For example, let's create a list of even squares:"
   ]
  },
  {
   "cell_type": "code",
   "execution_count": 2,
   "id": "e1207142",
   "metadata": {},
   "outputs": [
    {
     "name": "stdout",
     "output_type": "stream",
     "text": [
      "[4, 16]\n"
     ]
    }
   ],
   "source": [
    "even_squares = [x**2 for x in range(1, 6) if x % 2 == 0]\n",
    "print(even_squares)\n",
    "\n",
    "Output: [4, 16]\n"
   ]
  },
  {
   "cell_type": "markdown",
   "id": "b2ecf0cc",
   "metadata": {},
   "source": [
    "In this case, the list comprehension only includes the squared values of even numbers (`x % 2 == 0`). As a result, the list `even_squares` contains the squares of even numbers from 1 to 5.\n",
    "\n",
    "> List comprehension provides a compact and readable way to create lists based on an iterable, with the flexibility to include conditions and expressions to define the elements. It is a powerful tool for generating lists efficiently in Python."
   ]
  }
 ],
 "metadata": {
  "kernelspec": {
   "display_name": "Python 3 (ipykernel)",
   "language": "python",
   "name": "python3"
  },
  "language_info": {
   "codemirror_mode": {
    "name": "ipython",
    "version": 3
   },
   "file_extension": ".py",
   "mimetype": "text/x-python",
   "name": "python",
   "nbconvert_exporter": "python",
   "pygments_lexer": "ipython3",
   "version": "3.9.13"
  }
 },
 "nbformat": 4,
 "nbformat_minor": 5
}
