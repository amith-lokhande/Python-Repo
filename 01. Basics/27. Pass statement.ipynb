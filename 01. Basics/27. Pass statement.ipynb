{
 "cells": [
  {
   "cell_type": "markdown",
   "id": "266d3dda",
   "metadata": {},
   "source": [
    "### <span style=\"background-color: yellow;\">Pass statement</span>\n",
    "\n",
    "In Python, the `pass` statement is a placeholder statement that does nothing. It is used when a statement is syntactically required but you don't want to perform any action or provide any code at that point. It is commonly used as a placeholder for code that will be implemented later.\n",
    "\n",
    "The `pass` statement is often used in situations where the code structure requires a statement but the actual implementation or logic is not yet available. It allows you to create empty blocks without causing a syntax error.\n",
    "\n",
    "Here's an example to illustrate the usage of `pass`:\n",
    "\n",
    "```python\n",
    "def process_data(data):\n",
    "    # Placeholder for implementing data processing logic\n",
    "    pass\n",
    "\n",
    "def perform_action():\n",
    "    # Placeholder for performing an action\n",
    "    pass\n",
    "\n",
    "if condition:\n",
    "    # Placeholder for conditional code\n",
    "    pass\n",
    "else:\n",
    "    # Placeholder for code executed when the condition is not met\n",
    "    pass\n",
    "```\n",
    "\n",
    "In the above example, `pass` is used as a placeholder in various situations:\n",
    "\n",
    "- In the `process_data` function, `pass` acts as a placeholder for the implementation of the data processing logic.\n",
    "- In the `perform_action` function, `pass` serves as a placeholder for the code that performs a specific action.\n",
    "- In the conditional code block, `pass` is used as a placeholder for both the true and false branches.\n",
    "\n",
    "Using `pass` allows you to create valid Python syntax without providing any code. It is particularly useful during initial development stages or when defining placeholders in larger code structures. Later, you can replace the `pass` statements with actual code to fulfill the intended functionality."
   ]
  },
  {
   "cell_type": "code",
   "execution_count": 3,
   "id": "ac0b5612",
   "metadata": {},
   "outputs": [
    {
     "name": "stdout",
     "output_type": "stream",
     "text": [
      "Area of the circle: 78.5\n",
      "Area of the rectangle: 12\n",
      "Perimeter of the rectangle: 14\n"
     ]
    }
   ],
   "source": [
    "# Example 1 - Using Pass\n",
    "\n",
    "class Shape:\n",
    "    def area(self):\n",
    "        # Placeholder for calculating the area of a shape\n",
    "        pass\n",
    "\n",
    "    def perimeter(self):\n",
    "        # Placeholder for calculating the perimeter of a shape\n",
    "        pass\n",
    "\n",
    "class Circle(Shape):\n",
    "    def __init__(self, radius):\n",
    "        self.radius = radius\n",
    "\n",
    "    def area(self):\n",
    "        # Implementing the area calculation for a circle\n",
    "        return 3.14 * self.radius * self.radius\n",
    "\n",
    "class Rectangle(Shape):\n",
    "    def __init__(self, length, width):\n",
    "        self.length = length\n",
    "        self.width = width\n",
    "\n",
    "    def area(self):\n",
    "        # Implementing the area calculation for a rectangle\n",
    "        return self.length * self.width\n",
    "\n",
    "    def perimeter(self):\n",
    "        # Implementing the perimeter calculation for a rectangle\n",
    "        return 2 * (self.length + self.width)\n",
    "\n",
    "# Creating instances of Circle and Rectangle\n",
    "circle = Circle(5)\n",
    "rectangle = Rectangle(3, 4)\n",
    "\n",
    "# Calculating and printing the area of the circle and rectangle\n",
    "print(\"Area of the circle:\", circle.area())\n",
    "print(\"Area of the rectangle:\", rectangle.area())\n",
    "\n",
    "# Calculating and printing the perimeter of the rectangle\n",
    "print(\"Perimeter of the rectangle:\", rectangle.perimeter())\n"
   ]
  },
  {
   "cell_type": "code",
   "execution_count": 5,
   "id": "cccfa32f",
   "metadata": {},
   "outputs": [
    {
     "name": "stdout",
     "output_type": "stream",
     "text": [
      "Area of the circle: 78.5\n",
      "Area of the rectangle: 12\n",
      "Perimeter of the rectangle: 14\n"
     ]
    }
   ],
   "source": [
    "# Example 2 - Without using Pass\n",
    "\n",
    "class Shape:\n",
    "    def area(self):\n",
    "        raise NotImplementedError(\"Subclasses must implement the area() method.\")\n",
    "\n",
    "    def perimeter(self):\n",
    "        raise NotImplementedError(\"Subclasses must implement the perimeter() method.\")\n",
    "\n",
    "class Circle(Shape):\n",
    "    def __init__(self, radius):\n",
    "        self.radius = radius\n",
    "\n",
    "    def area(self):\n",
    "        return 3.14 * self.radius * self.radius\n",
    "\n",
    "class Rectangle(Shape):\n",
    "    def __init__(self, length, width):\n",
    "        self.length = length\n",
    "        self.width = width\n",
    "\n",
    "    def area(self):\n",
    "        return self.length * self.width\n",
    "\n",
    "    def perimeter(self):\n",
    "        return 2 * (self.length + self.width)\n",
    "\n",
    "# Creating instances of Circle and Rectangle\n",
    "circle = Circle(5)\n",
    "rectangle = Rectangle(3, 4)\n",
    "\n",
    "# Calculating and printing the area of the circle and rectangle\n",
    "print(\"Area of the circle:\", circle.area())\n",
    "print(\"Area of the rectangle:\", rectangle.area())\n",
    "\n",
    "# Calculating and printing the perimeter of the rectangle\n",
    "print(\"Perimeter of the rectangle:\", rectangle.perimeter())\n"
   ]
  }
 ],
 "metadata": {
  "kernelspec": {
   "display_name": "Python 3 (ipykernel)",
   "language": "python",
   "name": "python3"
  },
  "language_info": {
   "codemirror_mode": {
    "name": "ipython",
    "version": 3
   },
   "file_extension": ".py",
   "mimetype": "text/x-python",
   "name": "python",
   "nbconvert_exporter": "python",
   "pygments_lexer": "ipython3",
   "version": "3.9.13"
  }
 },
 "nbformat": 4,
 "nbformat_minor": 5
}
