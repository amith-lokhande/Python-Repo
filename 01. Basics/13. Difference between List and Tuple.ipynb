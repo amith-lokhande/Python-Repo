{
 "cells": [
  {
   "cell_type": "markdown",
   "id": "6c76652f",
   "metadata": {},
   "source": [
    "### <span style=\"background-color: yellow;\">Difference between List and Tuple</span>\n",
    "\n",
    "Here are some differences between lists and tuples in Python, along with examples:\n",
    "\n",
    "**`1. Mutability:`**"
   ]
  },
  {
   "cell_type": "code",
   "execution_count": 1,
   "id": "96b4b44c",
   "metadata": {},
   "outputs": [
    {
     "name": "stdout",
     "output_type": "stream",
     "text": [
      "[4, 2, 3]\n"
     ]
    },
    {
     "ename": "TypeError",
     "evalue": "'tuple' object does not support item assignment",
     "output_type": "error",
     "traceback": [
      "\u001b[1;31m---------------------------------------------------------------------------\u001b[0m",
      "\u001b[1;31mTypeError\u001b[0m                                 Traceback (most recent call last)",
      "\u001b[1;32m~\\AppData\\Local\\Temp\\ipykernel_12996\\603675894.py\u001b[0m in \u001b[0;36m<module>\u001b[1;34m\u001b[0m\n\u001b[0;32m      6\u001b[0m \u001b[1;31m# Tuple Example:\u001b[0m\u001b[1;33m\u001b[0m\u001b[1;33m\u001b[0m\u001b[0m\n\u001b[0;32m      7\u001b[0m \u001b[0mmy_tuple\u001b[0m \u001b[1;33m=\u001b[0m \u001b[1;33m(\u001b[0m\u001b[1;36m1\u001b[0m\u001b[1;33m,\u001b[0m \u001b[1;36m2\u001b[0m\u001b[1;33m,\u001b[0m \u001b[1;36m3\u001b[0m\u001b[1;33m)\u001b[0m\u001b[1;33m\u001b[0m\u001b[1;33m\u001b[0m\u001b[0m\n\u001b[1;32m----> 8\u001b[1;33m \u001b[0mmy_tuple\u001b[0m\u001b[1;33m[\u001b[0m\u001b[1;36m0\u001b[0m\u001b[1;33m]\u001b[0m \u001b[1;33m=\u001b[0m \u001b[1;36m4\u001b[0m  \u001b[1;31m# This will raise an error since tuples are immutable\u001b[0m\u001b[1;33m\u001b[0m\u001b[1;33m\u001b[0m\u001b[0m\n\u001b[0m",
      "\u001b[1;31mTypeError\u001b[0m: 'tuple' object does not support item assignment"
     ]
    }
   ],
   "source": [
    "# List Example:\n",
    "my_list = [1, 2, 3]\n",
    "my_list[0] = 4\n",
    "print(my_list)  # Output: [4, 2, 3]\n",
    "\n",
    "# Tuple Example:\n",
    "my_tuple = (1, 2, 3)\n",
    "my_tuple[0] = 4  # This will raise an error since tuples are immutable\n"
   ]
  },
  {
   "cell_type": "markdown",
   "id": "82f4e5d8",
   "metadata": {},
   "source": [
    "**`2. Syntax:`**"
   ]
  },
  {
   "cell_type": "code",
   "execution_count": 2,
   "id": "bb22f59f",
   "metadata": {},
   "outputs": [],
   "source": [
    "# List Example:\n",
    "my_list = [1, 2, 3]\n",
    "\n",
    "# Tuple Example:\n",
    "my_tuple = (1, 2, 3)"
   ]
  },
  {
   "cell_type": "markdown",
   "id": "e2a613bb",
   "metadata": {},
   "source": [
    "**`3. Usage:`**"
   ]
  },
  {
   "cell_type": "code",
   "execution_count": 3,
   "id": "c1c1a0d3",
   "metadata": {},
   "outputs": [],
   "source": [
    "# List Example:\n",
    "\"\"\"Lists are commonly used when you have a collection of items that may change or need to be modified. \n",
    "For example:\"\"\";\n",
    "\n",
    "student_grades = [90, 85, 92, 78]\n",
    "\n",
    "# Tuple Example:\n",
    "\"\"\"Tuples are typically used when you want to group related data together, especially when the data should remain unchanged. \n",
    "For example:\"\"\";\n",
    "\n",
    "person = (\"John\", 25, \"USA\")\n"
   ]
  },
  {
   "cell_type": "markdown",
   "id": "c133d5b4",
   "metadata": {},
   "source": [
    "**`4. Iteration:`**\n",
    "\n",
    "Both `lists` and `tuples` can be iterated over using loops, but due to their immutability, `tuples` can provide a `safer choice` when you need to iterate over a sequence of values without accidentally modifying them.\n"
   ]
  },
  {
   "cell_type": "markdown",
   "id": "0338fd17",
   "metadata": {},
   "source": [
    "**`5. Performance:`**\n",
    "\n",
    "`Tuples` are generally slightly `faster` than `lists` because they are `immutable` and have a `simpler internal structure`. This can make a difference in performance-critical applications, but for most general use cases, the performance difference is negligible."
   ]
  }
 ],
 "metadata": {
  "kernelspec": {
   "display_name": "Python 3 (ipykernel)",
   "language": "python",
   "name": "python3"
  },
  "language_info": {
   "codemirror_mode": {
    "name": "ipython",
    "version": 3
   },
   "file_extension": ".py",
   "mimetype": "text/x-python",
   "name": "python",
   "nbconvert_exporter": "python",
   "pygments_lexer": "ipython3",
   "version": "3.9.13"
  }
 },
 "nbformat": 4,
 "nbformat_minor": 5
}
