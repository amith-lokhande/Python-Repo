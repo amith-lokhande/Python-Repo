{
 "cells": [
  {
   "cell_type": "markdown",
   "id": "2c941824",
   "metadata": {},
   "source": [
    "### <span style=\"background-color: yellow;\">Dictionary Comprehension</span>\n",
    "\n",
    "Dictionary comprehension is a concise and efficient way to create dictionaries in Python. It allows you to create a new dictionary by specifying a key-value expression and an iterable, which is then iterated over to generate key-value pairs. The resulting dictionary is constructed by evaluating the key-value expression for each item in the iterable.\n",
    "\n",
    "Here's an example of dictionary comprehension that creates a dictionary of squares:"
   ]
  },
  {
   "cell_type": "code",
   "execution_count": 1,
   "id": "3f730389",
   "metadata": {},
   "outputs": [
    {
     "name": "stdout",
     "output_type": "stream",
     "text": [
      "{1: 1, 2: 4, 3: 9, 4: 16, 5: 25}\n"
     ]
    }
   ],
   "source": [
    "squares = {x: x**2 for x in range(1, 6)}\n",
    "print(squares)\n",
    "\n",
    "# Output: {1: 1, 2: 4, 3: 9, 4: 16, 5: 25}\n"
   ]
  },
  {
   "cell_type": "markdown",
   "id": "bec16337",
   "metadata": {},
   "source": [
    "In the example above, `{x: x**2 for x in range(1, 6)}` is the dictionary comprehension. It iterates over the range of numbers from 1 to 5 (inclusive), where `x` takes on each value in the range. The key-value expression `x: x**2` generates key-value pairs where the key is the value of `x` and the value is the square of `x`. As a result, the dictionary `squares` is created with the keys as the numbers from 1 to 5 and the corresponding values as their squares.\n",
    "\n",
    "You can also include conditions in the dictionary comprehension to filter the items from the iterable. For example, let's create a dictionary of even squares:"
   ]
  },
  {
   "cell_type": "code",
   "execution_count": 2,
   "id": "a7138935",
   "metadata": {},
   "outputs": [
    {
     "name": "stdout",
     "output_type": "stream",
     "text": [
      "{2: 4, 4: 16}\n"
     ]
    }
   ],
   "source": [
    "even_squares = {x: x**2 for x in range(1, 6) if x % 2 == 0}\n",
    "print(even_squares)\n",
    "\n",
    "# Output: {2: 4, 4: 16}\n"
   ]
  },
  {
   "cell_type": "markdown",
   "id": "2afdbf9d",
   "metadata": {},
   "source": [
    "In this case, the dictionary comprehension only includes the key-value pairs where the value of `x` is even (`x % 2 == 0`). As a result, the dictionary `even_squares` contains the squares of even numbers from 1 to 5.\n",
    "\n",
    "> Dictionary comprehension provides a compact and readable way to create dictionaries based on an iterable, with the flexibility to include conditions and expressions to define the key-value pairs. It is a powerful tool for creating dictionaries efficiently in Python."
   ]
  }
 ],
 "metadata": {
  "kernelspec": {
   "display_name": "Python 3 (ipykernel)",
   "language": "python",
   "name": "python3"
  },
  "language_info": {
   "codemirror_mode": {
    "name": "ipython",
    "version": 3
   },
   "file_extension": ".py",
   "mimetype": "text/x-python",
   "name": "python",
   "nbconvert_exporter": "python",
   "pygments_lexer": "ipython3",
   "version": "3.9.13"
  }
 },
 "nbformat": 4,
 "nbformat_minor": 5
}
