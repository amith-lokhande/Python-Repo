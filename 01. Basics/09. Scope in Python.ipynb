{
 "cells": [
  {
   "cell_type": "markdown",
   "id": "49516546",
   "metadata": {},
   "source": [
    "### <span style=\"background-color: yellow;\">Scope in Python</span>\n",
    "\n",
    "Scope in Python refers to the region in a program where a variable or a name is defined and can be accessed. It determines the visibility and lifetime of a variable. Each variable in Python has a scope within which it can be referenced and manipulated.\n",
    "\n",
    "Python follows a set of rules to determine the scope of a variable. The most common types of scope in Python are:\n",
    "\n",
    "**`1. Global scope:`** Variables defined in the global scope are accessible from anywhere in the program. They are defined outside of any function or class. Global variables can be accessed by any function or class within the program."
   ]
  },
  {
   "cell_type": "code",
   "execution_count": 1,
   "id": "9b0e3981",
   "metadata": {},
   "outputs": [
    {
     "name": "stdout",
     "output_type": "stream",
     "text": [
      "10\n"
     ]
    }
   ],
   "source": [
    "# Example:\n",
    "\n",
    "x = 10  # Global variable\n",
    "\n",
    "def print_global():\n",
    "    print(x)  # Accessing global variable\n",
    "\n",
    "print_global()  # Output: 10\n"
   ]
  },
  {
   "cell_type": "markdown",
   "id": "c4fea627",
   "metadata": {},
   "source": [
    "**`2. Local scope:`** Variables defined within a function have local scope and are accessible only within that specific function. Local variables are created when the function is called and destroyed when the function completes execution."
   ]
  },
  {
   "cell_type": "code",
   "execution_count": 2,
   "id": "4671de4f",
   "metadata": {},
   "outputs": [
    {
     "name": "stdout",
     "output_type": "stream",
     "text": [
      "20\n"
     ]
    }
   ],
   "source": [
    "# Example:\n",
    "\n",
    "def print_local():\n",
    "    y = 20  # Local variable\n",
    "    print(y)  # Accessing local variable\n",
    "\n",
    "print_local()  # Output: 20\n"
   ]
  },
  {
   "cell_type": "markdown",
   "id": "27b68c1c",
   "metadata": {},
   "source": [
    "**`3. Enclosing scope (Closure):`** When a function is defined inside another function, the inner function has access to variables in the outer function's scope. This is known as a closure or an enclosing scope."
   ]
  },
  {
   "cell_type": "code",
   "execution_count": 3,
   "id": "738f851a",
   "metadata": {},
   "outputs": [
    {
     "name": "stdout",
     "output_type": "stream",
     "text": [
      "30\n"
     ]
    }
   ],
   "source": [
    "# Example:\n",
    "\n",
    "def outer():\n",
    "    z = 30  # Enclosing variable\n",
    "\n",
    "    def inner():\n",
    "        print(z)  # Accessing enclosing variable\n",
    "\n",
    "    inner()\n",
    "\n",
    "outer()  # Output: 30\n"
   ]
  },
  {
   "cell_type": "markdown",
   "id": "2130cadd",
   "metadata": {},
   "source": [
    "**`4. Built-in scope:`** Python provides a set of built-in functions and modules that are available throughout the program. These built-in names have a built-in scope and can be accessed from anywhere in the program."
   ]
  },
  {
   "cell_type": "code",
   "execution_count": 4,
   "id": "a7743dc8",
   "metadata": {},
   "outputs": [
    {
     "name": "stdout",
     "output_type": "stream",
     "text": [
      "3.141592653589793\n"
     ]
    }
   ],
   "source": [
    "# Example:\n",
    "\n",
    "import math\n",
    "\n",
    "print(math.pi)  # Accessing built-in name from the math module"
   ]
  },
  {
   "cell_type": "markdown",
   "id": "ce5c00ba",
   "metadata": {},
   "source": [
    "> Understanding the scope of variables is crucial for avoiding naming conflicts, understanding the visibility of variables within different parts of the program, and managing the lifetime of variables appropriately. It helps ensure proper variable usage and prevents unintended consequences."
   ]
  }
 ],
 "metadata": {
  "kernelspec": {
   "display_name": "Python 3 (ipykernel)",
   "language": "python",
   "name": "python3"
  },
  "language_info": {
   "codemirror_mode": {
    "name": "ipython",
    "version": 3
   },
   "file_extension": ".py",
   "mimetype": "text/x-python",
   "name": "python",
   "nbconvert_exporter": "python",
   "pygments_lexer": "ipython3",
   "version": "3.9.13"
  }
 },
 "nbformat": 4,
 "nbformat_minor": 5
}
