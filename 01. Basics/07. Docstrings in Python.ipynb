{
 "cells": [
  {
   "cell_type": "markdown",
   "id": "e40de6c2",
   "metadata": {},
   "source": [
    "### <span style=\"background-color: yellow;\">Docstrings in Python</span>\n",
    "\n",
    "In Python, a docstring is a string literal that serves as documentation for a `module`, `function`, `class`, or `method`. It is used to describe the purpose, behavior, and usage of the object it is associated with. Docstrings are enclosed in `triple quotes (either single or double quotes)` and are typically placed as the first statement following the definition of the object.\n",
    "\n",
    "Here's an example of a docstring for a function:"
   ]
  },
  {
   "cell_type": "code",
   "execution_count": 1,
   "id": "68b0204b",
   "metadata": {},
   "outputs": [],
   "source": [
    "def add_numbers(a, b):\n",
    "    \"\"\"\n",
    "    Adds two numbers and returns the result.\n",
    "\n",
    "    Parameters:\n",
    "    a (int): The first number.\n",
    "    b (int): The second number.\n",
    "\n",
    "    Returns:\n",
    "    int: The sum of the two numbers.\n",
    "    \"\"\"\n",
    "    return a + b\n"
   ]
  },
  {
   "cell_type": "code",
   "execution_count": 2,
   "id": "7bac63a6",
   "metadata": {},
   "outputs": [
    {
     "data": {
      "text/plain": [
       "'\\n    Adds two numbers and returns the result.\\n\\n    Parameters:\\n    a (int): The first number.\\n    b (int): The second number.\\n\\n    Returns:\\n    int: The sum of the two numbers.\\n    '"
      ]
     },
     "execution_count": 2,
     "metadata": {},
     "output_type": "execute_result"
    }
   ],
   "source": [
    "# Accessing Docstrings - Using __doc__ method\n",
    "\n",
    "add_numbers.__doc__"
   ]
  },
  {
   "cell_type": "code",
   "execution_count": 3,
   "id": "544da864",
   "metadata": {},
   "outputs": [
    {
     "name": "stdout",
     "output_type": "stream",
     "text": [
      "Help on function add_numbers in module __main__:\n",
      "\n",
      "add_numbers(a, b)\n",
      "    Adds two numbers and returns the result.\n",
      "    \n",
      "    Parameters:\n",
      "    a (int): The first number.\n",
      "    b (int): The second number.\n",
      "    \n",
      "    Returns:\n",
      "    int: The sum of the two numbers.\n",
      "\n"
     ]
    }
   ],
   "source": [
    "# Accessing Docstrings - Using help() function\n",
    "\n",
    "help(add_numbers)"
   ]
  },
  {
   "cell_type": "markdown",
   "id": "658702b9",
   "metadata": {},
   "source": [
    "> In the example above, the docstring provides information about the purpose, parameters, and return value of the `add_numbers` function. It describes what the function does, what inputs it expects (`a` and `b`), and what it returns. The docstring serves as a form of documentation that can be accessed by users or other developers to understand how to use the function correctly.\n",
    "\n",
    "> Docstrings can also be used for modules, classes, and methods to provide similar documentation. They are accessible via the `__doc__` attribute of the respective object. For example, `add_numbers.__doc__` would return the docstring of the `add_numbers` function.\n",
    "\n",
    "> Docstrings can also be accessed using the `help()` function. For example, `help(add_numbers)` would return the docstring of the `add_numbers` function. Compared to `__doc__` attribute `help()` function is much more readable and easier to understand.  \n",
    "\n",
    "> Properly documenting your code using docstrings is considered good programming practice as it promotes code readability, helps others understand and use your code, and enables automated tools (like documentation generators) to extract and present documentation."
   ]
  }
 ],
 "metadata": {
  "kernelspec": {
   "display_name": "Python 3 (ipykernel)",
   "language": "python",
   "name": "python3"
  },
  "language_info": {
   "codemirror_mode": {
    "name": "ipython",
    "version": 3
   },
   "file_extension": ".py",
   "mimetype": "text/x-python",
   "name": "python",
   "nbconvert_exporter": "python",
   "pygments_lexer": "ipython3",
   "version": "3.9.13"
  }
 },
 "nbformat": 4,
 "nbformat_minor": 5
}
