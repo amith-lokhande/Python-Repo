{
 "cells": [
  {
   "cell_type": "markdown",
   "id": "5adce517",
   "metadata": {},
   "source": [
    "<h1> <center> SCOTLAND'S FOOTBALL ANALYSIS FROM 1872 TO 2022  \n",
    "\n",
    "\n",
    "___"
   ]
  },
  {
   "cell_type": "markdown",
   "id": "578f55e2",
   "metadata": {},
   "source": [
    "**Link to Dataset** - https://www.kaggle.com/datasets/martj42/international-football-results-from-1872-to-2017\n"
   ]
  },
  {
   "cell_type": "markdown",
   "id": "cab7e98e",
   "metadata": {},
   "source": [
    "<h4> INSTALLING LIBRARIES"
   ]
  },
  {
   "cell_type": "code",
   "execution_count": null,
   "id": "ba4ff143",
   "metadata": {},
   "outputs": [],
   "source": [
    "# Installing both \"opendatasets\" as well as \"pandas\"\n",
    "!pip install opendatasets pandas --upgrade --quiet"
   ]
  },
  {
   "cell_type": "markdown",
   "id": "a1098563",
   "metadata": {},
   "source": [
    "<h4> IMPORTING LIBRARIES"
   ]
  },
  {
   "cell_type": "code",
   "execution_count": 1,
   "id": "53611a51",
   "metadata": {
    "scrolled": true
   },
   "outputs": [],
   "source": [
    "import opendatasets as od\n",
    "\n",
    "# os module provides functions for interacting with the operating system \n",
    "import os\n",
    "\n",
    "import pandas as pd\n",
    "import numpy as np\n",
    "\n",
    "# Visualization Libraries\n",
    "import seaborn as sns\n",
    "import matplotlib\n",
    "import matplotlib.pyplot as plt\n",
    "%matplotlib inline\n",
    "\n",
    "# NOTE - if '%matplotlib inline' is not used sometimes plots may show up in pop-up windows"
   ]
  },
  {
   "cell_type": "code",
   "execution_count": 2,
   "id": "7d76c0ea",
   "metadata": {},
   "outputs": [
    {
     "name": "stdout",
     "output_type": "stream",
     "text": [
      "Skipping, found downloaded files in \".\\international-football-results-from-1872-to-2017\" (use force=True to force download)\n"
     ]
    }
   ],
   "source": [
    "# Downloading the file\n",
    "od.download('https://www.kaggle.com/datasets/martj42/international-football-results-from-1872-to-2017')"
   ]
  },
  {
   "cell_type": "code",
   "execution_count": 3,
   "id": "f3fdf92e",
   "metadata": {},
   "outputs": [
    {
     "data": {
      "text/plain": [
       "['results.csv', 'shootouts.csv']"
      ]
     },
     "execution_count": 3,
     "metadata": {},
     "output_type": "execute_result"
    }
   ],
   "source": [
    "# Checking the downloaded files\n",
    "os.listdir('international-football-results-from-1872-to-2017')"
   ]
  },
  {
   "cell_type": "code",
   "execution_count": 4,
   "id": "b86190f5",
   "metadata": {
    "scrolled": true
   },
   "outputs": [
    {
     "name": "stdout",
     "output_type": "stream",
     "text": [
      "<class 'pandas.core.frame.DataFrame'>\n",
      "RangeIndex: 43752 entries, 0 to 43751\n",
      "Data columns (total 9 columns):\n",
      " #   Column      Non-Null Count  Dtype \n",
      "---  ------      --------------  ----- \n",
      " 0   date        43752 non-null  object\n",
      " 1   home_team   43752 non-null  object\n",
      " 2   away_team   43752 non-null  object\n",
      " 3   home_score  43752 non-null  int64 \n",
      " 4   away_score  43752 non-null  int64 \n",
      " 5   tournament  43752 non-null  object\n",
      " 6   city        43752 non-null  object\n",
      " 7   country     43752 non-null  object\n",
      " 8   neutral     43752 non-null  bool  \n",
      "dtypes: bool(1), int64(2), object(6)\n",
      "memory usage: 2.7+ MB\n"
     ]
    }
   ],
   "source": [
    "# Now lets read the data using `pandas` and also create a variable name for the dataframe \n",
    "football_df = pd.read_csv('results.csv')\n",
    "football_df.info()"
   ]
  },
  {
   "cell_type": "code",
   "execution_count": 5,
   "id": "93719e63",
   "metadata": {},
   "outputs": [
    {
     "data": {
      "text/plain": [
       "date          0\n",
       "home_team     0\n",
       "away_team     0\n",
       "home_score    0\n",
       "away_score    0\n",
       "tournament    0\n",
       "city          0\n",
       "country       0\n",
       "neutral       0\n",
       "dtype: int64"
      ]
     },
     "execution_count": 5,
     "metadata": {},
     "output_type": "execute_result"
    }
   ],
   "source": [
    "# Checking for Null values in the df\n",
    "football_df.isna().sum()"
   ]
  },
  {
   "cell_type": "markdown",
   "id": "ecbecffc",
   "metadata": {},
   "source": [
    "**We can proceed further as there are `no null values` in the dataset**"
   ]
  },
  {
   "cell_type": "markdown",
   "id": "28482aa1",
   "metadata": {},
   "source": [
    "**Lets create a new column called `home_team_result` with 3 outputs to the game i.e., `Win, Draw or Loss`  \n",
    "And similarly create `away_team_result` as well**"
   ]
  },
  {
   "cell_type": "code",
   "execution_count": 6,
   "id": "34224298",
   "metadata": {
    "scrolled": true
   },
   "outputs": [
    {
     "data": {
      "text/plain": [
       "Index(['date', 'home_team', 'away_team', 'home_score', 'away_score',\n",
       "       'tournament', 'city', 'country', 'neutral', 'home_team_result',\n",
       "       'away_team_result'],\n",
       "      dtype='object')"
      ]
     },
     "execution_count": 6,
     "metadata": {},
     "output_type": "execute_result"
    }
   ],
   "source": [
    "football_df.loc[football_df['home_score'] > football_df['away_score'], 'home_team_result'] = 'Win'\n",
    "football_df.loc[football_df['home_score'] < football_df['away_score'], 'home_team_result'] = 'Loss'\n",
    "football_df.loc[football_df['home_score'] == football_df['away_score'], 'home_team_result'] = 'Draw'\n",
    "\n",
    "football_df.loc[football_df['away_score'] > football_df['home_score'], 'away_team_result'] = 'Win'\n",
    "football_df.loc[football_df['away_score'] < football_df['home_score'], 'away_team_result'] = 'Loss'\n",
    "football_df.loc[football_df['away_score'] == football_df['home_score'], 'away_team_result'] = 'Draw'\n",
    "\n",
    "football_df.columns"
   ]
  },
  {
   "cell_type": "markdown",
   "id": "bcb915b5",
   "metadata": {},
   "source": [
    "___"
   ]
  },
  {
   "cell_type": "markdown",
   "id": "894ed2d6",
   "metadata": {},
   "source": [
    "### OBJECTIVES\n",
    "\n",
    "   \n",
    "For our analysis I'll be choosing a specific country (i.e.,`Scotland` in my case) and try to answer some intresting questions realted to it \n",
    "\n",
    "**Questions** - \n",
    "\n",
    "* 1. Scotland's Overall Performance in all Tournaments (i.e., Win, Draw and Loss)\n",
    "* 2. Scotland's Top 5 Tournaments\n",
    "* 3. Average goals scored by Scotland in \n",
    "  * a. Neutral Venue\n",
    "  * b. Home Venue\n",
    "  * c. Away Venue\n",
    "* 4. Scotland's perfomance in top 15 countries by\n",
    "  * 1a. Win Count\n",
    "  * 1b. Win Ratio\n",
    "  * 2a. Draw Count\n",
    "  * 2b. Draw Ratio\n",
    "  * 3a. Loss Count\n",
    "  * 3b. Loss Ratio\n",
    "*  * 5a. Best scoring cities for Scotland  \n",
    "   * 5b. Worst scoring cities for Scotland "
   ]
  },
  {
   "cell_type": "markdown",
   "id": "c5634d35",
   "metadata": {},
   "source": [
    "___"
   ]
  },
  {
   "cell_type": "markdown",
   "id": "3192b754",
   "metadata": {},
   "source": [
    "#### DATA ON SCOTLAND\n",
    "\n",
    "Here we only look at `Scotland's` data from all the countries and name the dataframe as `scotland_df` "
   ]
  },
  {
   "cell_type": "code",
   "execution_count": 7,
   "id": "5063a30a",
   "metadata": {},
   "outputs": [
    {
     "name": "stdout",
     "output_type": "stream",
     "text": [
      "<class 'pandas.core.frame.DataFrame'>\n",
      "Int64Index: 810 entries, 0 to 809\n",
      "Data columns (total 11 columns):\n",
      " #   Column            Non-Null Count  Dtype \n",
      "---  ------            --------------  ----- \n",
      " 0   date              810 non-null    object\n",
      " 1   home_team         810 non-null    object\n",
      " 2   away_team         810 non-null    object\n",
      " 3   home_score        810 non-null    int64 \n",
      " 4   away_score        810 non-null    int64 \n",
      " 5   tournament        810 non-null    object\n",
      " 6   city              810 non-null    object\n",
      " 7   country           810 non-null    object\n",
      " 8   neutral           810 non-null    bool  \n",
      " 9   home_team_result  810 non-null    object\n",
      " 10  away_team_result  810 non-null    object\n",
      "dtypes: bool(1), int64(2), object(8)\n",
      "memory usage: 70.4+ KB\n"
     ]
    }
   ],
   "source": [
    "# Creating a df called \"scotland_home\" to select only 'Scotland' in the 'home_team' column\n",
    "scotland_home = football_df[football_df.home_team == 'Scotland']\n",
    "scotland_home\n",
    "\n",
    "# Similarly creating a df called \"scotland_away\"\n",
    "scotland_away = football_df[football_df.away_team == 'Scotland']\n",
    "scotland_away\n",
    "\n",
    "# Merging both \"scotland_home\" & \"scotland_away\" into a single df called \"scotland_df\"\n",
    "scotland_df = scotland_home.merge(scotland_away, how='outer')\n",
    "\n",
    "# Viewing the df\n",
    "scotland_df.info()"
   ]
  },
  {
   "cell_type": "code",
   "execution_count": 8,
   "id": "6ad92286",
   "metadata": {
    "scrolled": true
   },
   "outputs": [
    {
     "data": {
      "text/plain": [
       "810"
      ]
     },
     "execution_count": 8,
     "metadata": {},
     "output_type": "execute_result"
    }
   ],
   "source": [
    "len(scotland_df)"
   ]
  },
  {
   "cell_type": "markdown",
   "id": "09bb5587",
   "metadata": {},
   "source": [
    "Now, let's create a new column called `team result` where Scotland's match result is displayed irrespective of home or away games"
   ]
  },
  {
   "cell_type": "code",
   "execution_count": 9,
   "id": "38e03e53",
   "metadata": {
    "scrolled": true
   },
   "outputs": [
    {
     "data": {
      "text/html": [
       "<div>\n",
       "<style scoped>\n",
       "    .dataframe tbody tr th:only-of-type {\n",
       "        vertical-align: middle;\n",
       "    }\n",
       "\n",
       "    .dataframe tbody tr th {\n",
       "        vertical-align: top;\n",
       "    }\n",
       "\n",
       "    .dataframe thead th {\n",
       "        text-align: right;\n",
       "    }\n",
       "</style>\n",
       "<table border=\"1\" class=\"dataframe\">\n",
       "  <thead>\n",
       "    <tr style=\"text-align: right;\">\n",
       "      <th></th>\n",
       "      <th>date</th>\n",
       "      <th>home_team</th>\n",
       "      <th>away_team</th>\n",
       "      <th>home_score</th>\n",
       "      <th>away_score</th>\n",
       "      <th>tournament</th>\n",
       "      <th>city</th>\n",
       "      <th>country</th>\n",
       "      <th>neutral</th>\n",
       "      <th>home_team_result</th>\n",
       "      <th>away_team_result</th>\n",
       "      <th>team_result</th>\n",
       "    </tr>\n",
       "  </thead>\n",
       "  <tbody>\n",
       "    <tr>\n",
       "      <th>0</th>\n",
       "      <td>1872-11-30</td>\n",
       "      <td>Scotland</td>\n",
       "      <td>England</td>\n",
       "      <td>0</td>\n",
       "      <td>0</td>\n",
       "      <td>Friendly</td>\n",
       "      <td>Glasgow</td>\n",
       "      <td>Scotland</td>\n",
       "      <td>False</td>\n",
       "      <td>Draw</td>\n",
       "      <td>Draw</td>\n",
       "      <td>Draw</td>\n",
       "    </tr>\n",
       "    <tr>\n",
       "      <th>1</th>\n",
       "      <td>1874-03-07</td>\n",
       "      <td>Scotland</td>\n",
       "      <td>England</td>\n",
       "      <td>2</td>\n",
       "      <td>1</td>\n",
       "      <td>Friendly</td>\n",
       "      <td>Glasgow</td>\n",
       "      <td>Scotland</td>\n",
       "      <td>False</td>\n",
       "      <td>Win</td>\n",
       "      <td>Loss</td>\n",
       "      <td>Win</td>\n",
       "    </tr>\n",
       "    <tr>\n",
       "      <th>2</th>\n",
       "      <td>1876-03-04</td>\n",
       "      <td>Scotland</td>\n",
       "      <td>England</td>\n",
       "      <td>3</td>\n",
       "      <td>0</td>\n",
       "      <td>Friendly</td>\n",
       "      <td>Glasgow</td>\n",
       "      <td>Scotland</td>\n",
       "      <td>False</td>\n",
       "      <td>Win</td>\n",
       "      <td>Loss</td>\n",
       "      <td>Win</td>\n",
       "    </tr>\n",
       "    <tr>\n",
       "      <th>3</th>\n",
       "      <td>1876-03-25</td>\n",
       "      <td>Scotland</td>\n",
       "      <td>Wales</td>\n",
       "      <td>4</td>\n",
       "      <td>0</td>\n",
       "      <td>Friendly</td>\n",
       "      <td>Glasgow</td>\n",
       "      <td>Scotland</td>\n",
       "      <td>False</td>\n",
       "      <td>Win</td>\n",
       "      <td>Loss</td>\n",
       "      <td>Win</td>\n",
       "    </tr>\n",
       "    <tr>\n",
       "      <th>4</th>\n",
       "      <td>1878-03-02</td>\n",
       "      <td>Scotland</td>\n",
       "      <td>England</td>\n",
       "      <td>7</td>\n",
       "      <td>2</td>\n",
       "      <td>Friendly</td>\n",
       "      <td>Glasgow</td>\n",
       "      <td>Scotland</td>\n",
       "      <td>False</td>\n",
       "      <td>Win</td>\n",
       "      <td>Loss</td>\n",
       "      <td>Win</td>\n",
       "    </tr>\n",
       "    <tr>\n",
       "      <th>...</th>\n",
       "      <td>...</td>\n",
       "      <td>...</td>\n",
       "      <td>...</td>\n",
       "      <td>...</td>\n",
       "      <td>...</td>\n",
       "      <td>...</td>\n",
       "      <td>...</td>\n",
       "      <td>...</td>\n",
       "      <td>...</td>\n",
       "      <td>...</td>\n",
       "      <td>...</td>\n",
       "      <td>...</td>\n",
       "    </tr>\n",
       "    <tr>\n",
       "      <th>805</th>\n",
       "      <td>2021-10-12</td>\n",
       "      <td>Faroe Islands</td>\n",
       "      <td>Scotland</td>\n",
       "      <td>0</td>\n",
       "      <td>1</td>\n",
       "      <td>FIFA World Cup qualification</td>\n",
       "      <td>Tórshavn</td>\n",
       "      <td>Faroe Islands</td>\n",
       "      <td>False</td>\n",
       "      <td>Loss</td>\n",
       "      <td>Win</td>\n",
       "      <td>Win</td>\n",
       "    </tr>\n",
       "    <tr>\n",
       "      <th>806</th>\n",
       "      <td>2021-11-12</td>\n",
       "      <td>Moldova</td>\n",
       "      <td>Scotland</td>\n",
       "      <td>0</td>\n",
       "      <td>2</td>\n",
       "      <td>FIFA World Cup qualification</td>\n",
       "      <td>Chișinău</td>\n",
       "      <td>Moldova</td>\n",
       "      <td>False</td>\n",
       "      <td>Loss</td>\n",
       "      <td>Win</td>\n",
       "      <td>Win</td>\n",
       "    </tr>\n",
       "    <tr>\n",
       "      <th>807</th>\n",
       "      <td>2022-03-29</td>\n",
       "      <td>Austria</td>\n",
       "      <td>Scotland</td>\n",
       "      <td>2</td>\n",
       "      <td>2</td>\n",
       "      <td>Friendly</td>\n",
       "      <td>Vienna</td>\n",
       "      <td>Austria</td>\n",
       "      <td>False</td>\n",
       "      <td>Draw</td>\n",
       "      <td>Draw</td>\n",
       "      <td>Draw</td>\n",
       "    </tr>\n",
       "    <tr>\n",
       "      <th>808</th>\n",
       "      <td>2022-06-11</td>\n",
       "      <td>Republic of Ireland</td>\n",
       "      <td>Scotland</td>\n",
       "      <td>3</td>\n",
       "      <td>0</td>\n",
       "      <td>UEFA Nations League</td>\n",
       "      <td>Dublin</td>\n",
       "      <td>Republic of Ireland</td>\n",
       "      <td>False</td>\n",
       "      <td>Win</td>\n",
       "      <td>Loss</td>\n",
       "      <td>Loss</td>\n",
       "    </tr>\n",
       "    <tr>\n",
       "      <th>809</th>\n",
       "      <td>2022-06-14</td>\n",
       "      <td>Armenia</td>\n",
       "      <td>Scotland</td>\n",
       "      <td>1</td>\n",
       "      <td>4</td>\n",
       "      <td>UEFA Nations League</td>\n",
       "      <td>Yerevan</td>\n",
       "      <td>Armenia</td>\n",
       "      <td>False</td>\n",
       "      <td>Loss</td>\n",
       "      <td>Win</td>\n",
       "      <td>Win</td>\n",
       "    </tr>\n",
       "  </tbody>\n",
       "</table>\n",
       "<p>810 rows × 12 columns</p>\n",
       "</div>"
      ],
      "text/plain": [
       "           date            home_team away_team  home_score  away_score  \\\n",
       "0    1872-11-30             Scotland   England           0           0   \n",
       "1    1874-03-07             Scotland   England           2           1   \n",
       "2    1876-03-04             Scotland   England           3           0   \n",
       "3    1876-03-25             Scotland     Wales           4           0   \n",
       "4    1878-03-02             Scotland   England           7           2   \n",
       "..          ...                  ...       ...         ...         ...   \n",
       "805  2021-10-12        Faroe Islands  Scotland           0           1   \n",
       "806  2021-11-12              Moldova  Scotland           0           2   \n",
       "807  2022-03-29              Austria  Scotland           2           2   \n",
       "808  2022-06-11  Republic of Ireland  Scotland           3           0   \n",
       "809  2022-06-14              Armenia  Scotland           1           4   \n",
       "\n",
       "                       tournament      city              country  neutral  \\\n",
       "0                        Friendly   Glasgow             Scotland    False   \n",
       "1                        Friendly   Glasgow             Scotland    False   \n",
       "2                        Friendly   Glasgow             Scotland    False   \n",
       "3                        Friendly   Glasgow             Scotland    False   \n",
       "4                        Friendly   Glasgow             Scotland    False   \n",
       "..                            ...       ...                  ...      ...   \n",
       "805  FIFA World Cup qualification  Tórshavn        Faroe Islands    False   \n",
       "806  FIFA World Cup qualification  Chișinău              Moldova    False   \n",
       "807                      Friendly    Vienna              Austria    False   \n",
       "808           UEFA Nations League    Dublin  Republic of Ireland    False   \n",
       "809           UEFA Nations League   Yerevan              Armenia    False   \n",
       "\n",
       "    home_team_result away_team_result team_result  \n",
       "0               Draw             Draw        Draw  \n",
       "1                Win             Loss         Win  \n",
       "2                Win             Loss         Win  \n",
       "3                Win             Loss         Win  \n",
       "4                Win             Loss         Win  \n",
       "..               ...              ...         ...  \n",
       "805             Loss              Win         Win  \n",
       "806             Loss              Win         Win  \n",
       "807             Draw             Draw        Draw  \n",
       "808              Win             Loss        Loss  \n",
       "809             Loss              Win         Win  \n",
       "\n",
       "[810 rows x 12 columns]"
      ]
     },
     "execution_count": 9,
     "metadata": {},
     "output_type": "execute_result"
    }
   ],
   "source": [
    "scotland_df.loc[scotland_df['home_team'] == 'Scotland', 'team_result'] = scotland_df['home_team_result']\n",
    "scotland_df.loc[scotland_df['away_team'] == 'Scotland', 'team_result'] = scotland_df['away_team_result']\n",
    "\n",
    "scotland_df"
   ]
  },
  {
   "cell_type": "markdown",
   "id": "a15d7438",
   "metadata": {},
   "source": [
    "___"
   ]
  },
  {
   "cell_type": "markdown",
   "id": "919027c5",
   "metadata": {},
   "source": [
    "<h3> 1. Scotland's Overall Performance in all Tournaments (i.e., Win, Draw and Loss)"
   ]
  },
  {
   "cell_type": "markdown",
   "id": "18926679",
   "metadata": {},
   "source": [
    "Let's see Scotland's results in terms of `%` by plotting a `pie chart`"
   ]
  },
  {
   "cell_type": "code",
   "execution_count": 41,
   "id": "c6a64484",
   "metadata": {},
   "outputs": [
    {
     "data": {
      "image/png": "[encoded data removed]",
      "text/plain": [
       "<Figure size 864x432 with 1 Axes>"
      ]
     },
     "metadata": {},
     "output_type": "display_data"
    }
   ],
   "source": [
    "# results_counts gives the count of matches won, drawn and lost by Scotland\n",
    "results_counts = scotland_df.team_result.value_counts()\n",
    "\n",
    "# Plotting Pie Chart in % \n",
    "plt.figure(figsize=(12,6))\n",
    "plt.title('Scotland Results in all tournaments')\n",
    "\n",
    "explode = (0.1, 0.1, 0)\n",
    "plt.style.use('ggplot')\n",
    "plt.axis('equal')\n",
    "plt.pie(results_counts, labels=results_counts.index, autopct='%1.2f%%',\n",
    "        explode=explode, startangle=0, shadow=True);"
   ]
  },
  {
   "cell_type": "markdown",
   "id": "d9737dab",
   "metadata": {},
   "source": [
    "**INSIGHTS** - In a total of `810 matches` played by Scotland until 14-June-2022, Scotland has the following results  \n",
    "\n",
    ">Win percentage of around **`47%`**  \n",
    "Draw percentage of around **`31%`**  \n",
    "Loss Percentage of around **`21%`**\n",
    "\n",
    "From the above data we can infer that Scotland wins around `half` of it's matches played overall "
   ]
  },
  {
   "cell_type": "markdown",
   "id": "2795c81a",
   "metadata": {},
   "source": [
    "___"
   ]
  },
  {
   "cell_type": "markdown",
   "id": "da02897e",
   "metadata": {},
   "source": [
    "<h3> 2. Scotland's Top 5 Tournaments"
   ]
  },
  {
   "cell_type": "code",
   "execution_count": 11,
   "id": "71e8d560",
   "metadata": {},
   "outputs": [
    {
     "data": {
      "image/png": "[encoded data removed]",
      "text/plain": [
       "<Figure size 864x432 with 1 Axes>"
      ]
     },
     "metadata": {},
     "output_type": "display_data"
    }
   ],
   "source": [
    "# setting the gird style\n",
    "sns.set_style('whitegrid')\n",
    "\n",
    "# plotting the graph\n",
    "plt.figure(figsize=(12,6))\n",
    "plt.xticks(rotation=0)\n",
    "plt.title('Top 5 Tournaments of Scotland by Games Played')\n",
    "\n",
    "sns.countplot(y='tournament', hue='team_result', \n",
    "              order=['British Championship', 'Friendly', 'FIFA World Cup qualification', 'UEFA Euro qualification', 'FIFA World Cup'], \n",
    "              hue_order=['Win','Draw','Loss'],\n",
    "              palette='PuBu_r',\n",
    "              data=scotland_df);"
   ]
  },
  {
   "cell_type": "markdown",
   "id": "9dca3c5b",
   "metadata": {},
   "source": [
    "**INSIGHTS** -\n",
    "\n",
    "From the above graph we can infer that the \"`British Championship`\" is the most played Tournament by Scotland. We can also see that they've won most of their matches and have lost few in this competition which indicates a good performance on their part in this competition .\n",
    "\n",
    "On the other hand, we see that Scotland’s 5th most played tournament is the \"FIFA World Cup\". By looking at the graph we can say that their perfomance is poor in this tournament as they’ve lost more matches than they’ve won.     "
   ]
  },
  {
   "cell_type": "markdown",
   "id": "e4ae791b",
   "metadata": {},
   "source": [
    "<h5> Finidng the years that Scotland has qualified for FIFA World Cup "
   ]
  },
  {
   "cell_type": "code",
   "execution_count": 12,
   "id": "fd444b36",
   "metadata": {},
   "outputs": [
    {
     "data": {
      "text/plain": [
       "array(['1954', '1958', '1974', '1978', '1982', '1986', '1990', '1998'],\n",
       "      dtype=object)"
      ]
     },
     "execution_count": 12,
     "metadata": {},
     "output_type": "execute_result"
    }
   ],
   "source": [
    "# Changing the datatype of date from \"object\" to \"datetime\"\n",
    "scotland_df['date'] = scotland_df['date'].apply(pd.to_datetime)\n",
    "\n",
    "# Filtering data by Fifa World Cup\n",
    "scot_df_fwc = scotland_df.loc[scotland_df['tournament'] == 'FIFA World Cup']\n",
    "\n",
    "# Selecting only year from the date column   \n",
    "scot_fwc_year = scot_df_fwc['date'].apply(lambda x: x.strftime('%Y'))\n",
    "\n",
    "# Using the unique() function to find the years Scotland has qualified for FIfa World Cup\n",
    "np.sort(scot_fwc_year.unique())"
   ]
  },
  {
   "cell_type": "markdown",
   "id": "f1b2f4ef",
   "metadata": {},
   "source": [
    "___"
   ]
  },
  {
   "cell_type": "markdown",
   "id": "48c2145a",
   "metadata": {},
   "source": [
    "<h3> 3. Average goals scored by Scotland in   \n",
    "<h4> a. Neutral Venue\n",
    "<h4> b. Home Venue\n",
    "<h4> c. Away Venue"
   ]
  },
  {
   "cell_type": "markdown",
   "id": "426441c3",
   "metadata": {},
   "source": [
    "<h3> a. Scotland's avg score in Neutral Venue"
   ]
  },
  {
   "cell_type": "markdown",
   "id": "5e21f7a7",
   "metadata": {},
   "source": [
    "**Creating a df for Scotland's results in `Neutral Venue`** "
   ]
  },
  {
   "cell_type": "code",
   "execution_count": 13,
   "id": "3f2bba33",
   "metadata": {},
   "outputs": [
    {
     "data": {
      "text/plain": [
       "(44, 12)"
      ]
     },
     "execution_count": 13,
     "metadata": {},
     "output_type": "execute_result"
    }
   ],
   "source": [
    "# Here we \"copy\" the df to avoid the possibility of warning  \n",
    "scotland_df_neutral = scotland_df[scotland_df.neutral == 1].copy()\n",
    "scotland_df_neutral.shape"
   ]
  },
  {
   "cell_type": "markdown",
   "id": "71913022",
   "metadata": {},
   "source": [
    "**Cleaning the data**"
   ]
  },
  {
   "cell_type": "code",
   "execution_count": 14,
   "id": "a7f3f228",
   "metadata": {
    "scrolled": true
   },
   "outputs": [],
   "source": [
    "# Creating a new field called \"team score\" \n",
    "scotland_df_neutral.loc[scotland_df_neutral['home_team'] == 'Scotland', 'team_score'] = scotland_df['home_score']\n",
    "scotland_df_neutral.loc[scotland_df_neutral['away_team'] == 'Scotland', 'team_score'] = scotland_df['away_score']\n",
    "\n",
    "# Setting the datatype of \"team_score\" to int from float \n",
    "scotland_df_neutral['team_score'] = scotland_df_neutral['team_score'].astype(int)\n",
    "\n",
    "# Dropping unwanted columns \n",
    "scotland_df_neutral = scotland_df_neutral.drop(['home_team_result', 'away_team_result'], axis=1)"
   ]
  },
  {
   "cell_type": "markdown",
   "id": "7f9e77a0",
   "metadata": {},
   "source": [
    "**Analyzing the data**"
   ]
  },
  {
   "cell_type": "code",
   "execution_count": 15,
   "id": "d501669f",
   "metadata": {
    "scrolled": false
   },
   "outputs": [],
   "source": [
    "# Grouping the data by \"team result\"\n",
    "tr_grp_neut = scotland_df_neutral.groupby('team_result')\n",
    "\n",
    "# Mean score of Scotland for Neutral venue in \"winning\" scenarios\n",
    "neut_win = tr_grp_neut.get_group('Win')\n",
    "neut_win_mean = neut_win['team_score'].mean().round(2)\n",
    "\n",
    "# Similarly calculating means for \"drawing\" and \"losing\" scenarios\n",
    "neut_draw = tr_grp_neut.get_group('Draw')\n",
    "neut_draw_mean = neut_draw['team_score'].mean().round(2)\n",
    "\n",
    "neut_loss = tr_grp_neut.get_group('Loss')\n",
    "neut_loss_mean = neut_loss['team_score'].mean().round(2)"
   ]
  },
  {
   "cell_type": "markdown",
   "id": "bc8a5426",
   "metadata": {},
   "source": [
    "<h3> b. Scotland's avg score in Home Venue"
   ]
  },
  {
   "cell_type": "markdown",
   "id": "ebc26fa2",
   "metadata": {},
   "source": [
    "**Creating a df for Scotland's results in `home_teams` with `no neutral venues`**"
   ]
  },
  {
   "cell_type": "code",
   "execution_count": 16,
   "id": "6bfe84dd",
   "metadata": {},
   "outputs": [
    {
     "data": {
      "text/plain": [
       "(379, 11)"
      ]
     },
     "execution_count": 16,
     "metadata": {},
     "output_type": "execute_result"
    }
   ],
   "source": [
    "scotland_home_nn = scotland_home[scotland_home.neutral == 0].copy()\n",
    "scotland_home_nn.shape"
   ]
  },
  {
   "cell_type": "markdown",
   "id": "89b7633e",
   "metadata": {},
   "source": [
    "**Cleaning the data**"
   ]
  },
  {
   "cell_type": "code",
   "execution_count": 17,
   "id": "edfe517b",
   "metadata": {
    "scrolled": true
   },
   "outputs": [],
   "source": [
    "# Renaming the column \"home_team_result\" to  \"team_result\"\n",
    "scotland_home_nn.rename(columns = {'home_team_result':'team_result'}, inplace = True)\n",
    "\n",
    "# Removing the column called \"away_team_result\"\n",
    "scotland_home_nn.drop(['away_team_result'], axis=1, inplace=True)\n",
    "\n",
    "# Creating a new column called \"team_score\"\n",
    "scotland_home_nn['team_score'] = scotland_home_nn['home_score']"
   ]
  },
  {
   "cell_type": "markdown",
   "id": "fe5a27c2",
   "metadata": {},
   "source": [
    "**Analyzing the data**"
   ]
  },
  {
   "cell_type": "code",
   "execution_count": 18,
   "id": "484a7183",
   "metadata": {},
   "outputs": [],
   "source": [
    "# Grouping the data by \"team result\"\n",
    "tr_grp_home = scotland_home_nn.groupby('team_result')\n",
    "\n",
    "# Mean scores of Scotland for Home venue in \"Win, Draw & Loss\" scenarios\n",
    "home_win = tr_grp_home.get_group('Win')\n",
    "home_win_mean = home_win['team_score'].mean().round(2)\n",
    "\n",
    "home_draw = tr_grp_home.get_group('Draw')\n",
    "home_draw_mean = home_draw['team_score'].mean().round(2)\n",
    "\n",
    "home_loss = tr_grp_home.get_group('Loss')\n",
    "home_loss_mean = home_loss['team_score'].mean().round(2)"
   ]
  },
  {
   "cell_type": "markdown",
   "id": "ffb4cb2c",
   "metadata": {},
   "source": [
    "<h3> c. Scotland's avg score in Away Venues"
   ]
  },
  {
   "cell_type": "markdown",
   "id": "384fa5c4",
   "metadata": {},
   "source": [
    "**Creating a df for Scotland's results in `away_teams` with `no neutral venues`**"
   ]
  },
  {
   "cell_type": "code",
   "execution_count": 19,
   "id": "5c1ee20c",
   "metadata": {},
   "outputs": [
    {
     "data": {
      "text/plain": [
       "(387, 11)"
      ]
     },
     "execution_count": 19,
     "metadata": {},
     "output_type": "execute_result"
    }
   ],
   "source": [
    "scotland_away_nn = scotland_away[scotland_away.neutral == 0].copy()\n",
    "scotland_away_nn.shape"
   ]
  },
  {
   "cell_type": "markdown",
   "id": "8a53ff22",
   "metadata": {},
   "source": [
    "**Cleaning the data**"
   ]
  },
  {
   "cell_type": "code",
   "execution_count": 20,
   "id": "33ba4619",
   "metadata": {
    "scrolled": true
   },
   "outputs": [],
   "source": [
    "# Renaming the column \"away_team_result\" to  \"team_result\"\n",
    "scotland_away_nn.rename(columns = {'away_team_result':'team_result'}, inplace = True)\n",
    "\n",
    "# Removing the column called \"home_team_result\"\n",
    "scotland_away_nn.drop(['home_team_result'], axis=1, inplace=True)\n",
    "\n",
    "# Creating a new column called \"team_score\"\n",
    "scotland_away_nn['team_score'] = scotland_away_nn['away_score']"
   ]
  },
  {
   "cell_type": "markdown",
   "id": "e710bd55",
   "metadata": {},
   "source": [
    "**Analyzing the data**"
   ]
  },
  {
   "cell_type": "code",
   "execution_count": 21,
   "id": "912edfda",
   "metadata": {},
   "outputs": [],
   "source": [
    "# Grouping the data by \"team result\"\n",
    "tr_grp_away = scotland_away_nn.groupby('team_result')\n",
    "\n",
    "# Mean scores of Scotland for Home venue in \"Win, Draw & Loss\" scenarios\n",
    "away_win = tr_grp_away.get_group('Win')\n",
    "away_win_mean = away_win['team_score'].mean().round(2)\n",
    "\n",
    "away_draw = tr_grp_away.get_group('Draw')\n",
    "away_draw_mean = away_draw['team_score'].mean().round(2)\n",
    "\n",
    "away_loss = tr_grp_away.get_group('Loss')\n",
    "away_loss_mean = away_loss['team_score'].mean().round(2)"
   ]
  },
  {
   "cell_type": "markdown",
   "id": "6150f239",
   "metadata": {},
   "source": [
    "<H4>Combining all the results"
   ]
  },
  {
   "cell_type": "code",
   "execution_count": 22,
   "id": "4894c442",
   "metadata": {
    "scrolled": true
   },
   "outputs": [
    {
     "name": "stdout",
     "output_type": "stream",
     "text": [
      "The mean scores of Scotland in Neutral Venue in a total of 44 games are \n",
      " Win  - 3.08 \n",
      " Draw - 0.92 \n",
      " Loss - 0.47\n",
      "\n",
      "\n",
      "The mean scores of Scotland in Home Venue in a total of 379 games are \n",
      " Win  - 2.84 \n",
      " Draw - 0.91 \n",
      " Loss - 0.53\n",
      "\n",
      "\n",
      "The mean scores of Scotland in Away Venue in a total of 387 games are \n",
      " Win  - 2.77 \n",
      " Draw - 1.01 \n",
      " Loss - 0.57\n"
     ]
    }
   ],
   "source": [
    "print(\"The mean scores of Scotland in Neutral Venue in a total of 44 games are \\n Win  - {} \\n Draw - {} \\n Loss - {}\"\n",
    "      .format(neut_win_mean, neut_draw_mean, neut_loss_mean))\n",
    "print('\\n')\n",
    "print(\"The mean scores of Scotland in Home Venue in a total of 379 games are \\n Win  - {} \\n Draw - {} \\n Loss - {}\"\n",
    "      .format(home_win_mean, home_draw_mean, home_loss_mean))\n",
    "print('\\n')\n",
    "print(\"The mean scores of Scotland in Away Venue in a total of 387 games are \\n Win  - {} \\n Draw - {} \\n Loss - {}\"\n",
    "      .format(away_win_mean, away_draw_mean, away_loss_mean))"
   ]
  },
  {
   "cell_type": "markdown",
   "id": "7a2aaca1",
   "metadata": {},
   "source": [
    "**INSIGHTS** -\n",
    "\n",
    "From the above analysis we can conclude that be it any venue, Scotland scores\n",
    "\n",
    ">around **`3 goals per game on an average if they win`**  \n",
    "around **`1 goal per game on an average if they draw`** and  \n",
    "around **`1 goal in 2 games on an average if the lose`**.\n",
    "\n",
    "**Note** - Scotland has played only 44 games in Neutral Venue. That is significantly lower if we consider games played in both Home and Away Venues. But if they had played more games the results could've been different. In order to tackle this issue we took weighed averages of all 3 venues for each result. We found the results to be more or less the same which indicates that it does not affect our conclusion. \n",
    "\n",
    "The weighted average of all 3 venues for each result are as follows\n",
    "\n",
    "Win  - 2.82  \n",
    "Draw - 0.96  \n",
    "Loss - 0.54  "
   ]
  },
  {
   "cell_type": "markdown",
   "id": "1676a3f7",
   "metadata": {},
   "source": [
    "---"
   ]
  },
  {
   "cell_type": "markdown",
   "id": "0c7405a0",
   "metadata": {},
   "source": [
    "<h3> 4. Scotland's perfomance in top 15 countries by  \n",
    "\n",
    "    \n",
    "<h4>1a. Win Count  \n",
    "\n",
    "1b. Win Ratio\n",
    "    \n",
    "<h4>2a. Draw Count  \n",
    "\n",
    "2b. Draw Ratio\n",
    " \n",
    "<h4>3a. Loss Count  \n",
    "\n",
    "3b. Loss Ratio  "
   ]
  },
  {
   "cell_type": "markdown",
   "id": "e8f8f96d",
   "metadata": {},
   "source": [
    "#### Grouping scotland_df based on the team_result i.e., `Win, Draw & loss`"
   ]
  },
  {
   "cell_type": "code",
   "execution_count": 23,
   "id": "a617a584",
   "metadata": {},
   "outputs": [],
   "source": [
    "# Creating a new column called \"opponent\"\n",
    "scotland_df.loc[scotland_df['home_team'] == 'Scotland', 'opponent'] = scotland_df['away_team']\n",
    "scotland_df.loc[scotland_df['away_team'] == 'Scotland', 'opponent'] = scotland_df['home_team']\n",
    "\n",
    "# Removing \"home_team_result\" and \"away_team_result\" columns (as they are not required for our analysis)\n",
    "scotland_df.drop(['home_team_result', 'away_team_result'], axis=1, inplace=True)"
   ]
  },
  {
   "cell_type": "code",
   "execution_count": 24,
   "id": "10e1bd74",
   "metadata": {},
   "outputs": [
    {
     "data": {
      "text/plain": [
       "England                117\n",
       "Wales                  106\n",
       "Northern Ireland        95\n",
       "Austria                 23\n",
       "Netherlands             20\n",
       "                      ... \n",
       "Paraguay                 1\n",
       "Qatar                    1\n",
       "Trinidad and Tobago      1\n",
       "Morocco                  1\n",
       "Mexico                   1\n",
       "Name: opponent, Length: 78, dtype: int64"
      ]
     },
     "execution_count": 24,
     "metadata": {},
     "output_type": "execute_result"
    }
   ],
   "source": [
    "# Finding the total number of opponents Scotland has played against\n",
    "overall_opp = scotland_df['opponent'].value_counts()\n",
    "overall_opp\n",
    "\n",
    "# There are 78 opponents in total scotland has played against with the majority of matches being played against their fellow UK nations"
   ]
  },
  {
   "cell_type": "markdown",
   "id": "a69147fc",
   "metadata": {},
   "source": [
    "#### Creating a seperate `df` for Scotland's Opponents"
   ]
  },
  {
   "cell_type": "code",
   "execution_count": 25,
   "id": "b785f08d",
   "metadata": {},
   "outputs": [],
   "source": [
    "# Converting the data from \"series\" to \"frame\"\n",
    "overall_opp_df = overall_opp.to_frame('Games Played')\n",
    "\n",
    "# Resetting the Index \n",
    "overall_opp_df.reset_index(level =[None], inplace = True)\n",
    "\n",
    "# Renaming the Columns\n",
    "overall_opp_df.rename(columns = {'index':'Country'}, inplace = True)"
   ]
  },
  {
   "cell_type": "code",
   "execution_count": 26,
   "id": "f0c0062f",
   "metadata": {
    "scrolled": false
   },
   "outputs": [
    {
     "data": {
      "image/png": "[encoded data removed]",
      "text/plain": [
       "<Figure size 864x432 with 1 Axes>"
      ]
     },
     "metadata": {},
     "output_type": "display_data"
    }
   ],
   "source": [
    "# Top 15 opponents of Scotland\n",
    "top_15_opp = overall_opp_df.head(15)\n",
    "\n",
    "# setting the gird style\n",
    "sns.set_style('whitegrid')\n",
    "\n",
    "# plotting the graph\n",
    "plt.figure(figsize=(12,6))\n",
    "plt.xticks(rotation=0)\n",
    "plt.title(\"Top 15 Opponents of Scotland by Games Played\")\n",
    "\n",
    "sns.barplot(x='Games Played', y='Country',\n",
    "            palette='crest_r',\n",
    "            data=top_15_opp);"
   ]
  },
  {
   "cell_type": "code",
   "execution_count": 27,
   "id": "17af1055",
   "metadata": {},
   "outputs": [],
   "source": [
    "# Grouping data by Results i.e., Win, Draw and Loss\n",
    "tr_grp_scot = scotland_df.groupby('team_result')\n",
    "\n",
    "scot_win = tr_grp_scot.get_group('Win').copy()\n",
    "scot_draw = tr_grp_scot.get_group('Draw').copy()\n",
    "scot_loss = tr_grp_scot.get_group('Loss').copy()"
   ]
  },
  {
   "cell_type": "markdown",
   "id": "127b1e24",
   "metadata": {},
   "source": [
    "#### 1. Top 15 `winning` opponents for Scotland along with win ratio"
   ]
  },
  {
   "cell_type": "markdown",
   "id": "40128e3e",
   "metadata": {},
   "source": [
    "#### a. Top 15 countries for Scotland by `Wins`"
   ]
  },
  {
   "cell_type": "code",
   "execution_count": 28,
   "id": "4953a400",
   "metadata": {},
   "outputs": [],
   "source": [
    "# Top 15 countries by win for Scotland\n",
    "win_top_15 = scot_win['opponent'].value_counts().head(15)\n",
    "\n",
    "# Converting the data from \"series\" to \"frame\"\n",
    "win_top_15_df = win_top_15.to_frame('Games Played')\n",
    "win_top_15_df.reset_index(level =[None], inplace = True)\n",
    "win_top_15_df.rename(columns = {'index':'Country'}, inplace = True)"
   ]
  },
  {
   "cell_type": "markdown",
   "id": "007be17c",
   "metadata": {},
   "source": [
    "#### b. Top 15 countries for Scotland by `Win Ratio` "
   ]
  },
  {
   "cell_type": "code",
   "execution_count": 29,
   "id": "1b5b8c30",
   "metadata": {},
   "outputs": [],
   "source": [
    "# Calculting win ratio for Scotland against other countries\n",
    "win_ratio = (win_top_15 / overall_opp * 100).round(2)\n",
    "\n",
    "# Win Ratio of top 15 countries against Scotland\n",
    "top_15_win_ratio = win_ratio.sort_values(ascending = False).dropna().head(15)\n",
    "\n",
    "# Converting the data from \"series\" to \"frame\"\n",
    "top_15_win_ratio_df = top_15_win_ratio.to_frame('Win Ratio')\n",
    "top_15_win_ratio_df.reset_index(level =[None], inplace = True)\n",
    "top_15_win_ratio_df.rename(columns = {'index':'Country'}, inplace = True)"
   ]
  },
  {
   "cell_type": "markdown",
   "id": "2db13c82",
   "metadata": {},
   "source": [
    "#### 2. Top 15 `drawn` opponents for Scotland along with draw ratio"
   ]
  },
  {
   "cell_type": "markdown",
   "id": "e4d4c453",
   "metadata": {},
   "source": [
    "#### a. Top 15 countries for Scotland by `Draws`"
   ]
  },
  {
   "cell_type": "code",
   "execution_count": 30,
   "id": "a195848a",
   "metadata": {},
   "outputs": [],
   "source": [
    "# Top 15 countries by draw for Scotland\n",
    "draw_top_15 = scot_draw['opponent'].value_counts().head(15)\n",
    "\n",
    "# Converting the data from \"series\" to \"frame\"\n",
    "draw_top_15_df = draw_top_15.to_frame('Games Played')\n",
    "draw_top_15_df.reset_index(level =[None], inplace = True)\n",
    "draw_top_15_df.rename(columns = {'index':'Country'}, inplace = True)"
   ]
  },
  {
   "cell_type": "markdown",
   "id": "50e99b84",
   "metadata": {},
   "source": [
    "#### b. Top 15 countries for Scotland by `Draw Ratio` "
   ]
  },
  {
   "cell_type": "code",
   "execution_count": 31,
   "id": "1700e8b6",
   "metadata": {},
   "outputs": [],
   "source": [
    "# Calculting draw ratio for Scotland against other countries\n",
    "draw_ratio = (draw_top_15 / overall_opp * 100).round(2)\n",
    "\n",
    "# Draw Ratio of top 15 countries against Scotland\n",
    "top_15_draw_ratio = draw_ratio.sort_values(ascending = False).dropna().head(15)\n",
    "\n",
    "# Converting the data from \"series\" to \"frame\"\n",
    "top_15_draw_ratio_df = top_15_draw_ratio.to_frame('Draw Ratio')\n",
    "top_15_draw_ratio_df.reset_index(level =[None], inplace = True)\n",
    "top_15_draw_ratio_df.rename(columns = {'index':'Country'}, inplace = True)"
   ]
  },
  {
   "cell_type": "markdown",
   "id": "8d6620ee",
   "metadata": {},
   "source": [
    "#### 3. Top 5 losining opponents for Scotland"
   ]
  },
  {
   "cell_type": "markdown",
   "id": "8af00ada",
   "metadata": {},
   "source": [
    "#### a. Top 15 countries for Scotland by `Loss`"
   ]
  },
  {
   "cell_type": "code",
   "execution_count": 32,
   "id": "ff8d4d02",
   "metadata": {},
   "outputs": [],
   "source": [
    "# Top 15 countries by loss for Scotland\n",
    "loss_top_15 = scot_loss['opponent'].value_counts().head(15)\n",
    "\n",
    "# Converting the data from \"series\" to \"frame\"\n",
    "loss_top_15_df = loss_top_15.to_frame('Games Played')\n",
    "loss_top_15_df.reset_index(level =[None], inplace = True)\n",
    "loss_top_15_df.rename(columns = {'index':'Country'}, inplace = True)"
   ]
  },
  {
   "cell_type": "markdown",
   "id": "43ccd898",
   "metadata": {},
   "source": [
    "#### b. Top 15 countries for Scotland by `Loss Ratio` "
   ]
  },
  {
   "cell_type": "code",
   "execution_count": 33,
   "id": "98ee2c11",
   "metadata": {},
   "outputs": [],
   "source": [
    "# Calculting loss ratio for Scotland against other countries\n",
    "loss_ratio = (loss_top_15 / overall_opp * 100).round(2)\n",
    "\n",
    "# Loss Ratio of top 15 countries against Scotland\n",
    "top_15_loss_ratio = loss_ratio.sort_values(ascending = False).dropna().head(15)\n",
    "\n",
    "# Converting the data from \"series\" to \"frame\"\n",
    "top_15_loss_ratio_df = top_15_loss_ratio.to_frame('Loss Ratio')\n",
    "top_15_loss_ratio_df.reset_index(level =[None], inplace = True)\n",
    "top_15_loss_ratio_df.rename(columns = {'index':'Country'}, inplace = True)"
   ]
  },
  {
   "cell_type": "markdown",
   "id": "baa25e7a",
   "metadata": {},
   "source": [
    "#### Plotting all the charts in grids"
   ]
  },
  {
   "cell_type": "code",
   "execution_count": 34,
   "id": "d39a5a14",
   "metadata": {},
   "outputs": [
    {
     "data": {
      "image/png": "[encoded data removed]",
      "text/plain": [
       "<Figure size 1152x576 with 6 Axes>"
      ]
     },
     "metadata": {},
     "output_type": "display_data"
    }
   ],
   "source": [
    "fig, axes = plt.subplots(2, 3, figsize=(16, 8))\n",
    "\n",
    "# 1. Top 15 countries for Scotland by \"Wins\"\n",
    "axes[0,0].set_title(\"Top 15 countries for Scotland by Wins\")\n",
    "sns.barplot(x='Games Played', y='Country',\n",
    "            palette=\"crest_r\",\n",
    "            data=win_top_15_df,\n",
    "            ax=axes[0,0]);\n",
    "\n",
    "# 2. Top 15 countries for Scotland by \"Draws\"\n",
    "axes[0,1].set_title(\"Top 15 countries for Scotland by Draws\")\n",
    "sns.barplot(x='Games Played', y='Country',\n",
    "            palette=\"crest_r\",\n",
    "            data=draw_top_15_df,\n",
    "            ax=axes[0,1]);\n",
    "\n",
    "# 3. Top 15 countries for Scotland by \"Loss\"\n",
    "axes[0,2].set_title(\"Top 15 countries for Scotland by Loss\")\n",
    "sns.barplot(x='Games Played', y='Country',\n",
    "            palette=\"crest_r\",\n",
    "            data=loss_top_15_df,\n",
    "            ax=axes[0,2]);\n",
    "\n",
    "\n",
    "# 4. Top 15 countries for Scotland by \"Win Ratio\"\n",
    "axes[1,0].set_title(\"Top 15 countries for Scotland by Win Ratio in %\")\n",
    "sns.barplot(x='Win Ratio', y='Country',\n",
    "            palette=\"crest_r\",\n",
    "            data=top_15_win_ratio_df,\n",
    "            ax=axes[1,0]);\n",
    "\n",
    "# 5. Top 15 countries for Scotland by \"Draw Ratio\"\n",
    "axes[1,1].set_title(\"Top 15 countries for Scotland by Draw Ratio in %\")\n",
    "sns.barplot(x='Draw Ratio', y='Country',\n",
    "            palette=\"crest_r\",\n",
    "            data=top_15_draw_ratio_df,\n",
    "            ax=axes[1,1]);\n",
    "\n",
    "# 6. Top 15 countries for Scotland by \"Loss Ratio\"\n",
    "axes[1,2].set_title(\"Top 15 countries for Scotland by Loss Ratio in %\")\n",
    "sns.barplot(x='Loss Ratio', y='Country',\n",
    "            palette=\"crest_r\",\n",
    "            data=top_15_loss_ratio_df,\n",
    "            ax=axes[1,2]);\n",
    "\n",
    "plt.tight_layout(pad=2);"
   ]
  },
  {
   "cell_type": "code",
   "execution_count": 35,
   "id": "cb7f2559",
   "metadata": {},
   "outputs": [
    {
     "data": {
      "text/plain": [
       "6"
      ]
     },
     "execution_count": 35,
     "metadata": {},
     "output_type": "execute_result"
    }
   ],
   "source": [
    "# Checking the total number of games Scotland has played against a country\n",
    "overall_opp['Iceland']"
   ]
  },
  {
   "cell_type": "markdown",
   "id": "a2583fbd",
   "metadata": {},
   "source": [
    "**INSIGHTS** – \n",
    "\n",
    "**Win** – Looking at the `Win Counts` graph we can see the win count is high in UK nations while it’s low in other nations. Now, this doesn’t imply that Scotland does better against its fellow UK nations. If we look at the `Win Ratio` graph, we see Scotland has done well against nations like Cyprus, Iceland and San Marino etc. But we do have to keep in mind that Scotland has played very few games against these nations (i.e.,<20). While the Scots has registered a greater number of wins against England as well, but the win ratio against them is below 40%. Hence we do not consider that Scotland has a good winning record against England\n",
    "\n",
    ">**Considering all the above points in mind, we can conclude that Scotland has a decent winning record against Northern Ireland and Wales as it has a win ratio of more than 50% against these nations.**\n",
    "\n",
    "\n",
    "**Draw** – We see the same pattern in Draw Counts just like in Win counts. Scotland has registered more Draws against the UK nations compared to other nations, as it has played more number of matches against these nations. But again, when we look at the Draw Ratio it paints a different picture. We see the Draw ratio of England, Wales and Northern Ireland is in the ball park of around 15-25%\n",
    "\n",
    ">**From the above points we can conclude that Scotland has a <25% chance of Drawing its matches against UK nations.**   \n",
    "\n",
    "\n",
    "**Loss** – Just like in the previous cases Scotland has a high Loss counts against its UK nations. But when we look at the Loss Ratio graph, we see that Scotland has a lower Loss Ratio against Northern Ireland and Wales. Whereas it has a greater loss ratio against England.\n",
    "\n",
    ">**From the above points we can conclude that Scotland has the worst losing record against England as it has a loss ratio of >40% whereas it has a good loss record against Northern Ireland and Wales which is <25%.** \n"
   ]
  },
  {
   "cell_type": "markdown",
   "id": "6b7da101",
   "metadata": {},
   "source": [
    "___"
   ]
  },
  {
   "cell_type": "markdown",
   "id": "bfd6cd27",
   "metadata": {},
   "source": [
    " ### 5a. Best scoring cities for Scotland  \n",
    " ### 5b. Worst scoring cities for Scotland "
   ]
  },
  {
   "cell_type": "markdown",
   "id": "d0906a88",
   "metadata": {},
   "source": [
    "**Criteria for Best scoring cities** - Cities where Scotland has scored > 5 goals and their opponents have not scored > 3 goals\n",
    "\n",
    "**Criteria for Worst scoring cities** - Cities where Scotland has scored < 3 goals and their opponents have scored 4 goals or more  "
   ]
  },
  {
   "cell_type": "code",
   "execution_count": 36,
   "id": "b57fe1f8",
   "metadata": {},
   "outputs": [
    {
     "data": {
      "text/plain": [
       "Index(['date', 'home_team', 'away_team', 'home_score', 'away_score',\n",
       "       'tournament', 'city', 'country', 'neutral', 'team_result', 'opponent'],\n",
       "      dtype='object')"
      ]
     },
     "execution_count": 36,
     "metadata": {},
     "output_type": "execute_result"
    }
   ],
   "source": [
    "scotland_df.columns"
   ]
  },
  {
   "cell_type": "code",
   "execution_count": 37,
   "id": "ed969898",
   "metadata": {
    "scrolled": false
   },
   "outputs": [],
   "source": [
    "# Let's create 2 new columns called 'team_score' (i.e. Scotland's score) and 'opp_score' (i.e. Scotland's opponent's score)\n",
    "\n",
    "# team_score\n",
    "scotland_df.loc[scotland_df['home_team'] == 'Scotland', 'team_score'] = scotland_df['home_score']\n",
    "scotland_df.loc[scotland_df['away_team'] == 'Scotland', 'team_score'] = scotland_df['away_score']\n",
    "\n",
    "scotland_df['team_score'] = scotland_df['team_score'].astype(int)\n",
    "\n",
    "# opp_score\n",
    "scotland_df.loc[scotland_df['home_team'] != 'Scotland', 'opp_score'] = scotland_df['home_score']\n",
    "scotland_df.loc[scotland_df['away_team'] != 'Scotland', 'opp_score'] = scotland_df['away_score']\n",
    "\n",
    "scotland_df['opp_score'] = scotland_df['opp_score'].astype(int)"
   ]
  },
  {
   "cell_type": "markdown",
   "id": "6760db16",
   "metadata": {},
   "source": [
    "### 5a. Best scoring cities for Scotland"
   ]
  },
  {
   "cell_type": "code",
   "execution_count": 38,
   "id": "fc9c0706",
   "metadata": {
    "scrolled": true
   },
   "outputs": [],
   "source": [
    "\"\"\" \n",
    "For best scoring cities we consider those cities in which Scotland has scored the most goals and the opposite team has not \n",
    "scored > 3 goals\n",
    "\"\"\" \n",
    "\n",
    "# Sorting the df by team_score (desc.) and opp_score (asc.)\n",
    "best_score_sort = scotland_df.sort_values(by = ['team_score','opp_score'], \n",
    "                                     ascending = [False,True])\n",
    "\n",
    "# Filtering team_score by > 5 goals \n",
    "best_score = best_score_sort.loc[best_score_sort['team_score'] >5]"
   ]
  },
  {
   "cell_type": "markdown",
   "id": "51024252",
   "metadata": {},
   "source": [
    "### 5b. Worst scoring cities for Scotland "
   ]
  },
  {
   "cell_type": "code",
   "execution_count": 39,
   "id": "6e7c56c5",
   "metadata": {
    "scrolled": true
   },
   "outputs": [],
   "source": [
    "\"\"\"\n",
    "For Worst Scoring Cities we consider those cities in which scotland has scored < 3 goals and has lost to its opponent \n",
    "by a huge margin\n",
    "\"\"\"\n",
    "\n",
    "# Sorting opp_score (desc.) and team_score (asc.)\n",
    "worst_score_sort = scotland_df.sort_values(by = ['opp_score', 'team_score'],\n",
    "                                           ascending = [False, True])\n",
    "\n",
    "# Filtering team_score by < 3 goals and opp_score by > 4 goals \n",
    "worst_score = (worst_score_sort.loc[(worst_score_sort['team_score'] < 3) & (worst_score_sort['opp_score'] > 3)])"
   ]
  },
  {
   "cell_type": "markdown",
   "id": "a04cce40",
   "metadata": {},
   "source": [
    "#### Plotting both the charts in grids"
   ]
  },
  {
   "cell_type": "code",
   "execution_count": 40,
   "id": "823b6f14",
   "metadata": {
    "scrolled": true
   },
   "outputs": [
    {
     "data": {
      "image/png": "[encoded data removed]",
      "text/plain": [
       "<Figure size 1152x360 with 2 Axes>"
      ]
     },
     "metadata": {},
     "output_type": "display_data"
    }
   ],
   "source": [
    "fig, axes = plt.subplots(1, 2, figsize=(16, 5))\n",
    "\n",
    "# 1. Best Scoring cities for Scotland\n",
    "axes[0].set_title(\"Best Scoring cities for Scotland\")\n",
    "sns.set_style('whitegrid')\n",
    "sns.countplot(y='city',\n",
    "              hue='team_score',\n",
    "              palette=\"Set2\",\n",
    "              order=['Glasgow','Belfast','Wrexham'],\n",
    "              data=best_score,\n",
    "              ax=axes[0]);\n",
    "\n",
    "\n",
    "#2. Worst Scoring cities for Scotland\n",
    "axes[1].set_title(\"Worst Scoring cities for Scotland\")\n",
    "sns.set_style('whitegrid')\n",
    "sns.countplot(y='city',\n",
    "              hue='opp_score',\n",
    "              palette=\"Set2\",\n",
    "              order=['Glasgow','London','Vienna'],\n",
    "              data=worst_score,\n",
    "              ax=axes[1]);\n",
    "\n",
    "plt.tight_layout(pad=2);\n"
   ]
  },
  {
   "cell_type": "markdown",
   "id": "12fc8f88",
   "metadata": {},
   "source": [
    "**INSIGHTS** - \n",
    "\n",
    "From the above graph, we can conclude that `Glasgow, Belfast and Wrexham` are the best scoring cities for Scotland as they have repeated huge score lines on multiple occasions with our given criteria for best scoring cities. Similarly, we can say that `Glasgow, London and Vienna` are the worst scoring cities for Scotland as they have been beaten by huge score lines and simultaneously scored very few goals on multiple occasions in these cities given our criteria for worst scoring cities.\n",
    "\n",
    ">It is interesting to know that Glasgow is both the best and worst scoring city for Scotland considering that it is a city under Scotland."
   ]
  },
  {
   "cell_type": "markdown",
   "id": "000cc2e8",
   "metadata": {},
   "source": [
    "___"
   ]
  }
 ],
 "metadata": {
  "kernelspec": {
   "display_name": "Python 3 (ipykernel)",
   "language": "python",
   "name": "python3"
  },
  "language_info": {
   "codemirror_mode": {
    "name": "ipython",
    "version": 3
   },
   "file_extension": ".py",
   "mimetype": "text/x-python",
   "name": "python",
   "nbconvert_exporter": "python",
   "pygments_lexer": "ipython3",
   "version": "3.9.12"
  }
 },
 "nbformat": 4,
 "nbformat_minor": 5
}
