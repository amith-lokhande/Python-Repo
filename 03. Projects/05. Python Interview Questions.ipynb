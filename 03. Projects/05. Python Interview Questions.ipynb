{
 "cells": [
  {
   "cell_type": "markdown",
   "id": "9a45a74f",
   "metadata": {},
   "source": [
    "<center>\n",
    "\n",
    "# Python Programming\n",
    "\n",
    "</center>"
   ]
  },
  {
   "cell_type": "markdown",
   "id": "592f685a",
   "metadata": {},
   "source": [
    "### <span style=\"background-color: yellow;\">1. Write a program to demonstrate different number data types in Python.</span>"
   ]
  },
  {
   "cell_type": "code",
   "execution_count": 1,
   "id": "fb41261d",
   "metadata": {},
   "outputs": [
    {
     "name": "stdout",
     "output_type": "stream",
     "text": [
      "a is type of <class 'int'>\n",
      "b is type of <class 'float'>\n",
      "c is type of <class 'complex'>\n",
      "d is type of <class 'str'>\n"
     ]
    }
   ],
   "source": [
    "\n",
    "a = 10 # Integer Datatype\n",
    "b = 11.5 # Float Datatype\n",
    "c = 2.05j # Complex Number\n",
    "d = 'abc' # String Datatype\n",
    "\n",
    "print('a is type of',type(a))\n",
    "print('b is type of',type(b))\n",
    "print('c is type of',type(c))\n",
    "print('d is type of',type(d))\n"
   ]
  },
  {
   "cell_type": "markdown",
   "id": "46b7c605",
   "metadata": {},
   "source": [
    "### <span style=\"background-color: yellow;\">2. Write a program to perform different Arithmetic Operations on numbers in Python</span>"
   ]
  },
  {
   "cell_type": "code",
   "execution_count": 6,
   "id": "45d6ac72",
   "metadata": {},
   "outputs": [
    {
     "name": "stdout",
     "output_type": "stream",
     "text": [
      "Enter a value : 3\n",
      "Enter b value : 2\n",
      "\n",
      "\n",
      "Addition of a and b is 5\n",
      "Subtraction of a and b is 1\n",
      "Multiplication of a and b is 6\n",
      "Division of a and b is 1.5\n",
      "\n",
      "\n",
      "Remainder of a and b is 1\n",
      "Exponent of a and b is 9\n",
      "Floor Division of a and b is 1\n"
     ]
    }
   ],
   "source": [
    "\n",
    "a = int(input(\"Enter a value : \")) # input() takes data from console at runtime as string.\n",
    "b = int(input(\"Enter b value : \")) # typecast the input string to int.\n",
    "\n",
    "print('') # returns an empty line space\n",
    "print(\"Addition of a and b is\", a+b)\n",
    "print(\"Subtraction of a and b is\", a-b)\n",
    "print(\"Multiplication of a and b is\", a*b)\n",
    "print(\"Division of a and b is\", a/b)\n",
    "print('') # returns an empty line space\n",
    "print(\"Remainder of a and b is\", a%b)\n",
    "print(\"Exponent of a and b is\", a**b) # exponent operator (a^b)\n",
    "print(\"Floor Division of a and b is\", a//b) \n"
   ]
  },
  {
   "cell_type": "markdown",
   "id": "e4bd8b5e",
   "metadata": {},
   "source": [
    "### <span style=\"background-color: yellow;\">3.  Write a program to create, concatenate and print a string and accessing sub-string from a given string</span>"
   ]
  },
  {
   "cell_type": "code",
   "execution_count": 8,
   "id": "5c155efe",
   "metadata": {},
   "outputs": [
    {
     "name": "stdout",
     "output_type": "stream",
     "text": [
      "Enter first String : COMPUTER-\n",
      "Enter second String : SCIENCE\n",
      "\n",
      "\n",
      "First string is :  COMPUTER-\n",
      "Second string is :  SCIENCE\n",
      "Concatenation of two strings :  COMPUTER-SCIENCE\n",
      "Substring of given string :  OMP\n"
     ]
    }
   ],
   "source": [
    "\n",
    "s1 = input(\"Enter first String : \")\n",
    "s2 = input(\"Enter second String : \")\n",
    "\n",
    "print('') # returns an empty line space\n",
    "print(\"First string is : \",s1)\n",
    "print(\"Second string is : \",s2)\n",
    "print(\"Concatenation of two strings : \",s1+s2)\n",
    "print(\"Substring of given string : \",s1[1:4])\n"
   ]
  },
  {
   "cell_type": "markdown",
   "id": "9bc834b7",
   "metadata": {},
   "source": [
    "### <span style=\"background-color: yellow;\">4. Write a python script to print the current date in the following format \"Sun May 29 02:26:23 IST 2017\"</span>"
   ]
  },
  {
   "cell_type": "code",
   "execution_count": 75,
   "id": "b878cee6",
   "metadata": {},
   "outputs": [
    {
     "name": "stdout",
     "output_type": "stream",
     "text": [
      "Wed May 31 13:26:04 India Standard Time 2023\n"
     ]
    }
   ],
   "source": [
    "\n",
    "import time\n",
    "ltime = time.localtime()\n",
    "print(time.strftime(\"%a %b %d %H:%M:%S %Z %Y\", ltime)) #returns the formatted time\n"
   ]
  },
  {
   "cell_type": "markdown",
   "id": "ecaa6904",
   "metadata": {},
   "source": [
    "**JFR:**\n",
    "\n",
    "%a : Abbreviated weekday name.   \n",
    "%b : Abbreviated month name.  \n",
    "%d : Day of the month as a decimal number [01,31].  \n",
    "%H : Hour (24-hour clock) as a decimal number [00,23].  \n",
    "%M : Minutes as a decimal number [00,59].  \n",
    "%S : Seconds as a decimal number [00,59].  \n",
    "%Z : Time zone name (no characters if no time zone exists).  \n",
    "%Y : Year as a decimal number.  \n"
   ]
  },
  {
   "cell_type": "markdown",
   "id": "4548e1cc",
   "metadata": {},
   "source": [
    "### <span style=\"background-color: yellow;\">5. Write a program to create, append, and remove lists in python.</span>"
   ]
  },
  {
   "cell_type": "markdown",
   "id": "06f4b5a8",
   "metadata": {},
   "source": [
    "**a. Creating lists**"
   ]
  },
  {
   "cell_type": "code",
   "execution_count": 73,
   "id": "ed2e5781",
   "metadata": {},
   "outputs": [
    {
     "name": "stdout",
     "output_type": "stream",
     "text": [
      "Empty List           :  [] \n",
      "Integers List        :  [1, 2, 3] \n",
      "Mixed Datatypes List :  [1, 'Hello', 3.4] \n",
      "Nested List          :  ['mouse', [8, 4, 6], ['a']]\n"
     ]
    }
   ],
   "source": [
    "\n",
    "# 1. #mpty List\n",
    "my_list_1 = []\n",
    "\n",
    "# 2. List of Integers\n",
    "my_list_2 = [1, 2, 3]\n",
    "\n",
    "# 3. List with Mixed Datatypes\n",
    "my_list_3 = [1, \"Hello\", 3.4]\n",
    "\n",
    "# 4. Nested List\n",
    "my_list_4 = [\"mouse\", [8, 4, 6], ['a']]\n",
    "\n",
    "# Printing all the lists\n",
    "print(\"Empty List           : \", my_list_1, \"\\n\"\n",
    "      \"Integers List        : \", my_list_2, \"\\n\"\n",
    "      \"Mixed Datatypes List : \", my_list_3, \"\\n\"\n",
    "      \"Nested List          : \", my_list_4)\n"
   ]
  },
  {
   "cell_type": "markdown",
   "id": "dfe02b10",
   "metadata": {},
   "source": [
    "**b. Appending Lists**"
   ]
  },
  {
   "cell_type": "code",
   "execution_count": 66,
   "id": "7add38e0",
   "metadata": {},
   "outputs": [
    {
     "name": "stdout",
     "output_type": "stream",
     "text": [
      "Odd List  :  [1, 3, 5]\n",
      "Appending :  [1, 3, 5, 7]\n",
      "Extending :  [1, 3, 5, 7, 9, 11, 13]\n"
     ]
    }
   ],
   "source": [
    "\n",
    "odd = [1, 3, 5]\n",
    "print(\"Odd List  : \",odd) # adjusting spaces after \"Odd List\" for parity in output\n",
    "\n",
    "# 1. .append() Appending Lists in Python\n",
    "odd.append(7)\n",
    "print(\"Appending : \",odd)\n",
    "\n",
    "# 2. extend() Extending Lists in Python\n",
    "odd.extend([9, 11, 13])\n",
    "print(\"Extending : \", odd)\n"
   ]
  },
  {
   "cell_type": "markdown",
   "id": "6444bbe8",
   "metadata": {},
   "source": [
    "**c. Removing Lists**"
   ]
  },
  {
   "cell_type": "code",
   "execution_count": 87,
   "id": "ebe45e56",
   "metadata": {},
   "outputs": [
    {
     "name": "stdout",
     "output_type": "stream",
     "text": [
      "List of letters           :  ['a', 'b', 'c', 'd', 'e', 'f', 'g', 'h', 'i', 'j', 'k']\n",
      "Deleting one item         :  ['a', 'b', 'd', 'e', 'f', 'g', 'h', 'i', 'j', 'k']\n",
      "Deleting multiple items   :  ['a', 'b', 'd', 'e', 'h', 'i', 'k']\n",
      "Deleting a range of items :  ['a', 'i', 'k']\n"
     ]
    }
   ],
   "source": [
    "\n",
    "my_list = ['a', 'b', 'c', 'd', 'e', 'f', 'g', 'h', 'i', 'j', 'k']\n",
    "print(\"List of letters           : \", my_list)\n",
    "\n",
    "# 1. Deleting one item\n",
    "del my_list[2]\n",
    "print(\"Deleting one item         : \",my_list) # The letter 'c' is deleted from the list\n",
    "\n",
    "# 2. Deleting multiple items\n",
    "items_to_delete = ['f', 'g', 'j']\n",
    "my_list = [item for item in my_list if item not in items_to_delete] # The syntax says to delete the items in my list which are included in 'items_to_delete'\n",
    "print(\"Deleting multiple items   : \",my_list) # The letters 'f, g, j' are deleted from the list\n",
    "\n",
    "# 3. Deleting a range of items\n",
    "del my_list[1:5]\n",
    "print(\"Deleting a range of items : \",my_list) # The letters 'b, d, e, h' is deleted from the list\n"
   ]
  },
  {
   "cell_type": "code",
   "execution_count": 89,
   "id": "c468c626",
   "metadata": {},
   "outputs": [
    {
     "ename": "SyntaxError",
     "evalue": "invalid syntax (1076406689.py, line 4)",
     "output_type": "error",
     "traceback": [
      "\u001b[1;36m  File \u001b[1;32m\"C:\\Users\\HP\\AppData\\Local\\Temp\\ipykernel_12816\\1076406689.py\"\u001b[1;36m, line \u001b[1;32m4\u001b[0m\n\u001b[1;33m    print(my list) # Error: List note defined\u001b[0m\n\u001b[1;37m             ^\u001b[0m\n\u001b[1;31mSyntaxError\u001b[0m\u001b[1;31m:\u001b[0m invalid syntax\n"
     ]
    }
   ],
   "source": [
    "\n",
    "# 4. Deleting entire list\n",
    "\n",
    "del my_list\n",
    "print(my list) # Error: List note defined\n"
   ]
  },
  {
   "cell_type": "markdown",
   "id": "2be73c7a",
   "metadata": {},
   "source": [
    "### <span style=\"background-color: yellow;\">6. Write a program to demonstrate working with tuples in python.</span>"
   ]
  },
  {
   "cell_type": "markdown",
   "id": "70360284",
   "metadata": {},
   "source": [
    "**a. Basic Tuples**"
   ]
  },
  {
   "cell_type": "code",
   "execution_count": 91,
   "id": "0a0cf4e8",
   "metadata": {},
   "outputs": [
    {
     "name": "stdout",
     "output_type": "stream",
     "text": [
      "()\n",
      "(1, 2, 3)\n",
      "(1, 'Hello', 3.4)\n",
      "('mouse', [8, 4, 6], (1, 2, 3))\n"
     ]
    }
   ],
   "source": [
    "\n",
    "# 1. Empty Tuple\n",
    "my_tuple = ()\n",
    "print(my_tuple)\n",
    "\n",
    "# 2. Tuple with Integers\n",
    "my_tuple = (1, 2, 3)\n",
    "print(my_tuple)\n",
    "\n",
    "# 3. Tuple with Mixed Datatypes\n",
    "my_tuple = (1, \"Hello\", 3.4)\n",
    "print(my_tuple)\n",
    "\n",
    "# 4. Nested Tuple\n",
    "my_tuple = (\"mouse\", [8, 4, 6], (1, 2, 3)) # contains string, list and tuple within the tuple\n",
    "print(my_tuple)\n"
   ]
  },
  {
   "cell_type": "markdown",
   "id": "aa418a97",
   "metadata": {},
   "source": [
    "**b. Advanced Tuples**"
   ]
  },
  {
   "cell_type": "code",
   "execution_count": 94,
   "id": "9ed15dea",
   "metadata": {},
   "outputs": [
    {
     "name": "stdout",
     "output_type": "stream",
     "text": [
      "(3, 4.6, 'dog')\n",
      "\n",
      "\n",
      "3\n",
      "4.6\n",
      "dog\n"
     ]
    }
   ],
   "source": [
    "\n",
    "# 1. Tuple Packing - \"A tuple can also be created without using parentheses. This is known as tuple packing.\"\n",
    "my_tuple = 3, 4.6, \"dog\"\n",
    "print(my_tuple)\n",
    "\n",
    "print('') # returns an empty line space\n",
    "\n",
    "# 2. Tuple Unpacking\n",
    "a, b, c = my_tuple\n",
    "\n",
    "print(a) # 3\n",
    "print(b) # 4.6\n",
    "print(c) # dog\n"
   ]
  },
  {
   "cell_type": "markdown",
   "id": "5ebf916a",
   "metadata": {},
   "source": [
    "**c. Differnce between String and Tuple**"
   ]
  },
  {
   "cell_type": "code",
   "execution_count": 95,
   "id": "41d9f672",
   "metadata": {},
   "outputs": [
    {
     "name": "stdout",
     "output_type": "stream",
     "text": [
      "<class 'str'>\n",
      "<class 'tuple'>\n",
      "<class 'tuple'>\n"
     ]
    }
   ],
   "source": [
    "\n",
    "# Having one element within parentheses is not enough. We will need a trailing comma to indicate that it is, in fact, a tuple.\n",
    "\n",
    "# 1. Not a tuple\n",
    "my_tuple = (\"hello\")\n",
    "print(type(my_tuple)) # <class 'str'>\n",
    "\n",
    "# 2. Tuple Ex: 1\n",
    "my_tuple = (\"hello\",)\n",
    "print(type(my_tuple)) # <class 'tuple'>\n",
    "\n",
    "# 3. Tuple Ex: 2 (without paranthesis)\n",
    "my_tuple = \"hello\",\n",
    "print(type(my_tuple)) # <class 'tuple'>\n"
   ]
  },
  {
   "cell_type": "markdown",
   "id": "c425f897",
   "metadata": {},
   "source": [
    "### <span style=\"background-color: yellow;\">7. Write a program to demonstrate working with dictionaries in python.</span>"
   ]
  },
  {
   "cell_type": "markdown",
   "id": "731d3217",
   "metadata": {},
   "source": [
    "**a. Basic Dictionaries**"
   ]
  },
  {
   "cell_type": "code",
   "execution_count": 6,
   "id": "20c5c1c4",
   "metadata": {},
   "outputs": [
    {
     "name": "stdout",
     "output_type": "stream",
     "text": [
      "{}\n",
      "{1: 'apple', 2: 'ball'}\n",
      "{'Name': 'John', 1: [2, 4, 3]}\n",
      "{1: 'apple', 2: 'ball'}\n",
      "{1: 'apple', 2: 'ball'}\n"
     ]
    }
   ],
   "source": [
    "\n",
    "# 1. Empty Dictionary\n",
    "my_dict ={}\n",
    "print(my_dict)\n",
    "\n",
    "# 2. Dictionary with Integer Keys\n",
    "my_dict ={1: 'apple', 2: 'ball'}\n",
    "print(my_dict)\n",
    "\n",
    "# 3. Dictionary with Mixed Keys\n",
    "my_dict ={'Name': 'John', 1: [2, 4, 3]}\n",
    "print(my_dict)\n",
    "\n",
    "# 4. Using dict()\n",
    "my_dict = dict({1:'apple', 2:'ball'})\n",
    "print(my_dict)\n",
    "\n",
    "# 5. from sequence having each item as a pair\n",
    "my_dict = dict([(1, 'apple'), (2, 'ball')])\n",
    "print(my_dict)\n"
   ]
  },
  {
   "cell_type": "markdown",
   "id": "05c3074f",
   "metadata": {},
   "source": [
    "**b. Accessing elements from Dictionaries**"
   ]
  },
  {
   "cell_type": "code",
   "execution_count": 7,
   "id": "2154dd06",
   "metadata": {},
   "outputs": [
    {
     "name": "stdout",
     "output_type": "stream",
     "text": [
      "Jack\n",
      "26\n",
      "\n",
      "None\n"
     ]
    },
    {
     "ename": "KeyError",
     "evalue": "'Address'",
     "output_type": "error",
     "traceback": [
      "\u001b[1;31m---------------------------------------------------------------------------\u001b[0m",
      "\u001b[1;31mKeyError\u001b[0m                                  Traceback (most recent call last)",
      "\u001b[1;32m~\\AppData\\Local\\Temp\\ipykernel_10824\\1374884950.py\u001b[0m in \u001b[0;36m<module>\u001b[1;34m\u001b[0m\n\u001b[0;32m     11\u001b[0m \u001b[1;33m\u001b[0m\u001b[0m\n\u001b[0;32m     12\u001b[0m \u001b[0mprint\u001b[0m\u001b[1;33m(\u001b[0m\u001b[0mmy_dict\u001b[0m\u001b[1;33m.\u001b[0m\u001b[0mget\u001b[0m\u001b[1;33m(\u001b[0m\u001b[1;34m'Address'\u001b[0m\u001b[1;33m)\u001b[0m\u001b[1;33m)\u001b[0m \u001b[1;31m# Output: None\u001b[0m\u001b[1;33m\u001b[0m\u001b[1;33m\u001b[0m\u001b[0m\n\u001b[1;32m---> 13\u001b[1;33m \u001b[0mprint\u001b[0m\u001b[1;33m(\u001b[0m\u001b[0mmy_dict\u001b[0m\u001b[1;33m[\u001b[0m\u001b[1;34m'Address'\u001b[0m\u001b[1;33m]\u001b[0m\u001b[1;33m)\u001b[0m \u001b[1;31m# Output: KeyError\u001b[0m\u001b[1;33m\u001b[0m\u001b[1;33m\u001b[0m\u001b[0m\n\u001b[0m",
      "\u001b[1;31mKeyError\u001b[0m: 'Address'"
     ]
    }
   ],
   "source": [
    "\n",
    "# 1. get vs [] for retrieving elements\n",
    "\n",
    "my_dict ={'Name': 'Jack', 'Age': 26}\n",
    "\n",
    "print(my_dict['Name']) # Output: Jack\n",
    "print(my_dict.get('Age')) # Output: 26\n",
    "\n",
    "print('')  # returns an empty line space\n",
    "\n",
    "# 2. Trying to access keys which do not exist throws an error\n",
    "\n",
    "print(my_dict.get('Address')) # Output: None\n",
    "print(my_dict['Address']) # Output: KeyError\n"
   ]
  },
  {
   "cell_type": "markdown",
   "id": "6a1bd2c0",
   "metadata": {},
   "source": [
    "### <span style=\"background-color: yellow;\">8. Write a python program to find largest of three numbers.</span>"
   ]
  },
  {
   "cell_type": "code",
   "execution_count": 14,
   "id": "1c7aeb2a",
   "metadata": {},
   "outputs": [
    {
     "name": "stdout",
     "output_type": "stream",
     "text": [
      "The largest number is 14\n"
     ]
    }
   ],
   "source": [
    "\n",
    "# Change the values of numl, num2 and num3 for a different result\n",
    "num_1 = 10\n",
    "num_2 = 14\n",
    "num_3 = 12\n",
    "\n",
    "# uncomment following lines to take three numbers from user\n",
    "# num_1 = float(input(\"Enter the first number : \")) \n",
    "# num_2 = float(input(\"Enter the second number : \")) \n",
    "# num_3 = float(input(\"Enter the third number : \"))\n",
    "\n",
    "if (num_1 >= num_2) and (num_1 >= num_3):\n",
    "    largest = num_1\n",
    "elif (num_2 >= num_1) and (num_2 >= num_3):\n",
    "    largest = num_2\n",
    "else:\n",
    "    largest = num_3\n",
    "    \n",
    "print(\"The largest number is\", largest)\n",
    "\n"
   ]
  },
  {
   "cell_type": "markdown",
   "id": "a2557d23",
   "metadata": {},
   "source": [
    "### <span style=\"background-color: yellow;\">9. Write a Python program to convert temperatures to and from Celsius, Fahrenheit. [Formula: c = (f-32)(5/9)].</span>"
   ]
  },
  {
   "cell_type": "code",
   "execution_count": 23,
   "id": "eea0d936",
   "metadata": {},
   "outputs": [
    {
     "name": "stdout",
     "output_type": "stream",
     "text": [
      "Enter Temperature : 105\n",
      "Enter Unit('C' for Celsius or 'F' for Fahrenheit): F\n",
      "Temperature in Celsius = 40.55555555555556\n"
     ]
    }
   ],
   "source": [
    "\n",
    "temp = float(input(\"Enter Temperature : \"))\n",
    "unit = input(\"Enter Unit('C' for Celsius or 'F' for Fahrenheit): \")\n",
    "\n",
    "if unit == 'C' or unit == 'c' :\n",
    "    new_temp = 9/5 * temp + 32\n",
    "    print(\"Temperature in Fahrenheit =\", new_temp)\n",
    "elif unit == 'F' or unit == 'f' :\n",
    "    new_temp = 5/9 * (temp - 32)\n",
    "    print(\"Temperature in Celsius =\", new_temp)\n",
    "else:\n",
    "    print(\"Unknown unit\", unit)\n"
   ]
  },
  {
   "cell_type": "markdown",
   "id": "7b25258e",
   "metadata": {},
   "source": [
    "### <span style=\"background-color: yellow;\">10. Write a Python program to construct the following pattem, using a nested for loop</span>\n",
    "\n",
    "![Pattern Image](pattern.png)\n"
   ]
  },
  {
   "cell_type": "code",
   "execution_count": 27,
   "id": "1d211a10",
   "metadata": {},
   "outputs": [
    {
     "name": "stdout",
     "output_type": "stream",
     "text": [
      "*\n",
      "**\n",
      "***\n",
      "****\n",
      "*****\n",
      "****\n",
      "***\n",
      "**\n",
      "*\n"
     ]
    }
   ],
   "source": [
    "\n",
    "\"\"\"\n",
    "# Ex: 1\n",
    "# The same pattern can be printed using while loop\n",
    "\n",
    "line = '*'\n",
    "max_length = 5\n",
    "\n",
    "while len(line) < max_length:\n",
    "    print(line)\n",
    "    line += \"*\"\n",
    "    \n",
    "while len(line) > 0:\n",
    "    print(line)\n",
    "    line = line[:-1]\n",
    "\"\"\"\n",
    "\n",
    "\"\"\"\n",
    "# Ex: 2\n",
    "# The same pattern can be printed using regular for loop (no nesting)\n",
    "\n",
    "n = 5  # Number of rows\n",
    "\n",
    "# Upper half of the pattern\n",
    "for i in range(n):\n",
    "    print('*' * (i + 1))\n",
    "\n",
    "# Lower half of the pattern\n",
    "for i in range(n - 1):\n",
    "    print('*' * (n - i - 1))\n",
    "\"\"\"\n",
    "\n",
    "# Ex: 3\n",
    "\n",
    "n = 5 # Max length of the pattern\n",
    "\n",
    "for i in range(n):\n",
    "    for j in range(i):\n",
    "        print('*', end=\"\")  # the print('*', end='') statement is used to print a single asterisk (*) without a newline character at the end.\n",
    "    print('') # print('') effectively prints a newline character without any content between the quotation marks \n",
    "\n",
    "for i in range(n, 0, -1):\n",
    "    for j in range(i):\n",
    "        print('*', end=\"\")\n",
    "        print('')\n"
   ]
  },
  {
   "cell_type": "markdown",
   "id": "a4d371f6",
   "metadata": {},
   "source": [
    "### <span style=\"background-color: yellow;\">11. Write a Python script that prints prime numbers less than 20. </span>"
   ]
  },
  {
   "cell_type": "code",
   "execution_count": 30,
   "id": "55d53bb6",
   "metadata": {},
   "outputs": [
    {
     "name": "stdout",
     "output_type": "stream",
     "text": [
      "Enter lower range : 1\n",
      "Enter upper range : 20\n",
      "2\n",
      "3\n",
      "5\n",
      "7\n",
      "11\n",
      "13\n",
      "17\n",
      "19\n"
     ]
    }
   ],
   "source": [
    "\n",
    "# Take the input from the user:\n",
    "\n",
    "lower = int(input(\"Enter lower range : \"))\n",
    "upper = int(input(\"Enter upper range : \"))\n",
    "\n",
    "# Printing prime numbers between a range\n",
    "\n",
    "for num in range(lower, upper+1): # we take 'upper+1' here because say if the upper range is 20 then the last num is 19\n",
    "    if num > 1:\n",
    "        for i in range(2,num): # for 'num=2' we get an empty range, hence else statement is executed and the num is printed\n",
    "            if(num % i) == 0:\n",
    "                break\n",
    "        else:\n",
    "            print(num)\n"
   ]
  },
  {
   "cell_type": "markdown",
   "id": "cab2dc96",
   "metadata": {},
   "source": [
    "### <span style=\"background-color: yellow;\">12. Write a python program to find factorial of a number using Recursion.</span>"
   ]
  },
  {
   "cell_type": "code",
   "execution_count": 35,
   "id": "b13bc6e2",
   "metadata": {},
   "outputs": [
    {
     "name": "stdout",
     "output_type": "stream",
     "text": [
      "Enter a number : 5\n",
      "The factorial of 5 is 120\n"
     ]
    }
   ],
   "source": [
    "\n",
    "def recur_factorial(n):\n",
    "    if n==1:\n",
    "        return 1\n",
    "    else:\n",
    "        return n*recur_factorial(n-1)\n",
    "\n",
    "# Take input from the user\n",
    "\n",
    "num = int(input(\"Enter a number : \"))\n",
    "\n",
    "# Check if the number is negative or zero\n",
    "\n",
    "if num < 0:\n",
    "    print(\"Sorry, factorial does not exist for negative numbers\")\n",
    "elif num == 0:\n",
    "    print(\"The factorial of 0 is 1\")\n",
    "else:\n",
    "    print(\"The factorial of\", num, \"is\", recur_factorial(num))\n"
   ]
  },
  {
   "cell_type": "markdown",
   "id": "903388f0",
   "metadata": {},
   "source": [
    "### <span style=\"background-color: yellow;\">13. Write a program that accepts the lengths of three sides of a triangle as inputs. The program output should indicate whether or not the triangle is a right triangle. </span>"
   ]
  },
  {
   "cell_type": "code",
   "execution_count": 6,
   "id": "9ce982e8",
   "metadata": {},
   "outputs": [
    {
     "name": "stdout",
     "output_type": "stream",
     "text": [
      "Enter length of the Base          : 3\n",
      "Enter length of the Perpendicular : 4\n",
      "Enter length of the Hypotenuse    : 5\n",
      "\n",
      "It is a right triangle\n"
     ]
    }
   ],
   "source": [
    "\n",
    "\"\"\"\n",
    "Recall from the Pythagorean Theorem that in a right triangle, the square of one side equals the sum of the squares of the other\n",
    "two sides\n",
    "\"\"\"\n",
    "\n",
    "base = float(input(\"Enter length of the Base          : \"))\n",
    "perp = float(input(\"Enter length of the Perpendicular : \"))\n",
    "hypo = float(input(\"Enter length of the Hypotenuse    : \"))\n",
    "\n",
    "print('') # returns an empty line space\n",
    "\n",
    "if ((hypo**2)) == ((base**2))+((perp**2)):\n",
    "    print(\"It is a right triangle\")\n",
    "else:\n",
    "    print(\"It is not a right triangle\")\n"
   ]
  },
  {
   "cell_type": "markdown",
   "id": "83b5a486",
   "metadata": {},
   "source": [
    "### <span style=\"background-color: yellow;\">14. Write a python program to define a module to find Fibonacci Numbers and import the module to another program.</span>"
   ]
  },
  {
   "cell_type": "code",
   "execution_count": 9,
   "id": "ba754e3d",
   "metadata": {},
   "outputs": [],
   "source": [
    "\n",
    "# There are 2 methods to create a fibonacci series in this case\n",
    "\n",
    "# Ex: 1 - Print Method\n",
    "\n",
    "def fib(n):\n",
    "    a, b = 0, 1\n",
    "    while b < n:\n",
    "        print(a, end=' ')\n",
    "        a, b = b, a+b\n",
    "    print()\n",
    "\n",
    "# Ex: 2 - Return Method\n",
    "    \n",
    "def fib2(n):\n",
    "    result = []\n",
    "    a, b = 0, 1\n",
    "    while b < n:\n",
    "        result.append(a)\n",
    "        a, b= b, a+b\n",
    "    return result\n"
   ]
  },
  {
   "cell_type": "markdown",
   "id": "8bc79f51",
   "metadata": {},
   "source": [
    "\"\"\"\n",
    "In order to import this file as a module follow the below steps\n",
    "\n",
    "1. Create a New Folder (you can place it any folder if you wish, make sure that the importing python file should also be in the same folder)\n",
    "2. In my case I'm creating a folder called \"Demo Module\" for easy understanding purpose.\n",
    "3. Paste the above code in the \"Demo Folder\"\n",
    "4. Rename the folder as \"fibonacci\" (since we are importing fibonacci; we can rename the folder corresponding to the context)\n",
    "5. Downalod the .py version of the file and place it in the \"\"Demo Folder\"\" as mentioned in step 1 and 2.\n",
    "6. Now open a new python 3 file from the \"Demo Folder\" in jupyter notebook.\n",
    "7. You can rename this file too (again, relevant to the context). In my case I've rename it as \"Module Confirmation File\".\n",
    "8. Write the following code\n",
    "\n",
    "import fibonacci  (confirms that the file is imported successfully)\n",
    "fibonacci.fib(4)  (confirms Ex: 1 is working and is valid) \n",
    "fibonacci.fib2(4) (confirms Ex: 2 is working and is valid)\n",
    "\n",
    "\"\"\""
   ]
  },
  {
   "cell_type": "markdown",
   "id": "6df82e3d",
   "metadata": {},
   "source": [
    "### <span style=\"background-color: yellow;\">15. Write a program that inputs a text file. The program should print all of the unique words in the file in alphabetical order.</span>"
   ]
  },
  {
   "cell_type": "code",
   "execution_count": 5,
   "id": "d584b2d7",
   "metadata": {},
   "outputs": [
    {
     "name": "stdout",
     "output_type": "stream",
     "text": [
      "A\n",
      "An\n",
      "Apple\n",
      "The\n",
      "a\n",
      "across\n",
      "apple\n",
      "away.\n",
      "beside\n",
      "big\n",
      "came\n",
      "cat\n",
      "company.\n",
      "day\n",
      "device.\n",
      "doctor\n",
      "doctor's\n",
      "fat\n",
      "is\n",
      "keeps\n",
      "office.\n",
      "owns\n",
      "road\n",
      "the\n",
      "very\n"
     ]
    }
   ],
   "source": [
    "\n",
    "# 1. Basic Version of the program where special characters like \".\" & \"'\" (apostrophe) are still part of the output\n",
    "\n",
    "def print_unique_words(filename):\n",
    "    unique_words = set()  # Set to store unique words\n",
    "\n",
    "    # Open the file in read mode\n",
    "    with open(filename, 'r') as file:\n",
    "        # Read each line in the file\n",
    "        for line in file:\n",
    "            # Split the line into words\n",
    "            words = line.strip().split()\n",
    "\n",
    "            # Add each word to the set of unique words\n",
    "            unique_words.update(words)\n",
    "\n",
    "    # Convert the set of unique words to a sorted list\n",
    "    unique_words = sorted(unique_words)\n",
    "\n",
    "    # Print the unique words\n",
    "    for word in unique_words:\n",
    "        print(word)\n",
    "\n",
    "\"\"\"        \n",
    "# Example usage\n",
    "filename = 'input.txt'  # 1. Replace with the path to your text file. \n",
    "print_unique_words(filename)\n",
    "\n",
    "\n",
    "# 2. Make sure that there are no spaces in the path file. If so replace them with underscores or hyphens. \n",
    "# 3. Also note that the file name should not begin with a number\n",
    "# 4. No special characters are allowed\n",
    "# 5. On the other hand it is best if the text file and the code written are in the same folder. In that case we only need to enter the text file name like 'Everything_Apple.txt'\n",
    "\n",
    "Ex: 1 - Invalid Path\n",
    "'D:\\Work\\Python\\07. Misc Files\\01. Text Files\\1. Everything Apple.txt' \n",
    "\n",
    "Ex: 2 - Valid Path \n",
    "'D:\\Work\\Python\\Misc_Files\\Text_Files\\Everything_Apple.txt'\n",
    "\n",
    "\"\"\"\n",
    "\n",
    "filename = 'D:\\Work\\Python\\Text_Files\\Everything_Apple.txt'\n",
    "print_unique_words(filename)"
   ]
  },
  {
   "cell_type": "code",
   "execution_count": 6,
   "id": "8637b747",
   "metadata": {
    "scrolled": false
   },
   "outputs": [
    {
     "name": "stdout",
     "output_type": "stream",
     "text": [
      "A\n",
      "An\n",
      "Apple\n",
      "The\n",
      "a\n",
      "across\n",
      "apple\n",
      "away\n",
      "beside\n",
      "big\n",
      "came\n",
      "cat\n",
      "company\n",
      "day\n",
      "device\n",
      "doctor\n",
      "doctors\n",
      "fat\n",
      "is\n",
      "keeps\n",
      "office\n",
      "owns\n",
      "road\n",
      "the\n",
      "very\n"
     ]
    }
   ],
   "source": [
    "\n",
    "# 2. Clean version with no special characters whatsoever\n",
    "\n",
    "def print_unique_words(filename):\n",
    "    unique_words = set()  # Set to store unique words\n",
    "\n",
    "    # Open the file in read mode\n",
    "    with open(filename, 'r') as file:\n",
    "        # Read each line in the file\n",
    "        for line in file:\n",
    "            # Split the line into words\n",
    "            words = line.strip().split()\n",
    "\n",
    "            # Remove full stops and apostrophes from each word\n",
    "            cleaned_words = [word.replace('.', '').replace(\"'\", '') for word in words]\n",
    "\n",
    "            # Add each cleaned word to the set of unique words\n",
    "            unique_words.update(cleaned_words)\n",
    "\n",
    "    # Convert the set of unique words to a sorted list\n",
    "    unique_words = sorted(unique_words)\n",
    "\n",
    "    # Print the unique words\n",
    "    for word in unique_words:\n",
    "        print(word)\n",
    "\n",
    "# Example usage\n",
    "filename = 'D:\\Work\\Python\\Text_Files\\Everything_Apple.txt'  \n",
    "print_unique_words(filename)"
   ]
  },
  {
   "cell_type": "code",
   "execution_count": 7,
   "id": "685bd314",
   "metadata": {},
   "outputs": [
    {
     "name": "stdout",
     "output_type": "stream",
     "text": [
      "A\n",
      "An\n",
      "Apple\n",
      "The\n",
      "a\n",
      "across\n",
      "apple\n",
      "away\n",
      "beside\n",
      "big\n",
      "came\n",
      "cat\n",
      "company\n",
      "day\n",
      "device\n",
      "doctor\n",
      "doctors\n",
      "fat\n",
      "is\n",
      "keeps\n",
      "office\n",
      "owns\n",
      "road\n",
      "the\n",
      "very\n",
      "\n",
      "Total words: 29\n"
     ]
    }
   ],
   "source": [
    "\n",
    "# 3. Clean version with the addition of total words \n",
    "\n",
    "def print_unique_words(filename):\n",
    "    unique_words = set()  # Set to store unique words\n",
    "    total_words = 0  # Variable to keep track of the total word count\n",
    "\n",
    "    # Open the file in read mode\n",
    "    with open(filename, 'r') as file:\n",
    "        # Read each line in the file\n",
    "        for line in file:\n",
    "            # Split the line into words\n",
    "            words = line.strip().split()\n",
    "\n",
    "            # Remove full stops and apostrophes from each word\n",
    "            cleaned_words = [word.replace('.', '').replace(\"'\", '') for word in words]\n",
    "\n",
    "            # Add each cleaned word to the set of unique words\n",
    "            unique_words.update(cleaned_words)\n",
    "\n",
    "            # Increment the total word count\n",
    "            total_words += len(cleaned_words)\n",
    "\n",
    "    # Convert the set of unique words to a sorted list\n",
    "    unique_words = sorted(unique_words)\n",
    "\n",
    "    # Print the unique words\n",
    "    for word in unique_words:\n",
    "        print(word)\n",
    "\n",
    "    # Print the total word count\n",
    "    print('') # returns an empty line space\n",
    "    print(\"Total words:\", total_words)\n",
    "\n",
    "\n",
    "# Example usage\n",
    "filename = 'D:\\Work\\Python\\Text_Files\\Everything_Apple.txt' \n",
    "print_unique_words(filename)"
   ]
  },
  {
   "cell_type": "markdown",
   "id": "db264b5a",
   "metadata": {},
   "source": [
    "### <span style=\"background-color: yellow;\">16. Write a short code on Class to calculate the Area and Permieter of a Rectangle.</span>"
   ]
  },
  {
   "cell_type": "code",
   "execution_count": 3,
   "id": "8cb2ca57",
   "metadata": {},
   "outputs": [
    {
     "name": "stdout",
     "output_type": "stream",
     "text": [
      "Area      : 15\n",
      "Perimeter : 16\n"
     ]
    }
   ],
   "source": [
    "\n",
    "# Defining 'Class' and the 'Attributes' within it (i.e., area and perimeter)\n",
    "\n",
    "class Rectangle:\n",
    "    \"\"\" The __init__ method allows us to set up the initial state of an object and provide values for its attributes, \n",
    "      ensuring that every object of the class starts with the necessary data.\"\"\"\n",
    "    \n",
    "    \"\"\" \"self\" refers to the rectangle instance when calling the area and perimeter methods, allowing the methods to access \n",
    "      the instance variables width and height of that specific instance.\"\"\"\n",
    "\n",
    "    def __init__(self, width, height):\n",
    "        self.width = width\n",
    "        self.height = height\n",
    "\n",
    "    def area(self):\n",
    "        return self.width * self.height\n",
    "\n",
    "    def perimeter(self):\n",
    "        return 2 * (self.width + self.height)\n",
    "\n",
    "# Printing the Area & Perimeter of a Rectangle\n",
    "    \n",
    "rectangle = Rectangle(5, 3) # Inputs of width and height for a rectangle\n",
    "\n",
    "print(\"Area      :\", rectangle.area())\n",
    "print(\"Perimeter :\", rectangle.perimeter()) \n"
   ]
  },
  {
   "cell_type": "code",
   "execution_count": 4,
   "id": "9857741a",
   "metadata": {},
   "outputs": [
    {
     "name": "stdout",
     "output_type": "stream",
     "text": [
      "Width of 1st rectangle         :  4\n",
      "Height of 2nd rectangle        :  5\n",
      "Area of the 1st rectangle      :  8\n",
      "Perimeter of the 2nd rectangle :  16\n"
     ]
    }
   ],
   "source": [
    "\n",
    "# We can also give inputs to multiple rectangles\n",
    "\n",
    "rectangle1 = Rectangle(4,2)\n",
    "rectangle2 = Rectangle(3,5)\n",
    "\n",
    "print(\"Width of 1st rectangle         : \", rectangle1.width)\n",
    "print(\"Height of 2nd rectangle        : \", rectangle2.height)\n",
    "print(\"Area of the 1st rectangle      : \", rectangle1.area()) # note the empty braces for area unlike in height or width before\n",
    "print(\"Perimeter of the 2nd rectangle : \", rectangle2.perimeter()) # braces are used as area and perimeter are defined (def)\n"
   ]
  },
  {
   "cell_type": "markdown",
   "id": "86580ba4",
   "metadata": {},
   "source": [
    "### <span style=\"background-color: yellow;\">17. Differentiate between instance variables (used in class) and local variables with examples</span>"
   ]
  },
  {
   "cell_type": "code",
   "execution_count": 14,
   "id": "34fa647c",
   "metadata": {
    "scrolled": true
   },
   "outputs": [
    {
     "name": "stdout",
     "output_type": "stream",
     "text": [
      "Width of the 1st Rectangle :  5\n",
      "Width of the 2nd Rectangle :  4\n",
      "\n",
      "Area of the rectangle is   :  15\n"
     ]
    }
   ],
   "source": [
    "\n",
    "\"\"\"\n",
    "Instance variables and local variables are two different types of variables in Python, and they serve different purposes \n",
    "within a program.\n",
    "\n",
    "1. Instance Variables:\n",
    "   - Instance variables are defined within a class and are associated with each instance (object) of that class.\n",
    "   - They hold data that is specific to each instance of the class.\n",
    "   - Instance variables are accessed using the `self` keyword within the methods of the class.\n",
    "   - Each instance of the class has its own set of instance variables, which can have different values for each instance.\n",
    "\"\"\"\n",
    "\n",
    "# Example:\n",
    "\n",
    "class Rectangle:\n",
    "    def __init__(self, width, height):\n",
    "        self.width = width  # Instance variable\n",
    "        self.height = height  # Instance variable\n",
    "   \n",
    "    def area(self):\n",
    "        return self.width * self.height\n",
    "   \n",
    "rectangle1 = Rectangle(5, 3)\n",
    "rectangle2 = Rectangle(4, 6)\n",
    "   \n",
    "print(\"Width of the 1st Rectangle : \",rectangle1.width)  # Output: 5\n",
    "print(\"Width of the 2nd Rectangle : \",rectangle2.width)  # Output: 4\n",
    "\n",
    "print('')\n",
    "\n",
    "\"\"\"\n",
    "In the above example, `width` and `height` are instance variables. Each instance of the `Rectangle` class \n",
    "    (`rectangle1` and `rectangle2`) has its own set of instance variables, which can be accessed using the dot notation \n",
    "    (`rectangle1.width`, `rectangle2.width`).\n",
    "\n",
    "2. Local Variables:\n",
    "   - Local variables are defined within a specific scope, such as a function or method.\n",
    "   - They are accessible only within the scope in which they are defined.\n",
    "   - Local variables have a limited lifespan and are created when the function or method is called and destroyed when it \n",
    "     completes execution.\n",
    "   - Local variables cannot be accessed outside of their scope.\n",
    "\"\"\"\n",
    "# Example:\n",
    "\n",
    "def calculate_area(width, height):\n",
    "    area = width * height  # Local variable\n",
    "    return area\n",
    "   \n",
    "result = calculate_area(5, 3)\n",
    "print(\"Area of the rectangle is   : \",result)  # Output: 15\n",
    "# print(area)  # This will raise an error, as 'area' is a local variable and is not accessible outside the function\n",
    "\n",
    "\"\"\"\n",
    "In the above example, `width`, `height`, and `area` are local variables. They are defined within the scope of the \n",
    "`calculate_area` function and are accessible only within that function. Once the function completes execution, the \n",
    "local variables are destroyed.\n",
    "\n",
    "In summary, instance variables are associated with instances of a class and hold data specific to each instance, while \n",
    "local variables are defined within a specific scope and are accessible only within that scope.\n",
    "\"\"\";  # use \";\" at the end to prevent the printing of a comment (which some say is a string when \"\"\" are used).\n"
   ]
  },
  {
   "cell_type": "markdown",
   "id": "a0ea9edd",
   "metadata": {},
   "source": [
    "### <span style=\"background-color: yellow;\">18. Write a Python class to convert an integer to a roman numeral.</span>"
   ]
  },
  {
   "cell_type": "code",
   "execution_count": 18,
   "id": "1c3e4930",
   "metadata": {},
   "outputs": [
    {
     "name": "stdout",
     "output_type": "stream",
     "text": [
      "The Roman numeral representation of 23 is: XXIII\n"
     ]
    }
   ],
   "source": [
    "\n",
    "# Mapping numbers to Roman Numerals\n",
    "\n",
    "class RomanConverter:\n",
    "    def __init__(self):\n",
    "        self.roman_map = {\n",
    "            1000: 'M',\n",
    "            900: 'CM',\n",
    "            500: 'D',\n",
    "            400: 'CD',\n",
    "            100: 'C',\n",
    "            90: 'XC',\n",
    "            50: 'L',\n",
    "            40: 'XL',\n",
    "            10: 'X',\n",
    "            9: 'IX',\n",
    "            5: 'V',\n",
    "            4: 'IV',\n",
    "            1: 'I'\n",
    "        }\n",
    "    \n",
    "# Converting Numbers to Roman Numerals \n",
    "# The convert_to_roman method takes an Arabic number num as input and converts it to a Roman numeral\n",
    "\n",
    "    def convert_to_roman(self, num):\n",
    "        roman_numeral = ''\n",
    "        for value, symbol in self.roman_map.items():\n",
    "            while num >= value:                            # Let's take 23 as an exmaple here. 23 >= 10. \n",
    "                roman_numeral += symbol                    # roman numeral is '' intially, so ''+ X = X is printed \n",
    "                num -= value                               # num = 23, so 23 - 10 = 13. The loop iterates again\n",
    "        return roman_numeral\n",
    "\n",
    "    \n",
    "# Printing the o/p\n",
    "\n",
    "converter = RomanConverter()\n",
    "num = 23    # change the number to change the i/p\n",
    "roman_numeral = converter.convert_to_roman(num)\n",
    "\n",
    "print(f\"The Roman numeral representation of {num} is: {roman_numeral}\")\n"
   ]
  },
  {
   "cell_type": "markdown",
   "id": "5dbc2150",
   "metadata": {},
   "source": [
    "### <span style=\"background-color: yellow;\">19. Write a python code to calculate the power of a number </span>"
   ]
  },
  {
   "cell_type": "code",
   "execution_count": 3,
   "id": "3fe460c8",
   "metadata": {},
   "outputs": [
    {
     "data": {
      "text/plain": [
       "1024"
      ]
     },
     "execution_count": 3,
     "metadata": {},
     "output_type": "execute_result"
    }
   ],
   "source": [
    "                           # Tracing:\n",
    "def power(x, n):           # power(4, 5)\n",
    "    if n < 0:              # skipped\n",
    "        x = 1 / x\n",
    "        n = -n\n",
    "\n",
    "    result = 1             # result = 1\n",
    "    while n > 0:           # True,               True,              True,                     False \n",
    "        if n % 2 == 1:     # True,               False,             True \n",
    "            result *= x    # result = 1 * 4 = 4, skip,              result = 4 * 256 = 1024\n",
    "        x *= x             # x = 4 * 4 = 16,     x = 16 * 16 = 256, x = 256 * 256\n",
    "        n //= 2            # n = 5 // 2 = 2,     n = 2 // 2 = 1,    n= 1 // 2 = 0\n",
    "\n",
    "    return result\n",
    "\n",
    "power(4,5)\n"
   ]
  },
  {
   "cell_type": "markdown",
   "id": "ddac9d3a",
   "metadata": {},
   "source": [
    "### <span style=\"background-color: yellow;\">20. Write a Python class to implement pow (x, n) </span>"
   ]
  },
  {
   "cell_type": "code",
   "execution_count": 4,
   "id": "56e9dd92",
   "metadata": {},
   "outputs": [
    {
     "name": "stdout",
     "output_type": "stream",
     "text": [
      "32\n"
     ]
    }
   ],
   "source": [
    "class PowerCalculator:                                  # Tracing:\n",
    "    \n",
    "    def pow(self, x, n):                                # pow(2, 5)\n",
    "        if n < 0:                                       # skipped\n",
    "            return 1 / self.pow_positive(x, -n)\n",
    "        else:                                           # True  \n",
    "            return self.pow_positive(x, n)              # Executes pow_positive(2,5) \n",
    "\n",
    "    def pow_positive(self, x, n):                       # pow_positive(2,5),          pow_positive(2,2)            pow_positive(2,1)            pow_positive(2,0)\n",
    "        if n == 0:                                      # skipped                     skipped                      skipped                      True\n",
    "            return 1                                                                                                                          # 1 is returned to pow_positive(2,0) \n",
    "        elif n % 2 == 0:                                # skipped                       \n",
    "            temp = self.pow_positive(x, n // 2)                                      # temp = pow_positive(2, 1)                                                                                                          temp = 2                                      \n",
    "            return temp * temp                                                       # return temp * temp                                                                                                                 temp * temp = 2 * 2 = 4  \n",
    "        else:                                           \n",
    "            temp = self.pow_positive(x, (n - 1) // 2)   # temp = pow_positive(2, 2)                                 temp = pow_positive(2, 0)                                          temp = 1                                                    temp = 4\n",
    "            return temp * temp * x                      # return temp * temp * x                                    return temp * temp * x                                             return 1 * 1 * 2 = 2, so temp = 2                           temp * temp * x = 4 * 4 * 2 = 32\n",
    "\n",
    "        \n",
    "calculator = PowerCalculator()\n",
    "result = calculator.pow(2, 5)\n",
    "print(result)  # Output: 32\n"
   ]
  },
  {
   "cell_type": "markdown",
   "id": "011ebadf",
   "metadata": {},
   "source": [
    "### <span style=\"background-color: yellow;\">21. Write a Python class to reverse a string word by word. </span>"
   ]
  },
  {
   "cell_type": "code",
   "execution_count": 6,
   "id": "1f939cb7",
   "metadata": {},
   "outputs": [
    {
     "name": "stdout",
     "output_type": "stream",
     "text": [
      "World Hello\n",
      "awesome is Python\n"
     ]
    }
   ],
   "source": [
    "\n",
    "# input\n",
    "\n",
    "class StringReverser:\n",
    "    def reverse_words(self, input_string):\n",
    "        # Split the string into words\n",
    "        words = input_string.split()\n",
    "\n",
    "        # Reverse the order of words\n",
    "        reversed_words = words[::-1]\n",
    "\n",
    "        # Join the reversed words back into a string\n",
    "        reversed_string = ' '.join(reversed_words)\n",
    "\n",
    "        return reversed_string\n",
    "\n",
    "# output\n",
    "\n",
    "# Create an instance of the StringReverser class\n",
    "reverser = StringReverser()\n",
    "\n",
    "# Example 1\n",
    "input_string = \"Hello World\"\n",
    "result = reverser.reverse_words(input_string)\n",
    "print(result)\n",
    "# Output: \"World Hello\"\n",
    "\n",
    "# Example 2\n",
    "input_string = \"Python is awesome\"\n",
    "result = reverser.reverse_words(input_string)\n",
    "print(result)\n",
    "# Output: \"awesome is Python\"\n"
   ]
  },
  {
   "cell_type": "markdown",
   "id": "e6a59d42",
   "metadata": {},
   "source": [
    "### <span style=\"background-color: yellow;\">22. Write a python program to find remainder of an array multiplication divided by n </span>"
   ]
  },
  {
   "cell_type": "code",
   "execution_count": 12,
   "id": "d4ec42ea",
   "metadata": {},
   "outputs": [
    {
     "name": "stdout",
     "output_type": "stream",
     "text": [
      "The remainder of the array multiplication divided by 7 is: 4\n",
      "\n",
      "The remainder of the array multiplication divided by 11 is: 9\n",
      "Wall time: 994 µs\n"
     ]
    }
   ],
   "source": [
    "\n",
    "# input\n",
    "\n",
    "def find_remainder(arr, n):\n",
    "    result = 1                       # Initialize the result to 1\n",
    "    for num in arr:\n",
    "        result = (result * num) % n  # Calculate the remainder after each multiplication\n",
    "    return result\n",
    "\n",
    "# output\n",
    "\n",
    "# Example usage 1\n",
    "array = [3, 4, 5]\n",
    "divisor = 7\n",
    "remainder = find_remainder(array, divisor)\n",
    "print(f\"The remainder of the array multiplication divided by {divisor} is: {remainder}\")\n",
    "\n",
    "print('')\n",
    "\n",
    "# Example usage 2\n",
    "array = [100, 10, 5, 25, 35, 14]\n",
    "divisor = 11\n",
    "remainder = find_remainder(array, divisor)\n",
    "print(f\"The remainder of the array multiplication divided by {divisor} is: {remainder}\")\n"
   ]
  },
  {
   "cell_type": "markdown",
   "id": "b6a4ef2c",
   "metadata": {},
   "source": [
    "### <span style=\"background-color: yellow;\">23. Python Program for cube sum of first n natural numbers</span>"
   ]
  },
  {
   "cell_type": "code",
   "execution_count": 14,
   "id": "76afb11e",
   "metadata": {},
   "outputs": [
    {
     "name": "stdout",
     "output_type": "stream",
     "text": [
      "The cube sum of the first 5 natural numbers is: 225\n"
     ]
    }
   ],
   "source": [
    "\n",
    "# if number = 5 then 1**3 + 2**3 + ..... + 5**3 \n",
    "\n",
    "# input\n",
    "\n",
    "def cube_sum(n):\n",
    "    # Initialize the sum to 0\n",
    "    sum_of_cubes = 0\n",
    "\n",
    "    # Iterate from 1 to n\n",
    "    for i in range(1, n+1):\n",
    "        sum_of_cubes += i**3  # Add the cube of each number to the sum\n",
    "\n",
    "    return sum_of_cubes\n",
    "\n",
    "# output\n",
    "\n",
    "# Example usage\n",
    "num = 5\n",
    "result = cube_sum(num)\n",
    "print(f\"The cube sum of the first {num} natural numbers is: {result}\")\n"
   ]
  },
  {
   "cell_type": "code",
   "execution_count": null,
   "id": "4c3db9f2",
   "metadata": {},
   "outputs": [],
   "source": []
  },
  {
   "cell_type": "code",
   "execution_count": null,
   "id": "c7d93cfa",
   "metadata": {},
   "outputs": [],
   "source": [
    "### <span style=\"background-color: yellow;\">24.  </span>"
   ]
  }
 ],
 "metadata": {
  "kernelspec": {
   "display_name": "Python 3 (ipykernel)",
   "language": "python",
   "name": "python3"
  },
  "language_info": {
   "codemirror_mode": {
    "name": "ipython",
    "version": 3
   },
   "file_extension": ".py",
   "mimetype": "text/x-python",
   "name": "python",
   "nbconvert_exporter": "python",
   "pygments_lexer": "ipython3",
   "version": "3.9.13"
  }
 },
 "nbformat": 4,
 "nbformat_minor": 5
}
