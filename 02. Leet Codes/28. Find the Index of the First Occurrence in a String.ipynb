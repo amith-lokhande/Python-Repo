{
 "cells": [
  {
   "cell_type": "markdown",
   "id": "030331ee",
   "metadata": {},
   "source": [
    "### <span style=\"background-color: yellow;\">28. Find the Index of the First Occurrence in a String</span>\n",
    "\n",
    "* **Difficulty -** Easy \n",
    "* **Description -** Given two strings `needle` and `haystack`, return the index of the first occurrence of `needle` in `haystack`, or `-1` if `needle` is not part of `haystack`.\n",
    "\n",
    "\n",
    "* **Examples -**  \n",
    "1.`Input:` haystack = \"sadbutsad\", needle = \"sad\"  \n",
    "`Output:` 0  \n",
    "`Explanation:` \"sad\" occurs at index 0 and 6.  \n",
    "The first occurrence is at index 0, so we return 0. <br>\n",
    "2. `Input:` haystack = \"leetcode\", needle = \"leeto\"  \n",
    "`Output:` -1  \n",
    "`Explanation:` \"leeto\" did not occur in \"leetcode\", so we return -1.  \n",
    "\n",
    "\n",
    "\n",
    "* **Constraints -**\n",
    "- `1 <= haystack.length, needle.length <= 104`\n",
    "- `haystack` and `needle` consist of only lowercase English characters."
   ]
  },
  {
   "cell_type": "code",
   "execution_count": 1,
   "id": "8f2e3009",
   "metadata": {},
   "outputs": [],
   "source": [
    "class Solution:                                                     # Tracing: Ex 1 -                                         # Ex 2 -\n",
    "    def strStr(self, haystack: str, needle: str) -> int:            # haystack = \"sadbutsad\", needle = \"sad\"                  # haystack = \"hello\", needle = \"ll\"\n",
    "        # Edge case: if needle is an empty string, return 0\n",
    "        if not needle:                                              # Needle is not empty, so skip                            # skip\n",
    "            return 0\n",
    "\n",
    "        # Iterate through the haystack string\n",
    "        for i in range(len(haystack) - len(needle) + 1):            # for i in range(9 - 3 + 1) -> (9 + 1 -3)BODMAS           # for i in range (5 - 2 + 1) -> 4                   \n",
    "            # Check if the current substring matches the needle     # i.e., for 0 in range (0,1,2,3,4,5,6)                    # for 0 in range(0,1,2,3)                           # for 1 in range(4)                                # for 2 in range(4)\n",
    "            if haystack[i:i+len(needle)] == needle:                 # if haystack[0 : 0+3] == sad: -> haystack[0:3] = sad     # if haystack[0 : 0+2] == ll: he == ll: (False)     # if haystack[1 : 1+2] == ll: el ==ll: (False)     # if haystack[2 : 2+2] == ll: ll == ll: (True)\n",
    "                return i                                            # return 0                                                # skip                                              # skip                                             # return 2\n",
    "\n",
    "        # If needle is not found, return -1\n",
    "        return -1\n"
   ]
  },
  {
   "cell_type": "markdown",
   "id": "8d718878",
   "metadata": {},
   "source": [
    "#### <span style=\"background-color: yellow;\">Notes - </span>\n",
    "\n",
    "**`def strStr(self, haystack: str, needle: str) -> int:`**\n",
    "In the above code, `-> int` is a type hint indicating the expected return type of the strStr method. It is part of the function annotation syntax introduced in Python 3. It specifies that the strStr method should return a value of type **int**.\n"
   ]
  },
  {
   "cell_type": "code",
   "execution_count": 2,
   "id": "d37eafb7",
   "metadata": {},
   "outputs": [
    {
     "name": "stdout",
     "output_type": "stream",
     "text": [
      "2\n",
      "2\n"
     ]
    }
   ],
   "source": [
    "# Create an instance of the Solution class\n",
    "solution = Solution()\n",
    "\n",
    "# Example 1 -\n",
    "\n",
    "haystack = \"hello\"\n",
    "needle = \"ll\"\n",
    "output = solution.strStr(haystack, needle)\n",
    "print(output)  # Output: 2\n",
    "\n",
    "haystack = \"hello\"\n",
    "needle = \"l\"\n",
    "output = solution.strStr(haystack, needle)\n",
    "print(output)  # Output: 2\n",
    "\n",
    "# In both cases the first occurence is at index 2 "
   ]
  },
  {
   "cell_type": "code",
   "execution_count": 3,
   "id": "67cb8325",
   "metadata": {},
   "outputs": [
    {
     "name": "stdout",
     "output_type": "stream",
     "text": [
      "-1\n"
     ]
    }
   ],
   "source": [
    "# Example 2 - \n",
    "\n",
    "haystack = \"aaaaa\"\n",
    "needle = \"bba\"\n",
    "output = solution.strStr(haystack, needle)\n",
    "print(output)  # Output: -1\n"
   ]
  },
  {
   "cell_type": "code",
   "execution_count": 4,
   "id": "34182d45",
   "metadata": {},
   "outputs": [
    {
     "name": "stdout",
     "output_type": "stream",
     "text": [
      "0\n"
     ]
    }
   ],
   "source": [
    "# Example 3 -\n",
    "\n",
    "haystack = \"\"\n",
    "needle = \"\"\n",
    "output = solution.strStr(haystack, needle)\n",
    "print(output)  # Output: 0\n"
   ]
  },
  {
   "cell_type": "code",
   "execution_count": 5,
   "id": "5442dfd5",
   "metadata": {},
   "outputs": [
    {
     "name": "stdout",
     "output_type": "stream",
     "text": [
      "0\n"
     ]
    }
   ],
   "source": [
    "# Example 4 -\n",
    "\n",
    "haystack = \"sadbutsad\"\n",
    "needle = \"sad\"\n",
    "output = solution.strStr(haystack, needle)\n",
    "print(output)  # Output: 0"
   ]
  },
  {
   "cell_type": "code",
   "execution_count": 6,
   "id": "baa4b034",
   "metadata": {},
   "outputs": [
    {
     "name": "stdout",
     "output_type": "stream",
     "text": [
      "2\n"
     ]
    }
   ],
   "source": [
    "# Example 5 -\n",
    "\n",
    "haystack = \"phobos\"\n",
    "needle = \"ob\"\n",
    "output = solution.strStr(haystack, needle)\n",
    "print(output)  # Output: 2"
   ]
  },
  {
   "cell_type": "code",
   "execution_count": 7,
   "id": "c276ea9a",
   "metadata": {},
   "outputs": [
    {
     "name": "stdout",
     "output_type": "stream",
     "text": [
      "-1\n",
      " 2\n"
     ]
    }
   ],
   "source": [
    "# Example 6 -\n",
    "\n",
    "haystack = \"leetcode\"\n",
    "needle = \"leeto\"\n",
    "output = solution.strStr(haystack, needle)\n",
    "print(output)  # Output: -1\n",
    "\n",
    "haystack = \"leetcode\"\n",
    "needle = \"et\"\n",
    "output = solution.strStr(haystack, needle)\n",
    "print(\"\",output)  # Output: 2     \n"
   ]
  }
 ],
 "metadata": {
  "kernelspec": {
   "display_name": "Python 3 (ipykernel)",
   "language": "python",
   "name": "python3"
  },
  "language_info": {
   "codemirror_mode": {
    "name": "ipython",
    "version": 3
   },
   "file_extension": ".py",
   "mimetype": "text/x-python",
   "name": "python",
   "nbconvert_exporter": "python",
   "pygments_lexer": "ipython3",
   "version": "3.9.13"
  }
 },
 "nbformat": 4,
 "nbformat_minor": 5
}
