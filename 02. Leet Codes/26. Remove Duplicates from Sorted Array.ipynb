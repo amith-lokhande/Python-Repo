{
 "cells": [
  {
   "cell_type": "markdown",
   "id": "9aad141a",
   "metadata": {},
   "source": [
    "### <span style=\"background-color: yellow;\">26. Remove Duplicates from Sorted Array</span>\n",
    "\n",
    "* **Difficulty** - Easy \n",
    "\n",
    "* **Description** - Given an integer array nums sorted in non-decreasing order, remove the duplicates in-place such that each unique element appears only once. The relative order of the elements should be kept the same. Then return the number of unique elements in nums.\n",
    "\n",
    "    Consider the number of unique elements of nums to be k, to get accepted, you need to do the following things:\n",
    "\n",
    "    - Change the array nums such that the first k elements of nums contain the unique elements in the order they were present in nums initially. The remaining elements of nums are not important as well as the size of nums.\n",
    "    - Return k.\n",
    "    \n",
    "    \n",
    "**`Custom Judge:`**\n",
    "\n",
    "    The judge will test your solution with the following code:\n",
    "```python\n",
    "int[] nums = [...]; // Input array\n",
    "int[] expectedNums = [...]; // The expected answer with correct length\n",
    "\n",
    "int k = removeDuplicates(nums); // Calls your implementation\n",
    "\n",
    "assert k == expectedNums.length;\n",
    "for (int i = 0; i < k; i++) {\n",
    "    assert nums[i] == expectedNums[i];\n",
    "}\n",
    "If all assertions pass, then your solution will be accepted.\n",
    "```\n",
    " \n",
    "\n",
    "\n",
    "* **Examples  -**  \n",
    "1. `Input:` nums = [1,1,2]  \n",
    "`Output:` 2, nums = [1,2,_]  \n",
    "`Explanation:` Your function should return k = 2, with the first two elements of nums being 1 and 2 respectively.\n",
    "    It does not matter what you leave beyond the returned k (hence they are underscores).\n",
    "2. `Input:` nums = [0,0,1,1,1,2,2,3,3,4]  \n",
    "`Output:` 5, nums = [0,1,2,3,4,_,_,_,_,_]  \n",
    "`Explanation:` Your function should return k = 5, with the first five elements of nums being 0, 1, 2, 3, and 4 respectively.\n",
    "It does not matter what you leave beyond the returned k (hence they are underscores).\n",
    "\n",
    "\n",
    "\n",
    "* **Constraints -**\n",
    "- 1 <= nums.length <= 3 * 10 ** 4 (i.e., 3 into 10 to the power of 4 )\n",
    "- -100 <= nums[i] <= 100\n",
    "- nums is sorted in non-decreasing order.\n"
   ]
  },
  {
   "cell_type": "code",
   "execution_count": 1,
   "id": "b7bb4a58",
   "metadata": {},
   "outputs": [],
   "source": [
    "from typing import List          # if this code is not included the program will throw an error - \"name 'List' is not defined\"\n",
    "\n",
    "class Solution:                                              # Tracing:      # JFR :-  nums = [1, 1, 2, 2, 3, 4, 4, 4, 5, 5, 6]\n",
    "    def removeDuplicates(self, nums: List[int]) -> int:                      # removeDuplicates(nums)\n",
    "        if not nums:                                                         # checks if the list (i.e.,nums) is empty - False\n",
    "            return 0                                                         # skip\n",
    "\n",
    "        # Pointer to keep track of the previous non-duplicate element\n",
    "        index = 0                                                            # index = 0\n",
    "\n",
    "        for i in range(1, len(nums)):                                        # for i in range of (1, 11) -> i = 1, 2,... 10     # i=2                       # i=3                       # i=4                       # i=5                       # i=6                       # i=7                       # i=8                       # i=9                       # i=10\n",
    "            if nums[i] != nums[index]:                                       # if nums[1] != nums [0]                           # if nums[2] != nums[0]     # if nums[3] != nums[1]     # if nums[4] != nums[1]     # if nums[5] != nums[2]     # if nums[6] != nums[3]     # if nums[7] != nums[3]     # if nums[8] != nums[3]     # if nums[9] != nums[4]     # if nums[10] != nums[4]\n",
    "                # Found a non-duplicate element                              # i.e., 1 != 1 (False)                             # i.e., 2 != 1              # i.e. 2 != 2 (False)       # i.e. 3 != 2               # i.e., 4 != 3              # i.e., 4 != 4 (False)      # i.e., 4 != 4 (False)      # i.e., 5 != 4              # i.e., 5 != 5 (False)      # i.e., 6 != 5\n",
    "                index += 1                                                                                                      # index = 0 + 1 = 1                                     # index = 1 + 1 = 2         # index = 2 + 1 = 3                                                                 # index = 3 + 1 = 4                                     # index = 4 + 1 = 5\n",
    "                # Move the non-duplicate element to its correct position\n",
    "                nums[index] = nums[i]                                                                                           # nums[1] = nums[2]                                     # nums[2] = nums[4]         # nums[3] = nums[5]                                                                 # nums[4] = nums[8]                                     # nums[5] = nums[10]\n",
    "                                                                                                                                # i.e., nums[1] = 2                                     # i.e., nums[2] = 3         # i.e., nums[3] = 4                                                                 # i.e., nums[4] = 5                                     # i.e., nums[5] = 6\n",
    "        # The length of the unique elements will be index + 1\n",
    "        return index + 1                                                                                                                                                                                                                                                                                                                                                                     # return index + 1\n",
    "                                                                                                                                                                                                                                                                                                                                                                                             # i.e., index = 5 + 1 = 6 "
   ]
  },
  {
   "cell_type": "markdown",
   "id": "d10b35fd",
   "metadata": {},
   "source": [
    "#### <span style=\"background-color: yellow;\">Notes -</span>\n",
    "\n",
    "**`from typing import List:`** is an import statement that allows the usage of the `List` type hint from the `typing` module. This import is commonly used when defining the type of a function parameter or return value to indicate that it should be a list containing elements of a specific type. In this case, it indicates that the `nums` parameter in the `removeDuplicates` method of the **`Solution` class should be a list of integers.** The `List` type hint provides clarity and helps with static type checking, making the code more understandable and maintainable."
   ]
  },
  {
   "cell_type": "code",
   "execution_count": 2,
   "id": "59b012d3",
   "metadata": {},
   "outputs": [
    {
     "name": "stdout",
     "output_type": "stream",
     "text": [
      "Modified List: [1, 2, 3, 4, 5, 6]\n",
      "Length of Unique Elements: 6\n"
     ]
    }
   ],
   "source": [
    "# Example 1 - \n",
    "\n",
    "# i/p:\n",
    "nums = [1, 1, 2, 2, 3, 4, 4, 4, 5, 5, 6]\n",
    "\n",
    "# o/p:\n",
    "solution = Solution()\n",
    "result_length = solution.removeDuplicates(nums)\n",
    "result_list = nums[:result_length]                     # Here result length is 6 so, num[:6] = [1, 2, 3, 4, 5, 6]\n",
    "\n",
    "print(\"Modified List:\", result_list)                   # Prints all the elements in the result list  - In the above code cell while tracing we do not come across num[0], so num[0] is taken from the inital given numbers i.e., nums = [1, 1, 2, 2, 3, 4, 4, 4, 5, 5, 6] \n",
    "print(\"Length of Unique Elements:\", result_length)     # Prints the lenghth of the result list\n"
   ]
  },
  {
   "cell_type": "code",
   "execution_count": 3,
   "id": "2b55e0c7",
   "metadata": {},
   "outputs": [
    {
     "name": "stdout",
     "output_type": "stream",
     "text": [
      "Modified List: [1, 2]\n",
      "Length of Unique Elements: 2\n"
     ]
    }
   ],
   "source": [
    "# Example 2 - \n",
    "\n",
    "# i/p:\n",
    "nums = [1, 1, 2]\n",
    "\n",
    "# o/p:\n",
    "solution = Solution()\n",
    "result_length = solution.removeDuplicates(nums)\n",
    "result_list = nums[:result_length]\n",
    "\n",
    "print(\"Modified List:\", result_list)\n",
    "print(\"Length of Unique Elements:\", result_length)\n"
   ]
  },
  {
   "cell_type": "code",
   "execution_count": 4,
   "id": "c9e6237f",
   "metadata": {},
   "outputs": [
    {
     "name": "stdout",
     "output_type": "stream",
     "text": [
      "Modified List: [0, 1, 2, 3, 4]\n",
      "Length of Unique Elements: 5\n"
     ]
    }
   ],
   "source": [
    "# Example 3 - \n",
    "\n",
    "# i/p:\n",
    "nums = [0, 0, 1, 1, 1, 2, 2, 3, 3, 4]\n",
    "\n",
    "# o/p:\n",
    "solution = Solution()\n",
    "result_length = solution.removeDuplicates(nums)\n",
    "result_list = nums[:result_length]\n",
    "\n",
    "print(\"Modified List:\", result_list)\n",
    "print(\"Length of Unique Elements:\", result_length)\n"
   ]
  },
  {
   "cell_type": "code",
   "execution_count": 5,
   "id": "a01b4e93",
   "metadata": {},
   "outputs": [
    {
     "name": "stdout",
     "output_type": "stream",
     "text": [
      "Modified List: []\n",
      "Length of Unique Elements: 0\n"
     ]
    }
   ],
   "source": [
    "# Example 5 - Empty List\n",
    "\n",
    "# i/p:\n",
    "nums = []\n",
    "\n",
    "# o/p:\n",
    "solution = Solution()\n",
    "result_length = solution.removeDuplicates(nums)\n",
    "result_list = nums[:result_length]\n",
    "\n",
    "print(\"Modified List:\", result_list)\n",
    "print(\"Length of Unique Elements:\", result_length)\n"
   ]
  }
 ],
 "metadata": {
  "kernelspec": {
   "display_name": "Python 3 (ipykernel)",
   "language": "python",
   "name": "python3"
  },
  "language_info": {
   "codemirror_mode": {
    "name": "ipython",
    "version": 3
   },
   "file_extension": ".py",
   "mimetype": "text/x-python",
   "name": "python",
   "nbconvert_exporter": "python",
   "pygments_lexer": "ipython3",
   "version": "3.9.13"
  }
 },
 "nbformat": 4,
 "nbformat_minor": 5
}
