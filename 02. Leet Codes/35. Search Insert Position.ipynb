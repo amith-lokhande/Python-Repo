{
 "cells": [
  {
   "cell_type": "markdown",
   "id": "4fe1fb9c",
   "metadata": {},
   "source": [
    "### <span style=\"background-color: yellow;\">35. Search Insert Position</span>\n",
    "\n",
    "* **Difficulty -** Easy \n",
    "\n",
    "* **Description -** Given a sorted array of distinct integers and a target value, return the index if the target is found. If not, return the index where it would be if it were inserted in order.<br>\n",
    "    You must write an algorithm with `O(log n)` runtime complexity.\n",
    "\n",
    "\n",
    "* **Examples -**  \n",
    "1. `Input:` nums = [1,3,5,6], target = 5  \n",
    "`Output:` 2  \n",
    "2. `Input:` nums = [1,3,5,6], target = 2  \n",
    "`Output:` 1  \n",
    "3. `Input:` nums = [1,3,5,6], target = 7  \n",
    "`Output:` 4  \n",
    "\n",
    "\n",
    "* **Constraints -**\n",
    "- `1 <= nums.length <= 104`\n",
    "- `-104 <= nums[i] <= 104`\n",
    "- `nums` contains **distinct** values sorted in **ascending** order.\n",
    "- `-104 <= target <= 104`"
   ]
  },
  {
   "cell_type": "code",
   "execution_count": 1,
   "id": "e629aaf0",
   "metadata": {},
   "outputs": [],
   "source": [
    "from typing import List                                              # Tracing: Ex 1 -                                                         # Ex 2 -\n",
    "\n",
    "class Solution:\n",
    "    def searchInsert(self, nums: List[int], target: int) -> int:     # nums = [1, 3, 5, 6], target = 5                                         # nums = [1, 3, 5, 6], target = 0\n",
    "        left, right = 0, len(nums) - 1                               # left = 0, right = 4 - 1 = 3                                             # left = 0, right = 4 - 1 = 3\n",
    "\n",
    "        while left <= right:                                         # while 0 <= 3:                          # while 2 <= 3:                  # while 0 <= 3:                          # while 0 <= 0 \n",
    "            mid = left + (right - left) // 2                         # mid = 0 + (3)//2 = 1                   # mid = 2 + (3 -2)//2 = 2        # mid = 0 + (3)//2 = 1                   # mid = 0\n",
    "\n",
    "            if nums[mid] == target:                                  # if nums[1] == 5: -> 3 ==5: (False)     # if nums[2] == 5: -> 5 == 5:    # if nums[1] == 0: -> 3 == 0 (False)     # if nums[0] == 0\n",
    "                return mid                                           # skip                                   # return 2                       # skip                                   # return 0 \n",
    "            elif nums[mid] < target:                                 # elif 3 < 5:                                                             # elif nums[1] < 0: -> 3 < 0 (False)     \n",
    "                left = mid + 1                                       # left = 1 + 1 = 2                                                        # skip                                    \n",
    "            else:                                                    # skip                                                                    \n",
    "                right = mid - 1                                                                                                                # right = mid - 1 = 1 - 1 = 0 \n",
    "\n",
    "        return left\n"
   ]
  },
  {
   "cell_type": "markdown",
   "id": "065af1fa",
   "metadata": {},
   "source": [
    "#### <span style=\"background-color: yellow;\">Notes -</span>\n",
    "\n",
    "* **`left - `** Left most index in nums initially.\n",
    "* **`right - `** Right most index in nums initially. \n",
    "* **`mid - `** All the indices in between **left** and **right**.  "
   ]
  },
  {
   "cell_type": "code",
   "execution_count": 2,
   "id": "a5caf035",
   "metadata": {},
   "outputs": [
    {
     "name": "stdout",
     "output_type": "stream",
     "text": [
      "2\n"
     ]
    }
   ],
   "source": [
    "# Create an instance of the Solution class\n",
    "solution = Solution()\n",
    "\n",
    "# Example 1 - \n",
    "\n",
    "nums1 = [1, 3, 5, 6]\n",
    "target1 = 5\n",
    "output1 = solution.searchInsert(nums1, target1)\n",
    "print(output1)  # Output: 2\n"
   ]
  },
  {
   "cell_type": "code",
   "execution_count": 3,
   "id": "b31d3903",
   "metadata": {},
   "outputs": [
    {
     "name": "stdout",
     "output_type": "stream",
     "text": [
      "1\n"
     ]
    }
   ],
   "source": [
    "# Example 2 -\n",
    "\n",
    "nums2 = [1, 3, 5, 6]\n",
    "target2 = 2\n",
    "output2 = solution.searchInsert(nums2, target2)\n",
    "print(output2)  # Output: 1\n"
   ]
  },
  {
   "cell_type": "code",
   "execution_count": 4,
   "id": "f31f1e18",
   "metadata": {},
   "outputs": [
    {
     "name": "stdout",
     "output_type": "stream",
     "text": [
      "4\n"
     ]
    }
   ],
   "source": [
    "# Example 3 -\n",
    "\n",
    "nums3 = [1, 3, 5, 6]\n",
    "target3 = 7\n",
    "output3 = solution.searchInsert(nums3, target3)\n",
    "print(output3)  # Output: 4\n"
   ]
  },
  {
   "cell_type": "code",
   "execution_count": 5,
   "id": "3a38ffae",
   "metadata": {},
   "outputs": [
    {
     "name": "stdout",
     "output_type": "stream",
     "text": [
      "0\n"
     ]
    }
   ],
   "source": [
    "# Example 4 -\n",
    "\n",
    "nums4 = [1, 2, 3, 4, 5]\n",
    "target4 = 1\n",
    "output4 = solution.searchInsert(nums4, target4)\n",
    "print(output4)  # Output: 0                      # return left - the last most statement is executed\n"
   ]
  },
  {
   "cell_type": "code",
   "execution_count": 6,
   "id": "cbf321b8",
   "metadata": {},
   "outputs": [
    {
     "name": "stdout",
     "output_type": "stream",
     "text": [
      "0\n"
     ]
    }
   ],
   "source": [
    "# Example 5 - Settin the target to 0 \n",
    "\n",
    "nums5 = [1, 3, 5, 6]\n",
    "target5 = 0\n",
    "output5 = solution.searchInsert(nums5, target5)\n",
    "print(output5)  # Output: 0\n"
   ]
  }
 ],
 "metadata": {
  "kernelspec": {
   "display_name": "Python 3 (ipykernel)",
   "language": "python",
   "name": "python3"
  },
  "language_info": {
   "codemirror_mode": {
    "name": "ipython",
    "version": 3
   },
   "file_extension": ".py",
   "mimetype": "text/x-python",
   "name": "python",
   "nbconvert_exporter": "python",
   "pygments_lexer": "ipython3",
   "version": "3.9.13"
  }
 },
 "nbformat": 4,
 "nbformat_minor": 5
}
