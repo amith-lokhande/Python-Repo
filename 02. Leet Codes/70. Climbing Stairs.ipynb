{
 "cells": [
  {
   "cell_type": "markdown",
   "id": "a904d547",
   "metadata": {},
   "source": [
    "### <span style=\"background-color: yellow;\">70. Climbing Stairs</span>\n",
    "\n",
    "* **Difficulty -** Easy \n",
    "\n",
    "* **Description -** You are climbing a staircase. It takes `n` steps to reach the top.\n",
    "\n",
    "    Each time you can either climb `1` or `2` steps. In how many distinct ways can you climb to the top?\n",
    "\n",
    "\n",
    "* **Examples -**  \n",
    "1. `Input:` n = 2  \n",
    "`Output:` 2  \n",
    "`Explanation:` There are two ways to climb to the top.  \n",
    "a. 1 step + 1 step  \n",
    "b. 2 steps\n",
    "2. `Input:` n = 3  \n",
    "`Output:` 3  \n",
    "`Explanation:` There are three ways to climb to the top.  \n",
    "a. 1 step + 1 step + 1 step  \n",
    "b. 1 step + 2 steps  \n",
    "c. 2 steps + 1 step  \n",
    "\n",
    "\n",
    "* **Constraints -**\n",
    "- `1 <= n <= 45`"
   ]
  },
  {
   "cell_type": "code",
   "execution_count": 1,
   "id": "c491ef56",
   "metadata": {},
   "outputs": [],
   "source": [
    "class Solution:                              # Tracing: Ex 1 -                                   # Ex 2 - \n",
    "    def climbStairs(self, n: int) -> int:    # climbstairs(3)  i.e., n-3                         # n = 4\n",
    "        if n <= 2:                           # if 3 <=2: (False)                                 # if 4 <=2: (False)\n",
    "            return n                         # skip                                              # skip\n",
    "        \n",
    "        # dp - dynamic programming array\n",
    "        dp = [0] * (n + 1)                   # dp = [0] * (4) = [0, 0, 0, 0]                     # dp = [0] * (5) = [0, 0, 0, 0, 0]\n",
    "        dp[1] = 1                            # dp[1] = 1 = [0, 1, 0, 0]                          # dp[1] = 1 = [0, 1, 0, 0, 0]\n",
    "        dp[2] = 2                            # dp[2] = 2 = [0, 1, 2, 0]                          # dp[2] = 2 = [0, 1, 2, 0, 0]\n",
    "        \n",
    "        for i in range(3, n + 1):            # for i in range(3, 4): i.e., i = 3                 # for i in range(3, 5): i.e., i = 3, 4     # for i = 4  \n",
    "            dp[i] = dp[i - 1] + dp[i - 2]    # dp[3] = dp[2] + dp[1] = 2 + 1 = 3                 # dp[3] = dp[2] + dp[1] = 2 + 1 = 3        # dp[4] = 3 + 2 = 5\n",
    "        \n",
    "        return dp[n]                         # return 3                                                                                     # return 5 \n"
   ]
  },
  {
   "cell_type": "code",
   "execution_count": 2,
   "id": "501f00b3",
   "metadata": {},
   "outputs": [
    {
     "name": "stdout",
     "output_type": "stream",
     "text": [
      "1\n"
     ]
    }
   ],
   "source": [
    "# Create an instance of the Solution class\n",
    "solution = Solution()\n",
    "\n",
    "# Example 1 - Call the climbStairs method with n = 1\n",
    "result = solution.climbStairs(1)\n",
    "\n",
    "# Print the result\n",
    "print(result)\n"
   ]
  },
  {
   "cell_type": "code",
   "execution_count": 3,
   "id": "08c64fc8",
   "metadata": {},
   "outputs": [
    {
     "name": "stdout",
     "output_type": "stream",
     "text": [
      "2\n"
     ]
    }
   ],
   "source": [
    "# Example 2 - Call the climbStairs method with n = 2\n",
    "result = solution.climbStairs(2)\n",
    "\n",
    "# Print the result\n",
    "print(result)\n"
   ]
  },
  {
   "cell_type": "code",
   "execution_count": 4,
   "id": "ec75f467",
   "metadata": {},
   "outputs": [
    {
     "name": "stdout",
     "output_type": "stream",
     "text": [
      "3\n"
     ]
    }
   ],
   "source": [
    "# Example 3 - Call the climbStairs method with n = 3\n",
    "result = solution.climbStairs(3)\n",
    "\n",
    "# Print the result\n",
    "print(result)\n"
   ]
  },
  {
   "cell_type": "code",
   "execution_count": 5,
   "id": "b75bdcf4",
   "metadata": {},
   "outputs": [
    {
     "name": "stdout",
     "output_type": "stream",
     "text": [
      "5\n"
     ]
    }
   ],
   "source": [
    "# Example 4 - Call the climbStairs method with n = 4\n",
    "result = solution.climbStairs(4)\n",
    "\n",
    "# Print the result\n",
    "print(result)\n"
   ]
  },
  {
   "cell_type": "code",
   "execution_count": 6,
   "id": "b7e3e63d",
   "metadata": {},
   "outputs": [
    {
     "name": "stdout",
     "output_type": "stream",
     "text": [
      "8\n"
     ]
    }
   ],
   "source": [
    "# Example 5 - Call the climbStairs method with n = 5\n",
    "result = solution.climbStairs(5)\n",
    "\n",
    "# Print the result\n",
    "print(result)"
   ]
  }
 ],
 "metadata": {
  "kernelspec": {
   "display_name": "Python 3 (ipykernel)",
   "language": "python",
   "name": "python3"
  },
  "language_info": {
   "codemirror_mode": {
    "name": "ipython",
    "version": 3
   },
   "file_extension": ".py",
   "mimetype": "text/x-python",
   "name": "python",
   "nbconvert_exporter": "python",
   "pygments_lexer": "ipython3",
   "version": "3.9.13"
  }
 },
 "nbformat": 4,
 "nbformat_minor": 5
}
