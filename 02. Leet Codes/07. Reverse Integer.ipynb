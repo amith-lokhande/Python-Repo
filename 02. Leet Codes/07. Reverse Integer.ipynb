{
 "cells": [
  {
   "cell_type": "markdown",
   "id": "c0c12fd2",
   "metadata": {},
   "source": [
    "### <span style=\"background-color: yellow;\">7. Reverse Integer</span>\n",
    "\n",
    "* **Difficulty** - Medium\n",
    "\n",
    "* **Description** - Given a signed 32-bit integer x, return x with its digits reversed. If reversing x causes the value to go outside the signed 32-bit integer range [-231, 231 - 1], then return 0.\n",
    "\n",
    "Assume the environment does not allow you to store 64-bit integers (signed or unsigned).\n",
    "* **Examples -**\n",
    "1. Input: x = 123  \n",
    "Output: 321\n",
    "2. Input: x = -123  \n",
    "Output: -321\n",
    "3. Input: x = 120  \n",
    "Output: 21\n",
    "* **Constraints -**\n",
    "-231 <= x <= 231 - 1\n"
   ]
  },
  {
   "cell_type": "code",
   "execution_count": 1,
   "id": "8155e292",
   "metadata": {},
   "outputs": [],
   "source": [
    "def reverse(x):                                  # Tracing:            reverse(123) \n",
    "    rev = 0                                                          # rev = 0 \n",
    "\n",
    "    # Check if x is negative\n",
    "    is_negative = x < 0                                              # False \n",
    "    if is_negative:\n",
    "        x = -x\n",
    "\n",
    "    while x != 0:                                                    # while 123 != 0 (True)     # while 12 != 0             # while 1 != 0                # while 0 != 0 (False)  \n",
    "        digit = x % 10          # % - remainder                      # digit = 123 % 10 =  3     # digit = 12 % 10 = 2       # digit = 1 % 10 = 1\n",
    "        rev = rev * 10 + digit                                       # rev = 0 * 10 + 3 = 3      # rev = 3 * 10 + 2 = 32     # rev = 32 * 10 + 1 = 321     \n",
    "        x = x // 10             # // - quotient                      # x = 123 // 10 = 12        # x = 12 // 10 = 1          # x = 1 // 10 = 0\n",
    " \n",
    "    # Check if rev is within the 32-bit signed integer range\n",
    "    if is_negative:                                                  # skip\n",
    "        rev = -rev\n",
    "\n",
    "    if rev < -2**31 or rev > 2**31 - 1:                              # rev > 2**31 - 1 -> 321 > 2147483647 (False)\n",
    "        return 0                \n",
    "\n",
    "    return rev                                                       # return 321   \n"
   ]
  },
  {
   "cell_type": "code",
   "execution_count": 2,
   "id": "1410eed7",
   "metadata": {},
   "outputs": [
    {
     "data": {
      "text/plain": [
       "321"
      ]
     },
     "execution_count": 2,
     "metadata": {},
     "output_type": "execute_result"
    }
   ],
   "source": [
    "# Example 1 -\n",
    "\n",
    "reverse(123)\n",
    "    "
   ]
  },
  {
   "cell_type": "code",
   "execution_count": 3,
   "id": "9e41c6c5",
   "metadata": {},
   "outputs": [
    {
     "data": {
      "text/plain": [
       "-321"
      ]
     },
     "execution_count": 3,
     "metadata": {},
     "output_type": "execute_result"
    }
   ],
   "source": [
    "# Example 2 -\n",
    "\n",
    "reverse(-123)\n"
   ]
  },
  {
   "cell_type": "code",
   "execution_count": 4,
   "id": "3786f027",
   "metadata": {},
   "outputs": [
    {
     "data": {
      "text/plain": [
       "21"
      ]
     },
     "execution_count": 4,
     "metadata": {},
     "output_type": "execute_result"
    }
   ],
   "source": [
    "# Example 3 -\n",
    "\n",
    "reverse(120)\n"
   ]
  },
  {
   "cell_type": "code",
   "execution_count": 5,
   "id": "e63eb39c",
   "metadata": {},
   "outputs": [
    {
     "data": {
      "text/plain": [
       "366.0000000000003"
      ]
     },
     "execution_count": 5,
     "metadata": {},
     "output_type": "execute_result"
    }
   ],
   "source": [
    "# Example 4 - Non Interger example (floating numbers)\n",
    "\n",
    "reverse(123.45)   # Not a valid answer\n"
   ]
  },
  {
   "cell_type": "code",
   "execution_count": 6,
   "id": "54425743",
   "metadata": {
    "scrolled": false
   },
   "outputs": [
    {
     "data": {
      "text/plain": [
       "0"
      ]
     },
     "execution_count": 6,
     "metadata": {},
     "output_type": "execute_result"
    }
   ],
   "source": [
    "# Example 5 - Values greater than 2**31 -1 = 2147483647 (constraints are met)\n",
    "\n",
    "reverse(18237468698566)   # 0 is returned\n"
   ]
  }
 ],
 "metadata": {
  "kernelspec": {
   "display_name": "Python 3 (ipykernel)",
   "language": "python",
   "name": "python3"
  },
  "language_info": {
   "codemirror_mode": {
    "name": "ipython",
    "version": 3
   },
   "file_extension": ".py",
   "mimetype": "text/x-python",
   "name": "python",
   "nbconvert_exporter": "python",
   "pygments_lexer": "ipython3",
   "version": "3.9.13"
  }
 },
 "nbformat": 4,
 "nbformat_minor": 5
}
