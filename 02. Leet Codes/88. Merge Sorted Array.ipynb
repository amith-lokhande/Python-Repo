{
 "cells": [
  {
   "cell_type": "markdown",
   "id": "2f67c22d",
   "metadata": {},
   "source": [
    "### <span style=\"background-color: yellow;\">88. Merge Sorted Array</span>\n",
    "\n",
    "* **Difficulty -** Easy \n",
    "\n",
    "* **Description -** You are given two integer arrays `nums1` and `nums2`, sorted in **non-decreasing order**, and two integers `m` and `n`, representing the number of elements in `nums1` and `nums2` respectively.\n",
    "\n",
    "    **Merge** `nums1` and `nums2` into a single array sorted in **non-decreasing order**.\n",
    "\n",
    "    The final sorted array should not be returned by the function, but instead be stored inside the array `nums1`. To accommodate this, `nums1` has a length of `m + n`, where the first `m` elements denote the elements that should be merged, and the last `n` elements are set to `0` and should be ignored. `nums2` has a length of `n`.\n",
    "\n",
    "\n",
    "* **Examples -**  \n",
    "1. `Input:` nums1 = [1,2,3,0,0,0], m = 3, nums2 = [2,5,6], n = 3  \n",
    "`Output:` [1,2,2,3,5,6]  \n",
    "`Explanation:` The arrays we are merging are [1,2,3] and [2,5,6].  \n",
    "The result of the merge is [1,2,2,3,5,6] with the underlined elements coming from nums1.  \n",
    "2. `Input:` nums1 = [1], m = 1, nums2 = [], n = 0  \n",
    "`Output:` [1]  \n",
    "`Explanation:` The arrays we are merging are [1] and [].  \n",
    "The result of the merge is [1].  \n",
    "3. `Input:` nums1 = [0], m = 0, nums2 = [1], n = 1  \n",
    "`Output:` [1]  \n",
    "`Explanation:` The arrays we are merging are [] and [1].  \n",
    "The result of the merge is [1].  \n",
    "Note that because m = 0, there are no elements in nums1. The 0 is only there to ensure the merge result can fit in nums1.  \n",
    "\n",
    "\n",
    "* **Constraints -**\n",
    "- `nums1.length == m + n`\n",
    "- `nums2.length == n`\n",
    "- `0 <= m, n <= 200`\n",
    "- `1 <= m + n <= 200`\n",
    "- `-109 <= nums1[i], nums2[j] <= 109`\n"
   ]
  },
  {
   "cell_type": "code",
   "execution_count": 2,
   "id": "8e3d8c0a",
   "metadata": {},
   "outputs": [],
   "source": [
    "from typing import List\n",
    "\n",
    "class Solution:                                                                      # Tracing:\n",
    "    def merge(self, nums1: List[int], m: int, nums2: List[int], n: int) -> None:     # nums1 = [1, 2, 3, 0, 0, 0], m = 3, nums2 = [2, 5, 6], n = 3 \n",
    "        p1, p2, p = m - 1, n - 1, m + n - 1                                          # p1 = 2, p2 = 2, p = 5 \n",
    "        \n",
    "        while p1 >= 0 and p2 >= 0:                                                   # while 2 >= 0 and 2 >= 0:                          # while 2 >= 0 and 1 >= 0:                          # while 2 >= 0 and 0 >= 0:                     # while 1 >= 0 amd 0 >= 0:                     # while 0 >= 0 amd 0 >= 0:                          # while 0 >= 0 amd -1 >= 0:\n",
    "            if nums1[p1] >= nums2[p2]:                                               # if nums1[2] >= nums2[2]  i.e., 3 >= 6 (False)     # if nums1[2] >= nums2[1]  i.e., 3 >= 5 (False)     # if nums1[2] >= nums2[0]  i.e., 3 >= 2        # if nums1[1] >= nums2[0]  i.e., 2 >= 2        # if nums1[0] >= nums2[0]  i.e., 1 >= 2 (False)     # skip the entire loop \n",
    "                nums1[p] = nums1[p1]                                                 # skip                                              # skip                                              # nums1[3] = nums1[2] i.e., \"nums1[3] = 3\"     # nums1[2] = nums1[1] i.e., \"nums1[2] = 2\"     # skip\n",
    "                p1 -= 1                                                              #                                                   #                                                   # p1 = p1 - 1 = 1                              # p1 = 0                                       #\n",
    "            else:                                                                    # else:                                             # else:                                             # skip                                         # skip                                         # else:\n",
    "                nums1[p] = nums2[p2]                                                 # nums1[5] = nums2[2] i.e., \"nums1[5] = 6\"          # nums1[4] = nums2[1] i.e., \"nums1[4] = 5\"          #                                              #                                              # nums1[1] = nums2[0] i.e, \"nums1[1] = 2\"\n",
    "                p2 -= 1                                                              # p2 = p2 - 1 = 1                                   # p2 = 0                                            #                                              #                                              # p2 = =1\n",
    "            p -= 1                                                                   # p = p - 1 = 4                                     # p = 3                                             # p = 2                                        # p = 1                                        # p = 0 \n",
    "        \n",
    "        while p2 >= 0:                                                                                                                                                                                                                                                                                                                         # while p2 >= 0: i.e., -1 >= 0\n",
    "            nums1[p] = nums2[p2]                                                                                                                                                                                                                                                                                                               # skip the entire loop\n",
    "            p2 -= 1\n",
    "            p -= 1\n"
   ]
  },
  {
   "cell_type": "markdown",
   "id": "0b491d18",
   "metadata": {},
   "source": [
    "#### <span style=\"background-color: yellow;\">Notes - </span>\n",
    "\n",
    "The `merge` method takes four parameters: `nums1`, `m`, `nums2`, and `n`. `nums1` is an integer array of size `m + n` representing the first sorted array. `m` is the number of elements in `nums1` (excluding the elements filled with 0s at the end), `nums2` is an integer array representing the second sorted array, and `n` is the number of elements in `nums2`.\n",
    "\n",
    "The approach of this solution is to use three pointers: `p1`, `p2`, and `p`. `p1` and `p2` initially point to the last valid elements in `nums1` and `nums2`, respectively. `p` points to the last position in the merged array `nums1`.\n",
    "\n",
    "The solution performs the following steps:\n",
    "\n",
    "1. Compare the elements at `nums1[p1]` and `nums2[p2]` and place the larger element at `nums1[p]`.\n",
    "2. Decrement the corresponding pointer (`p1` or `p2`) and `p` by 1.\n",
    "3. Repeat step 1 and step 2 until either `p1` or `p2` becomes less than 0.\n",
    "4. If there are remaining elements in `nums2` (i.e., `p2` is greater than or equal to 0), copy them to the remaining positions in `nums1`.\n",
    "5. Return the modified `nums1` array.<br>\n",
    "\n",
    "This solution merges the two sorted arrays in-place, with a time complexity of O(m + n) and a space complexity of O(1).\n"
   ]
  },
  {
   "cell_type": "code",
   "execution_count": 3,
   "id": "2a1f8e1c",
   "metadata": {},
   "outputs": [
    {
     "name": "stdout",
     "output_type": "stream",
     "text": [
      "[1, 2, 2, 3, 5, 6]\n"
     ]
    }
   ],
   "source": [
    "# Create an instance of the Solution class\n",
    "solution = Solution()\n",
    "\n",
    "# Example 1 -\n",
    "\n",
    "# Define the input arrays\n",
    "nums1 = [1, 2, 3, 0, 0, 0]  # First sorted array with extra space for merging\n",
    "m = 3                       # Number of elements in nums1\n",
    "nums2 = [2, 5, 6]           # Second sorted array\n",
    "n = 3                       # Number of elements in nums2\n",
    "\n",
    "# Call the merge method\n",
    "solution.merge(nums1, m, nums2, n)\n",
    "\n",
    "# Print the merged array\n",
    "print(nums1)\n"
   ]
  },
  {
   "cell_type": "code",
   "execution_count": 4,
   "id": "cfc800c9",
   "metadata": {},
   "outputs": [
    {
     "name": "stdout",
     "output_type": "stream",
     "text": [
      "[1]\n"
     ]
    }
   ],
   "source": [
    "# Example 2 -\n",
    "\n",
    "# Define the input arrays\n",
    "nums1 = [1] # First sorted array\n",
    "m = 1       # Number of elements in nums1\n",
    "nums2 = []  # Second sorted array\n",
    "n = 0       # Number of elements in nums2\n",
    "\n",
    "# Call the merge method\n",
    "solution.merge(nums1, m, nums2, n)\n",
    "\n",
    "# Print the merged array\n",
    "print(nums1)\n"
   ]
  },
  {
   "cell_type": "code",
   "execution_count": 5,
   "id": "a2775b9c",
   "metadata": {},
   "outputs": [
    {
     "name": "stdout",
     "output_type": "stream",
     "text": [
      "[1]\n"
     ]
    }
   ],
   "source": [
    "# Example 2 -\n",
    "\n",
    "# Define the input arrays\n",
    "nums1 = [0] # First sorted array\n",
    "m = 0       # Number of elements in nums1\n",
    "nums2 = [1] # Second sorted array\n",
    "n = 1       # Number of elements in nums2\n",
    "\n",
    "# Call the merge method\n",
    "solution.merge(nums1, m, nums2, n)\n",
    "\n",
    "# Print the merged array\n",
    "print(nums1)\n"
   ]
  },
  {
   "cell_type": "code",
   "execution_count": null,
   "id": "fb5d61a2",
   "metadata": {},
   "outputs": [],
   "source": []
  }
 ],
 "metadata": {
  "kernelspec": {
   "display_name": "Python 3 (ipykernel)",
   "language": "python",
   "name": "python3"
  },
  "language_info": {
   "codemirror_mode": {
    "name": "ipython",
    "version": 3
   },
   "file_extension": ".py",
   "mimetype": "text/x-python",
   "name": "python",
   "nbconvert_exporter": "python",
   "pygments_lexer": "ipython3",
   "version": "3.9.13"
  }
 },
 "nbformat": 4,
 "nbformat_minor": 5
}
