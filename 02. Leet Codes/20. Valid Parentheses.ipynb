{
 "cells": [
  {
   "cell_type": "markdown",
   "id": "91f2c947",
   "metadata": {},
   "source": [
    "### <span style=\"background-color: yellow;\">20. Valid Parentheses</span>\n",
    "\n",
    "* **Difficulty** - Easy \n",
    "\n",
    "* **Description** - Given a string s containing just the characters '(', ')', '{', '}', '[' and ']', determine if the input string is valid.\n",
    "\n",
    "An input string is valid if:\n",
    "\n",
    "- Open brackets must be closed by the same type of brackets.\n",
    "- Open brackets must be closed in the correct order.\n",
    "- Every close bracket has a corresponding open bracket of the same type.\n",
    "\n",
    "\n",
    "* **Examples -**\n",
    "1. Input: s = \"()\"  \n",
    "Output: true\n",
    "2. Input: s = \"()[]{}\"  \n",
    "Output: true\n",
    "3. Input: s = \"(]\"  \n",
    "Output: false\n",
    "\n",
    "* **Constraints -**\n",
    "- 1 <= s.length <= 104\n",
    "- s consists of parentheses only '()[]{}'\n"
   ]
  },
  {
   "cell_type": "code",
   "execution_count": 1,
   "id": "06092bc8",
   "metadata": {},
   "outputs": [],
   "source": [
    "def isValid(s):                          # Tracing:        # isValid(s) -> Here, s = \"({[]})\"\n",
    "    stack = []                                             # stack = [] \n",
    "\n",
    "    for char in s:                                         # for ( in s:                            # for { in s:                                  # for [ in s:                                      # for ] in s: \n",
    "        if char in \"({[\":                                  # if ( in \"({[\"  (True)                  # if { in \"({[\"                                # if [ in \"({[\"                                    # if ] in \"({[\" (False)\n",
    "            stack.append(char)                             # stack.append('(') -> stack = ['(']     # stack.append('{') -> stack = ['(', '{']      # stack.append('[') -> stack = ['(', '{', '[']     \n",
    "        elif char in \")}]\":\n",
    "            if not stack:    # meaning - if stack is empty                                                                                                                                                                         # if not stack -> stack = ['(', '{', '['] (False)     # if not stack -> stack = ['(', '{'] (False)    # if not stack -> stack = ['('] (False)                                            \n",
    "                return False\n",
    "            if char == \")\" and stack[-1] == \"(\":                                                                                                                                                                                   # skip                                                # skip                                          # char == \")\" and stack[-1] == \"(\":                \n",
    "                stack.pop()                                                                                                                                                                                                                                                                                                              # stack.pop() -> stack = []            -> (JFR) len(stack) = 0. All the characters in \"s\" are completed so we come out of the loop \n",
    "            elif char == \"}\" and stack[-1] == \"{\":                                                                                                                                                                                 # skip                                                # char == \"}\" and stack[-1] == \"{\": (True)                                             \n",
    "                stack.pop()                                                                                                                                                                                                                                                              # stack.pop() -> stack = ['(']                                                         \n",
    "            elif char == \"]\" and stack[-1] == \"[\":                                                                                                                                                                                 # char == \"]\" and stack[-1] == \"[\": (True)                           \n",
    "                stack.pop()  # removes the last element from the list / stack                                                                                                                                                      # stack.pop() -> stack = ['(', '{']                         \n",
    "            else:\n",
    "                return False\n",
    "\n",
    "    return len(stack) == 0                                                                                                                                                                                                                                                                                                                                                             # return len(stack) == 0 -> len(stack) = 0; return 0 == 0 (True)\n"
   ]
  },
  {
   "cell_type": "markdown",
   "id": "cbffcc0b",
   "metadata": {},
   "source": [
    "#### <span style=\"background-color: yellow;\">Explaining Stack - </span>\n",
    "\n",
    "A `stack` is a fundamental data structure that follows the `Last-In-First-Out (LIFO) principle`. It is an abstract collection of elements with two main operations: push and pop.\n",
    "\n",
    "Here are the key characteristics of a `stack`:\n",
    "\n",
    "* **`LIFO Order:`** The last element added to the stack is the first one to be removed. Elements are inserted and removed from only one end, called the top of the stack.\n",
    "\n",
    "* **`Push`**: The push operation adds an element to the top of the stack. It places the new element on top of the existing elements, increasing the stack's size.\n",
    "\n",
    "* **`Pop`**: The pop operation removes the top element from the stack. It returns the removed element and adjusts the stack size accordingly.\n",
    "\n",
    "* **`Peek`**: The peek operation retrieves the top element from the stack without removing it. It allows you to inspect the element at the top of the stack.\n",
    "\n",
    "Stacks are commonly visualized as a vertical structure, with elements stacked on top of each other. Think of a stack of books, where you can add or remove a book only from the top.\n",
    "\n",
    "Stacks have various applications in computer science and programming. They are often used for tasks involving backtracking, recursion, expression evaluation, undo/redo functionality, and managing function calls and local variables in programming languages"
   ]
  },
  {
   "cell_type": "code",
   "execution_count": 2,
   "id": "0c066db8",
   "metadata": {},
   "outputs": [
    {
     "data": {
      "text/plain": [
       "True"
      ]
     },
     "execution_count": 2,
     "metadata": {},
     "output_type": "execute_result"
    }
   ],
   "source": [
    "# Example 1 -\n",
    "\n",
    "s = \"()\"  \n",
    "\n",
    "isValid(s)\n"
   ]
  },
  {
   "cell_type": "code",
   "execution_count": 3,
   "id": "44716b84",
   "metadata": {},
   "outputs": [
    {
     "data": {
      "text/plain": [
       "True"
      ]
     },
     "execution_count": 3,
     "metadata": {},
     "output_type": "execute_result"
    }
   ],
   "source": [
    "# Example 2 -\n",
    "\n",
    "s = \"()[]{}\" \n",
    "\n",
    "isValid(s)\n"
   ]
  },
  {
   "cell_type": "code",
   "execution_count": 4,
   "id": "215b1bc7",
   "metadata": {},
   "outputs": [
    {
     "data": {
      "text/plain": [
       "False"
      ]
     },
     "execution_count": 4,
     "metadata": {},
     "output_type": "execute_result"
    }
   ],
   "source": [
    "# Example 3 -\n",
    "\n",
    "s = \"(]\"\n",
    "\n",
    "isValid(s)\n"
   ]
  },
  {
   "cell_type": "code",
   "execution_count": 5,
   "id": "a8fc6322",
   "metadata": {},
   "outputs": [
    {
     "data": {
      "text/plain": [
       "True"
      ]
     },
     "execution_count": 5,
     "metadata": {},
     "output_type": "execute_result"
    }
   ],
   "source": [
    "# Example 4 -\n",
    "\n",
    "s = \"({[]})\"\n",
    "\n",
    "isValid(s)\n"
   ]
  },
  {
   "cell_type": "code",
   "execution_count": null,
   "id": "e8369231",
   "metadata": {},
   "outputs": [],
   "source": []
  }
 ],
 "metadata": {
  "kernelspec": {
   "display_name": "Python 3 (ipykernel)",
   "language": "python",
   "name": "python3"
  },
  "language_info": {
   "codemirror_mode": {
    "name": "ipython",
    "version": 3
   },
   "file_extension": ".py",
   "mimetype": "text/x-python",
   "name": "python",
   "nbconvert_exporter": "python",
   "pygments_lexer": "ipython3",
   "version": "3.9.13"
  }
 },
 "nbformat": 4,
 "nbformat_minor": 5
}
