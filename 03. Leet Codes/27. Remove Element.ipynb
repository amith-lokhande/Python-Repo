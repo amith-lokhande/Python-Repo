{
 "cells": [
  {
   "cell_type": "markdown",
   "id": "0dc783e3",
   "metadata": {},
   "source": [
    "### <span style=\"background-color: yellow;\">27. Remove Element</span>\n",
    "\n",
    "* **Difficulty -** Easy   \n",
    "* **Description -** Given an integer array `nums` and an integer `val`, remove all occurrences of `val` in `nums` **in-place**. The order of the elements may be changed. Then return the number of elements in `nums` which are not equal to `val`.\n",
    "\n",
    "    Consider the number of elements in `nums` which are not equal to `val` be `k`, to get accepted, you need to do the following things:\n",
    "    - Change the array `nums` such that the first `k` elements of `nums` contain the elements which are not equal to `val`. The remaining elements of `nums` are not important as well as the size of `nums`.\n",
    "    - Return `k`.\n",
    "\n",
    "**`Custom Judge:`**\n",
    "\n",
    "    The judge will test your solution with the following code:\n",
    "\n",
    "```python\n",
    "int[] nums = [...]; // Input array\n",
    "int val = ...; // Value to remove\n",
    "int[] expectedNums = [...]; // The expected answer with correct length.\n",
    "                            // It is sorted with no values equaling val.\n",
    "\n",
    "int k = removeElement(nums, val); // Calls your implementation\n",
    "\n",
    "assert k == expectedNums.length;\n",
    "sort(nums, 0, k); // Sort the first k elements of nums\n",
    "for (int i = 0; i < actualLength; i++) {\n",
    "    assert nums[i] == expectedNums[i];\n",
    "}\n",
    "If all assertions pass, then your solution will be accepted.\n",
    "```\n",
    "* **Examples -**  \n",
    "1. `Input:` nums = [3,2,2,3], val = 3     \n",
    "`Output:` 2, nums = [2,2,_,_]  \\\n",
    "`Explanation:` Your function should return k = 2, with the first two elements of nums being 2.  \n",
    "It does not matter what you leave beyond the returned k (hence they are underscores).  \n",
    "2. `Input:` nums = [0,1,2,2,3,0,4,2], val = 2  \n",
    "`Output:` 5, nums = [0,1,4,0,3,_,_,_]  \n",
    "`Explanation:` Your function should return k = 5, with the first five elements of nums containing 0, 0, 1, 3, and 4.  \n",
    "Note that the five elements can be returned in any order.\n",
    "It does not matter what you leave beyond the returned k (hence they are underscores).\n",
    "\n",
    "\n",
    "\n",
    "* **Constraints -**\n",
    "- 0 <= nums.length <= 100\n",
    "- 0 <= nums[i] <= 50\n",
    "- 0 <= val <= 100\n"
   ]
  },
  {
   "cell_type": "code",
   "execution_count": 1,
   "id": "f9768c6d",
   "metadata": {},
   "outputs": [],
   "source": [
    "from typing import List                                                 # Tracing:\n",
    "\n",
    "class Solution:\n",
    "    def removeElement(self, nums: List[int], val: int) -> int:                       # JFR :- nums = [3, 2, 2, 3], val = 3\n",
    "        \n",
    "        # Initialize a pointer \"i\" to keep track of the next position to overwrite\n",
    "        i = 0                                                                        # i = 0\n",
    "        \n",
    "        for num in nums:                                                             # for 3 in [3, 2, 2, 3]:     # for 2 in nums:     # for 2 in nums:     # for 3 in nums:   \n",
    "            if num != val:                                                           # if 3 != 3: (False)         # if 2 != 3:         # if 2 != 3:         # if 3 != 3: (False)\n",
    "                nums[i] = num                                                        # skip                       # nums[0] =  2       # nums[1] = 2        # skip\n",
    "                i += 1                                                                                            # i = 0 + 1 = 1      # i = 1 + 1 = 2 \n",
    "        return i                                                                                                                                            # return 2  - this is nothing but the length\n"
   ]
  },
  {
   "cell_type": "code",
   "execution_count": 2,
   "id": "4e4c2db7",
   "metadata": {},
   "outputs": [
    {
     "name": "stdout",
     "output_type": "stream",
     "text": [
      "Modified List: [2, 2]\n",
      "Length of Modified Array: 2\n"
     ]
    }
   ],
   "source": [
    "# Example 1 - \n",
    "\n",
    "# i/p:\n",
    "nums = [3, 2, 2, 3]\n",
    "val = 3\n",
    "\n",
    "# o/p:\n",
    "solution = Solution()\n",
    "result_length = solution.removeElement(nums, val)\n",
    "result_list = nums[:result_length]\n",
    "\n",
    "print(\"Modified List:\", result_list)\n",
    "print(\"Length of Modified Array:\", result_length)\n"
   ]
  },
  {
   "cell_type": "code",
   "execution_count": 3,
   "id": "c20853e4",
   "metadata": {},
   "outputs": [
    {
     "name": "stdout",
     "output_type": "stream",
     "text": [
      "Modified List: [0, 1, 3, 0, 4]\n",
      "Length of Modified Array: 5\n"
     ]
    }
   ],
   "source": [
    "# Example 2 - \n",
    "\n",
    "# i/p:\n",
    "nums = [0, 1, 2, 2, 3, 0, 4, 2]\n",
    "val = 2\n",
    "\n",
    "# o/p:\n",
    "solution = Solution()\n",
    "result_length = solution.removeElement(nums, val)\n",
    "result_list = nums[:result_length]\n",
    "\n",
    "print(\"Modified List:\", result_list)\n",
    "print(\"Length of Modified Array:\", result_length)\n"
   ]
  }
 ],
 "metadata": {
  "kernelspec": {
   "display_name": "Python 3 (ipykernel)",
   "language": "python",
   "name": "python3"
  },
  "language_info": {
   "codemirror_mode": {
    "name": "ipython",
    "version": 3
   },
   "file_extension": ".py",
   "mimetype": "text/x-python",
   "name": "python",
   "nbconvert_exporter": "python",
   "pygments_lexer": "ipython3",
   "version": "3.9.13"
  }
 },
 "nbformat": 4,
 "nbformat_minor": 5
}
