{
 "cells": [
  {
   "cell_type": "markdown",
   "id": "8ce8b97b",
   "metadata": {},
   "source": [
    "### <span style=\"background-color: yellow;\">112. Path Sum</span>\n",
    "\n",
    "* **Difficulty -** Easy \n",
    "\n",
    "* **Description -** Given the `root` of a binary tree and an integer `targetSum`, return `true` if the tree has a root-to-leaf path such that adding up all the values along the path equals `targetSum`.\n",
    "\n",
    "    A **leaf** is a node with no children.\n",
    "\n",
    "\n",
    "* **Examples -**  \n",
    "![Ex 1](https://assets.leetcode.com/uploads/2021/01/18/pathsum1.jpg)  \n",
    "1. `Input:` root = [5,4,8,11,null,13,4,7,2,null,null,null,1], targetSum = 22  \n",
    "`Output:` true  \n",
    "`Explanation:` The root-to-leaf path with the target sum is shown.\n",
    "  \n",
    "    ![Ex 2](https://assets.leetcode.com/uploads/2021/01/18/pathsum2.jpg)  \n",
    "2. `Input:` root = [1,2,3], targetSum = 5  \n",
    "`Output:` false  \n",
    "`Explanation:` There two root-to-leaf paths in the tree:  \n",
    "(1 --> 2): The sum is 3.  \n",
    "(1 --> 3): The sum is 4.  \n",
    "There is no root-to-leaf path with sum = 5.   \n",
    "<br> \n",
    "3. `Input:` root = [], targetSum = 0  \n",
    "`Output:` false  \n",
    "`Explanation:` Since the tree is empty, there are no root-to-leaf paths.  \n",
    "\n",
    "* **Constraints -**  \n",
    "- The number of nodes in the tree is in the range `[0, 5000]`.  \n",
    "- `-1000 <= Node.val <= 1000`  \n",
    "- `-1000 <= targetSum <= 1000`\n"
   ]
  },
  {
   "cell_type": "code",
   "execution_count": 1,
   "id": "8f853541",
   "metadata": {},
   "outputs": [],
   "source": [
    "# Definition for a binary tree node.\n",
    "                                                          # Tracing:\n",
    "\n",
    "class TreeNode:                                           # root = TreeNode(5)                 # root.right.right = TreeNode(4)           # targetSum = 22\n",
    "    def __init__(self, val=0, left=None, right=None):     # root.left = TreeNode(4)            # root.left.left.left = TreeNode(7)\n",
    "        self.val = val                                    # root.right = TreeNode(8)           # root.left.left.right = TreeNode(2)\n",
    "        self.left = left                                  # root.left.left = TreeNode(11)      # root.right.right.right = TreeNode(1)     \n",
    "        self.right = right                                # root.right.left = TreeNode(13)     \n",
    "                                                          \n",
    "                                                                                                                         # JFR: Part - A                                                                                                     # JFR: Part A (1) -> B                                                                                                                  # JFR: Part A (2) -> C                                                                                                                     # JFR: Part B (1) -> D                                                                                                                                                 # JFR: Part B (2) -> E                 \n",
    "class Solution:                                                                                                                                                                                                                              # JFR: Return (1/2)                                                                                                                     # Return (2/2)                                                                                                                             # JFR: Return (1/2)                                                                                                                                                    # JFR: Return (2/2)\n",
    "    def hasPathSum(self, root: TreeNode, targetSum: int) -> bool:                                                        # JFR: root = root                                                                                                  # JFR: root = root.left                                                                                                                 # JFR: root = root.right                                                                                                                   # JFR: root = root.left.left = TreeNode(11), target = 13                                                                                                               # \n",
    "        if root is None:                                                                                                 # if root (TreeNode(5)) is None: (False)                                                                            # if TreeNode(4) is None: (False)                                                                                                       # if TreeNode(8) is None: (False)                                                                                                          # if TreeNode(11) is None: (False)                                                                                                                                     # \n",
    "            return False                                                                                                 # skip                                                                                                              # skip                                                                                                                                  # skip                                                                                                                                     # skip                                                                                                                                                                 #\n",
    "\n",
    "        # Check if the current node is a leaf node and its value matches the targetSum                                   # JFR: root.left = root.left; root.right = root.right; root.val = root.val                                          # JFR: root.left = root.left.left; root.right = root.left.right; root.val = root.left.val = 4                                           # JFR: root.left = root.right.left; root.right = root.right.right; root.val = root.right.val = 8                                           # JFR: root.left = root.left.left.left; root.right = root.left.left.right; root.val = root.left.left.val = 11                                                          #\n",
    "        if root.left is None and root.right is None and root.val == targetSum:                                           # if TreeNode(5) is None and TreeNode(8) and 5 == 22: (False)                                                       # if TreeNode(11) is None and \"None\" and 4 == 17  -> context: False and True and False -> False                                         # if TreeNode(13) is None and TreeNode(4) is None and 8 == 17: (False)                                                                     # if TreeNode(7) is None and TreeNode(2) is None and 8 == 17 (False) and 11==13: (False)                                                                               #\n",
    "            return True                                                                                                  # skip                                                                                                              # skip                                                                                                                                  # skip                                                                                                                                     # skip                                                                                                                                                                 #\n",
    "\n",
    "        # Recursively check if there exists a path with the remaining targetSum in the left or right subtree             # JFR: self.hasPathSum(root.left, targetSum - root.val)       self.hasPathSum(root.right, targetSum - root.val)     # JFR: self.hasPathSum(root.left.left, targetSum - root.left.val)       self.hasPathSum(root.left.right, targetSum - root.left.val)     # JFR: self.hasPathSum(root.right.left, targetSum - root.right.val)       self.hasPathSum(root.right.right, targetSum - root.rightval)     # JFR: self.hasPathSum(root.left.left.left, targetSum - root.left.left.left.val)       self.hasPathSum(root.left.left.right, targetSum - root.left.left.right.val)     # \n",
    "        return self.hasPathSum(root.left, targetSum - root.val) or self.hasPathSum(root.right, targetSum - root.val)     # return -> (call) hasPathSum -> \"(TreeNode(4), 17)\" OR hasPathSum -> \"(TreeNode(8), 17)\"                           # return -> (call) hasPathSum -> \"(TreeNode(11), 13)\" OR \"hasPathSum -> (None, 13)\"                                                     # return -> (call) hasPathSum -> \"(TreeNode(13), 9)\" OR \"hasPathSum -> (TreeNode(4), 9)\"                                                   # # return -> (call) hasPathSum -> \"(TreeNode(7), 2)\" OR \"hasPathSum -> (TreeNode(2), 2)\"                                                                              # \n",
    "    "
   ]
  },
  {
   "cell_type": "code",
   "execution_count": 2,
   "id": "cd1c123f",
   "metadata": {},
   "outputs": [
    {
     "name": "stdout",
     "output_type": "stream",
     "text": [
      "True\n"
     ]
    }
   ],
   "source": [
    "# Example 1 - \n",
    "\n",
    "# Create an instance of the Solution class\n",
    "solution = Solution()\n",
    "\n",
    "# Inputs\n",
    "\n",
    "# Creating the binary tree\n",
    "root = TreeNode(5)\n",
    "root.left = TreeNode(4)\n",
    "root.right = TreeNode(8)\n",
    "root.left.left = TreeNode(11)\n",
    "root.right.left = TreeNode(13)\n",
    "root.right.right = TreeNode(4)\n",
    "root.left.left.left = TreeNode(7)\n",
    "root.left.left.right = TreeNode(2)\n",
    "root.right.right.right = TreeNode(1)\n",
    "\n",
    "# Target sum\n",
    "targetSum = 22\n",
    "\n",
    "# Output\n",
    "\n",
    "# Call the hasPathSum method with the binary tree and target sum\n",
    "output = solution.hasPathSum(root, targetSum)\n",
    "\n",
    "# Print the output\n",
    "print(output)"
   ]
  },
  {
   "cell_type": "code",
   "execution_count": 3,
   "id": "6bc330a3",
   "metadata": {},
   "outputs": [
    {
     "name": "stdout",
     "output_type": "stream",
     "text": [
      "False\n"
     ]
    }
   ],
   "source": [
    "# Example 2 - \n",
    "\n",
    "# Inputs\n",
    "\n",
    "# Creating the binary tree\n",
    "root = TreeNode(1)\n",
    "root.left = TreeNode(2)\n",
    "root.right = TreeNode(3)\n",
    "\n",
    "\n",
    "# Target sum\n",
    "targetSum = 5\n",
    "\n",
    "# Output\n",
    "\n",
    "# Call the hasPathSum method with the binary tree and target sum\n",
    "output = solution.hasPathSum(root, targetSum)\n",
    "\n",
    "# Print the output\n",
    "print(output)"
   ]
  },
  {
   "cell_type": "code",
   "execution_count": 4,
   "id": "6e5bd40e",
   "metadata": {},
   "outputs": [
    {
     "name": "stdout",
     "output_type": "stream",
     "text": [
      "True\n"
     ]
    }
   ],
   "source": [
    "# There are only 2 target possible in this binary tree i.e. 3 and 4 \n",
    "\n",
    "# Example 2a - Setting the target as 3\n",
    "\n",
    "# Inputs\n",
    "\n",
    "# Creating the binary tree\n",
    "root = TreeNode(1)\n",
    "root.left = TreeNode(2)\n",
    "root.right = TreeNode(3)\n",
    "\n",
    "\n",
    "# Target sum\n",
    "targetSum = 3\n",
    "\n",
    "# Output\n",
    "\n",
    "# Call the hasPathSum method with the binary tree and target sum\n",
    "output = solution.hasPathSum(root, targetSum)\n",
    "\n",
    "# Print the output\n",
    "print(output)"
   ]
  },
  {
   "cell_type": "code",
   "execution_count": 5,
   "id": "9bd0363e",
   "metadata": {},
   "outputs": [
    {
     "name": "stdout",
     "output_type": "stream",
     "text": [
      "True\n"
     ]
    }
   ],
   "source": [
    "# Example 2b - Setting the target as 4\n",
    "\n",
    "# Inputs\n",
    "\n",
    "# Creating the binary tree\n",
    "root = TreeNode(1)\n",
    "root.left = TreeNode(2)\n",
    "root.right = TreeNode(3)\n",
    "\n",
    "\n",
    "# Target sum\n",
    "targetSum = 4\n",
    "\n",
    "# Output\n",
    "\n",
    "# Call the hasPathSum method with the binary tree and target sum\n",
    "output = solution.hasPathSum(root, targetSum)\n",
    "\n",
    "# Print the output\n",
    "print(output)"
   ]
  },
  {
   "cell_type": "code",
   "execution_count": 6,
   "id": "37a9a1ea",
   "metadata": {},
   "outputs": [
    {
     "name": "stdout",
     "output_type": "stream",
     "text": [
      "False\n"
     ]
    }
   ],
   "source": [
    "# Example 3 \n",
    "\n",
    "# Inputs\n",
    "\n",
    "# Creating the binary tree\n",
    "# no input is given to root. Hence root = TreeNode()\n",
    "\n",
    "# Target sum\n",
    "targetSum = 0\n",
    "\n",
    "# Output\n",
    "\n",
    "# Call the hasPathSum method with the binary tree and target sum\n",
    "output = solution.hasPathSum(root, targetSum)\n",
    "\n",
    "# Print the output\n",
    "print(output)\n",
    "\n",
    "# Note - Running the code multiple times in this cell might alter the output"
   ]
  }
 ],
 "metadata": {
  "kernelspec": {
   "display_name": "Python 3 (ipykernel)",
   "language": "python",
   "name": "python3"
  },
  "language_info": {
   "codemirror_mode": {
    "name": "ipython",
    "version": 3
   },
   "file_extension": ".py",
   "mimetype": "text/x-python",
   "name": "python",
   "nbconvert_exporter": "python",
   "pygments_lexer": "ipython3",
   "version": "3.9.13"
  }
 },
 "nbformat": 4,
 "nbformat_minor": 5
}
