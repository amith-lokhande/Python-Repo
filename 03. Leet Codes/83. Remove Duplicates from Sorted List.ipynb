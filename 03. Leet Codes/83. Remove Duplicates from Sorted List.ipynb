{
 "cells": [
  {
   "cell_type": "markdown",
   "id": "b30e93a0",
   "metadata": {},
   "source": [
    "### <span style=\"background-color: yellow;\">83. Remove Duplicates from Sorted List</span>\n",
    "\n",
    "* **Difficulty -** Easy \n",
    "\n",
    "* **Description -** Given the `head` of a sorted linked list, delete all duplicates such that each element appears only once. Return the linked list **sorted** as well.\n",
    "\n",
    "* **Examples -**  \n",
    "![Example](https://assets.leetcode.com/uploads/2021/01/04/list1.jpg)\n",
    "`1. Input:` head = [1,1,2]  \n",
    "`Output:` [1,2]\n",
    "![Example 2](https://assets.leetcode.com/uploads/2021/01/04/list2.jpg)\n",
    "2. `Input:` head = [1,1,2,3,3]  \n",
    "`Output:` [1,2,3]  \n",
    "\n",
    "\n",
    "* **Constraints -**\n",
    "- The number of nodes in the list is in the range `[0, 300]`.\n",
    "- `-100 <= Node.val <= 100`\n",
    "- The list is guaranteed to be **sorted** in ascending order.\n",
    "\n"
   ]
  },
  {
   "cell_type": "code",
   "execution_count": 1,
   "id": "427adbef",
   "metadata": {},
   "outputs": [
    {
     "ename": "IndentationError",
     "evalue": "unexpected indent (1104095403.py, line 17)",
     "output_type": "error",
     "traceback": [
      "\u001b[1;36m  File \u001b[1;32m\"C:\\Users\\HP\\AppData\\Local\\Temp\\ipykernel_8896\\1104095403.py\"\u001b[1;36m, line \u001b[1;32m17\u001b[0m\n\u001b[1;33m    `#JFR: # ListNode Before - 1, 1, 2, 3, 3\u001b[0m\n\u001b[1;37m    ^\u001b[0m\n\u001b[1;31mIndentationError\u001b[0m\u001b[1;31m:\u001b[0m unexpected indent\n"
     ]
    }
   ],
   "source": [
    "class ListNode:                                                  # Tracing: \n",
    "    def __init__(self, val=0, next=None):                        # list: 1 -> 1 -> 2 -> 3 -> 3\n",
    "        self.val = val\n",
    "        self.next = next\n",
    "\n",
    "class Solution:\n",
    "    def deleteDuplicates(self, head: ListNode) -> ListNode:     # ListNode(1), ListNode(1), ListNode(2)....        \n",
    "        if not head:                                            # if head = '' i.e., (empty) (False)              `# JFR:                                    `# JFR:                                         `# JFR:\n",
    "            return head                                         # skip                                             # current = 1                              # current = 2                                   # current = 3\n",
    "                                                                                                                   # current.next = 2`                        # current.next = 3`                             # current.next = 3` \n",
    "        current = head                                          # \"current = ListNode(1)\"                            \n",
    "        while current.next:                                     # while current.next  i.e., while ListNode(1):     # while current.next i.e., ListNode(2)     # while current.next i.e., ListNode(3)          # while current.next i.e., ListNode(3)\n",
    "            if current.val == current.next.val:                 # if 1 == 1:                                       # if 1 ==2: (False)                        # if 2 == 3: (False)                            # if 3 == 3 \n",
    "                current.next = current.next.next                # current.next = current.next.next                 # skip                                     # skip                                          # current.next == current.next.next\n",
    "            else:                                               # i.e., current.next = ListNode(2)                 # else:                                    # else:                                         # current.next = \"\" (empty - as there is no current.next.next)\n",
    "                current = current.next                                                                             # \"current = current.next = 2\"             # \"current = current.next = 3\"               \n",
    "                                                         `#JFR: # ListNode Before - 1, 1, 2, 3, 3                                                 \n",
    "                                                                # ListNode After - 1, 2, 3, 3`                    `# ListNode - 1, 2, 3, 3`                  `# ListNode - 1, 2, 3, 3`                       `# ListNode - 1, 2, 3`\n",
    "        \n",
    "        return head                                             # return head (current) = ListNode(1) - Here head.next will be Listnode(2) and head.next.next will be Listnode(3). Refer the below line \n",
    "\n",
    "                                                                # 1st inst: current = ListNode(1)                  # 2nd inst: current.next = ListNode(2)     # 3rd inst: current.next.next = ListNode(3)     # No mention of current anywhere in the while loop. Last instance was 3rd\n",
    "        \n",
    "        # Refer Leetcode 21 as it is similar and Listnodes are used there as well."
   ]
  },
  {
   "cell_type": "markdown",
   "id": "4626a88d",
   "metadata": {},
   "source": [
    "#### <span style=\"background-color: yellow;\">Notes -</span>\n",
    "\n",
    "**In the above solution, a `linked list` is used because the problem statement specifically mentions working with a linked list. However, if the problem allows using a direct list, you can indeed modify the solution to use a regular list (e.g., Python list) instead of a linked list.**\n",
    "\n",
    "Using a linked list in the solution has certain advantages and considerations:\n",
    "\n",
    "**Advantages of Linked List:** <br>\n",
    "**`1. Memory Efficiency:`** Linked lists can be more memory-efficient compared to regular lists since they only require memory for the individual nodes and their connections, rather than allocating a contiguous block of memory for the entire list.<br>\n",
    "**`2. Dynamic Size:`** Linked lists can easily accommodate dynamically changing sizes by adding or removing nodes without the need for resizing or copying elements.\n",
    "\n",
    "**Considerations for Using Regular List:**<br>\n",
    "**`1. Simplicity:`** Working with regular lists can be simpler and more intuitive in many cases, as they offer built-in operations and indexing capabilities.<br>\n",
    "**`2. Random Access:`** Regular lists provide constant-time random access to elements based on their indices, whereas accessing elements in a linked list requires traversing the list linearly, resulting in a higher time complexity.\n",
    "\n",
    "Ultimately, the choice between using a linked list or a regular list depends on the requirements and constraints of the specific problem, as well as the trade-offs between memory efficiency, simplicity, and performance."
   ]
  },
  {
   "cell_type": "code",
   "execution_count": null,
   "id": "6514a29e",
   "metadata": {},
   "outputs": [],
   "source": [
    "# Create an instance of the Solution class\n",
    "solution = Solution()\n",
    "\n",
    "# o/p involved -  Creating Linked List, Calling deleteDuplicates method and Printing the modified Linked List\n",
    "\n",
    "# Example 1 -\n",
    "\n",
    "# Create a sample linked list: 1 -> 1 -> 2 -\n",
    "head = ListNode(1)\n",
    "head.next = ListNode(1)\n",
    "head.next.next = ListNode(2)\n",
    "\n",
    "# Call the deleteDuplicates method with the sample linked list\n",
    "new_head = solution.deleteDuplicates(head)\n",
    "\n",
    "# Print the modified linked list\n",
    "current = new_head\n",
    "while current and current.next:\n",
    "    print(current.val, end=\" -> \")\n",
    "    current = current.next\n",
    "print(current.val)\n"
   ]
  },
  {
   "cell_type": "code",
   "execution_count": null,
   "id": "3b85e96e",
   "metadata": {},
   "outputs": [],
   "source": [
    "# Example 2 - \n",
    "\n",
    "# Create a sample linked list: 1 -> 1 -> 2 -> 3 -> 3\n",
    "head = ListNode(1)\n",
    "head.next = ListNode(1)\n",
    "head.next.next = ListNode(2)\n",
    "head.next.next.next = ListNode(3)\n",
    "head.next.next.next.next = ListNode(3)\n",
    "\n",
    "# Call the deleteDuplicates method with the sample linked list\n",
    "new_head = solution.deleteDuplicates(head)\n",
    "\n",
    "# Print the modified linked list                                   # Tracing: \n",
    "current = new_head                                                 # current = ListNode(1)                  # JFR: current = ListNode(2)             # JFR: current = ListNode(3)\n",
    "while current and current.next:                                    # while ListNode(1) and ListNode(1):     # while ListNode(2) and ListNode(3):     # while ListNode(3) and \"\" (False)\n",
    "    print(current.val, end=\" -> \")                                 # print(1 ->)                            # print(2 ->)                            # skip\n",
    "    current = current.next                                         # current = ListNode(2)                  # current = ListNode(3)                  # skip\n",
    "print(current.val)                                                                                                                                   # print(3)                              \n"
   ]
  },
  {
   "cell_type": "code",
   "execution_count": null,
   "id": "a420e38e",
   "metadata": {},
   "outputs": [],
   "source": []
  }
 ],
 "metadata": {
  "kernelspec": {
   "display_name": "Python 3 (ipykernel)",
   "language": "python",
   "name": "python3"
  },
  "language_info": {
   "codemirror_mode": {
    "name": "ipython",
    "version": 3
   },
   "file_extension": ".py",
   "mimetype": "text/x-python",
   "name": "python",
   "nbconvert_exporter": "python",
   "pygments_lexer": "ipython3",
   "version": "3.9.13"
  }
 },
 "nbformat": 4,
 "nbformat_minor": 5
}
