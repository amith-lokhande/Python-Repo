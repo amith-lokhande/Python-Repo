{
 "cells": [
  {
   "cell_type": "markdown",
   "id": "18e36568",
   "metadata": {},
   "source": [
    "### <span style=\"background-color: yellow;\">1. Two Sum</span>\n",
    "\n",
    "* **Difficulty** - Easy \n",
    "\n",
    "* **Description** - Given an array of integers nums and an integer target, return indices of the two numbers such that they add up to target. You may assume that each input would have exactly one solution, and you may not use the same element twice. You can return the answer in any order.  \n",
    "  \n",
    "\n",
    "* **Examples -**\n",
    "1. Input: nums = [2,7,11,15], target = 9  \n",
    "Output: [0,1]  \n",
    "Explanation: Because nums[0] + nums[1] == 9, we return [0, 1].\n",
    "2. Input: nums = [3,2,4], target = 6  \n",
    "Output: [1,2]   \n",
    "\n",
    "3. Input: nums = [3,3], target = 6  \n",
    "Output: [0,1]     \n",
    "\n",
    "* **Constraints -**\n",
    "- 2 <= nums.length <= 104\n",
    "- 109 <= nums[i] <= 109\n",
    "- 109 <= target <= 109\n",
    "- Only one valid answer exists."
   ]
  },
  {
   "cell_type": "code",
   "execution_count": 1,
   "id": "b0270e9f",
   "metadata": {},
   "outputs": [
    {
     "name": "stdout",
     "output_type": "stream",
     "text": [
      "Wall time: 0 ns\n"
     ]
    }
   ],
   "source": [
    "def TwoSum(nums, target):                       # Tracing:      TwoSum(nums, Target) -> nums = [2,7,11,15], target = 9\n",
    "    numMap = {}                                               # numMap = {}\n",
    "    \"\"\"\n",
    "    numMap - Hash map to store numbers and their indices. \n",
    "    Here hash map is nothing but dictionaries in python\n",
    "    \"\"\"\n",
    "    for i, num in enumerate(nums):                            # for 0, 2 in enumerate(2,7,11,15)          # for 1, 7 in enumerate(2,7,11,15) \n",
    "        complement = target - num                             # complement = 9 - 2 = 7                    # complement = 9 - 7 = 2\n",
    "        if complement in numMap:                              # if 7 in numMap -> False                   # if 2 in numMap -> True\n",
    "            return [numMap[complement], i]                    # skip                                      # numMap[2], 1 -> 0,1 is returned\n",
    "        numMap[num] = i                                       # numMap[2] = 0 i.e, numMap = {2: 0}        \n",
    "\n",
    "    return []  # No solution found, return an empty array\n"
   ]
  },
  {
   "cell_type": "code",
   "execution_count": 2,
   "id": "28e1a4c8",
   "metadata": {},
   "outputs": [
    {
     "data": {
      "text/plain": [
       "[0, 1]"
      ]
     },
     "execution_count": 2,
     "metadata": {},
     "output_type": "execute_result"
    }
   ],
   "source": [
    "# Example 1 -\n",
    "\n",
    "nums = [2,7,11,15]\n",
    "target = 9\n",
    "\n",
    "TwoSum(nums, target)\n"
   ]
  },
  {
   "cell_type": "code",
   "execution_count": 3,
   "id": "075b8039",
   "metadata": {},
   "outputs": [
    {
     "data": {
      "text/plain": [
       "[1, 2]"
      ]
     },
     "execution_count": 3,
     "metadata": {},
     "output_type": "execute_result"
    }
   ],
   "source": [
    "# Example 2 -\n",
    "\n",
    "nums = [3,2,4]\n",
    "target = 6\n",
    "\n",
    "TwoSum(nums, target)\n"
   ]
  },
  {
   "cell_type": "code",
   "execution_count": 4,
   "id": "0cc76591",
   "metadata": {},
   "outputs": [
    {
     "data": {
      "text/plain": [
       "[0, 1]"
      ]
     },
     "execution_count": 4,
     "metadata": {},
     "output_type": "execute_result"
    }
   ],
   "source": [
    "# Example 3 -\n",
    "\n",
    "nums = [3,3]\n",
    "target = 6\n",
    "\n",
    "TwoSum(nums, target)\n"
   ]
  },
  {
   "cell_type": "code",
   "execution_count": 5,
   "id": "8a9dd361",
   "metadata": {},
   "outputs": [
    {
     "data": {
      "text/plain": [
       "[]"
      ]
     },
     "execution_count": 5,
     "metadata": {},
     "output_type": "execute_result"
    }
   ],
   "source": [
    "# Example 4 - No match example\n",
    "\n",
    "nums = [3,2]\n",
    "target = 6\n",
    "\n",
    "TwoSum(nums, target)\n",
    "\n",
    "# If no solution is found an empty array is returned"
   ]
  }
 ],
 "metadata": {
  "kernelspec": {
   "display_name": "Python 3 (ipykernel)",
   "language": "python",
   "name": "python3"
  },
  "language_info": {
   "codemirror_mode": {
    "name": "ipython",
    "version": 3
   },
   "file_extension": ".py",
   "mimetype": "text/x-python",
   "name": "python",
   "nbconvert_exporter": "python",
   "pygments_lexer": "ipython3",
   "version": "3.9.13"
  }
 },
 "nbformat": 4,
 "nbformat_minor": 5
}
