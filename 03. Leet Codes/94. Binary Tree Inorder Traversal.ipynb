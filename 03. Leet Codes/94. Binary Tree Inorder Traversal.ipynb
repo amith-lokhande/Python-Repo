{
 "cells": [
  {
   "cell_type": "markdown",
   "id": "ae1d49cf",
   "metadata": {},
   "source": [
    "### <span style=\"background-color: yellow;\">94. Binary Tree Inorder Traversal</span>\n",
    "\n",
    "* **Difficulty -** Easy \n",
    "\n",
    "* **Description -** Given the `root` of a binary tree, return the inorder traversal of its nodes' values.\n",
    "\n",
    "\n",
    "* **Examples -**  \n",
    "![Ex 1](https://assets.leetcode.com/uploads/2020/09/15/inorder_1.jpg)\n",
    "1.`Input:` root = [1,null,2,3]  \n",
    "`Output:` [1,3,2]  \n",
    "2.`Input:` root = []  \n",
    "`Output:` []  \n",
    "3.`Input:` root = [1]  \n",
    "`Output:` [1]  \n",
    "\n",
    "\n",
    "* **Constraints -**\n",
    "- The number of nodes in the tree is in the range `[0, 100]`.\n",
    "- `-100 <= Node.val <= 100`\n"
   ]
  },
  {
   "cell_type": "markdown",
   "id": "a0350b40",
   "metadata": {},
   "source": [
    "### <span style=\"background-color: yellow;\">Notes -</span>\n",
    "\n",
    "#### <span style=\"background-color: yellow;\">Traversal in Binary Trees</span>\n",
    "\n",
    "There are 3 types of Traversals in Binary Trees and they are as follows:  \n",
    "<br>\n",
    "a. **Preorder Traversal -** In Preorder Traversal the root node comes before any other node i.e., **`Root Node -> Left Node -> Right Node `**  \n",
    "b. **Postorder Traversal -** In Postorder Traversal the root node comes after other nodes i.e., **`Left Node -> Right Node -> Root Node`**    \n",
    "c. **Inorder Traversal -** In Inorder Traversal the root noed comes in between the other nodes i.e., **`Left Node -> Root Node -> Right Node`**  "
   ]
  },
  {
   "cell_type": "code",
   "execution_count": 2,
   "id": "20a8885f",
   "metadata": {},
   "outputs": [],
   "source": [
    "from typing import List\n",
    "\n",
    "# Definition for a binary tree node.                                  # Tracing:\n",
    "class TreeNode:                                                              \n",
    "    def __init__(self, val=0, left=None, right=None):                 # root = TreeNode(1),\n",
    "        self.val = val                                                # root.right = TreeNode(2),\n",
    "        self.left = left                                              # root.right.left = TreeNode(3)\n",
    "        self.right = right                                            # Note - The above inputs are not synced\n",
    "                                                                      #  w.r.t code and are give only for reference.\n",
    "class Solution:\n",
    "    def inorderTraversal(self, root: TreeNode) -> List[int]:          # Calling \"inorderTraversal()\" method, passing the root of the binary tree as the argument \n",
    "        result = []                                                   # result = []  i.e., an empty list is initialized\n",
    "        self.inorder(root, result)                                    # \"inorder\" method is called with the root node and the result list. Here we go to \"def inorder(self, node: TreeNode.....\"\n",
    "        return result                                                                                                                                                                                                                                                                                                                         # return result = 1, 3, 2\n",
    "    \n",
    "    def inorder(self, node: TreeNode, result: List[int]) -> None:     # Here node is root node i.e., root = TreeNode(1)                                                                                                                                                                                                 \n",
    "        if node is None:                                              # if node (i.e., root = TreeNode(1)) is None: (False)     # if root.left = None         # if TreeNode(2) is None: (False)                                                                                       # if TreeNode(3) is None: (False)                    \n",
    "            return                                                    # skip                                                    # return (return nothing)     # skip                                                                                                                  # skip\n",
    "        \n",
    "        self.inorder(node.left, result)                               # root.left = None (skip)                                                               # root.right.left = TreeNode(3), result (Here, first TreeNode(3) is called then the result is appended recursively)     # root.right.left.left = None (skip)\n",
    "        result.append(node.val)                                       # result.append = node.val = root = TreeNode(1) = 1                                     # result.append = node.val = root.right = 1, 3, 2                                                                       # result.append = node.val = root.right.left = 1, 3      \n",
    "        self.inorder(node.right, result)                              # node.right = root. right = TreeNode(2)                                                                                                                                                                        # node.right = root.right.left.right = None\n",
    "                                                                                                                                                                                                                                                                                      # For the above statement inorder() method is called again and it returns nothing"
   ]
  },
  {
   "cell_type": "code",
   "execution_count": 4,
   "id": "be4a2696",
   "metadata": {},
   "outputs": [
    {
     "name": "stdout",
     "output_type": "stream",
     "text": [
      "[1, 3, 2]\n"
     ]
    }
   ],
   "source": [
    "# Create an instance of the Solution class\n",
    "solution = Solution()\n",
    "\n",
    "# Example 1 - \n",
    "\n",
    "# Create a binary tree\n",
    "root = TreeNode(1)\n",
    "root.right = TreeNode(2)\n",
    "root.right.left = TreeNode(3)\n",
    "\n",
    "# Perform inorder traversal and print the result\n",
    "print(solution.inorderTraversal(root))  # Output: [1, 3, 2]\n"
   ]
  },
  {
   "cell_type": "code",
   "execution_count": 7,
   "id": "f8cb6e92",
   "metadata": {},
   "outputs": [
    {
     "name": "stdout",
     "output_type": "stream",
     "text": [
      "[0]\n"
     ]
    }
   ],
   "source": [
    "# Example 2 - \n",
    "\n",
    "# Create a binary tree\n",
    "root = TreeNode()\n",
    "\n",
    "# Perform inorder traversal and print the result\n",
    "print(solution.inorderTraversal(root))  # Output: [1, 3, 2]\n"
   ]
  },
  {
   "cell_type": "code",
   "execution_count": 8,
   "id": "a8661bac",
   "metadata": {},
   "outputs": [
    {
     "name": "stdout",
     "output_type": "stream",
     "text": [
      "[1]\n"
     ]
    }
   ],
   "source": [
    "# Example 3 - \n",
    "\n",
    "# Create a binary tree\n",
    "root = TreeNode(1)\n",
    "\n",
    "# Perform inorder traversal and print the result\n",
    "print(solution.inorderTraversal(root))  # Output: [1, 3, 2]\n"
   ]
  },
  {
   "cell_type": "code",
   "execution_count": null,
   "id": "d111a80a",
   "metadata": {},
   "outputs": [],
   "source": []
  }
 ],
 "metadata": {
  "kernelspec": {
   "display_name": "Python 3 (ipykernel)",
   "language": "python",
   "name": "python3"
  },
  "language_info": {
   "codemirror_mode": {
    "name": "ipython",
    "version": 3
   },
   "file_extension": ".py",
   "mimetype": "text/x-python",
   "name": "python",
   "nbconvert_exporter": "python",
   "pygments_lexer": "ipython3",
   "version": "3.9.13"
  }
 },
 "nbformat": 4,
 "nbformat_minor": 5
}
