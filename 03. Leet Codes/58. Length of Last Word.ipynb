{
 "cells": [
  {
   "cell_type": "markdown",
   "id": "5636763e",
   "metadata": {},
   "source": [
    "### <span style=\"background-color: yellow;\">58. Length of Last Word</span>\n",
    "\n",
    "* **Difficulty -** Easy \n",
    "\n",
    "* **Description -** Given a string `s` consisting of words and spaces, return the length of the **last** word in the string.<br>\n",
    "    A **word** is a maximal **`substring`** consisting of non-space characters only.\n",
    "\n",
    "\n",
    "* **Examples -**  \n",
    "1. `Input:` s = \"Hello World\"  \n",
    "`Output:` 5  \n",
    "`Explanation:` The last word is \"World\" with length 5.  \n",
    "2. `Input:` s = `\"   fly me   to   the moon  \"`  \n",
    "`Output:` 4  \n",
    "`Explanation:` The last word is \"moon\" with length 4.  \n",
    "3. `Input:` s = \"luffy is still joyboy\"  \n",
    "`Output:` 6  \n",
    "`Explanation:` The last word is \"joyboy\" with length 6.  \n",
    "\n",
    "\n",
    "* **Constraints -**\n",
    "- `1 <= s.length <= 104`\n",
    "- `s` consists of only English letters and spaces `' '`.\n",
    "- There will be at least one word in `s`."
   ]
  },
  {
   "cell_type": "code",
   "execution_count": 1,
   "id": "a22b00f9",
   "metadata": {},
   "outputs": [],
   "source": [
    "class Solution:                                                           # Tracing: Ex 1 -                       # Ex 2- \n",
    "    def lengthOfLastWord(self, s: str) -> int:                            # s = \"   fly me   to   the moon  \"     # s = \"Deimos\" \n",
    "        # Remove trailing white spaces\n",
    "        s = s.rstrip()                                                    # s = \"   fly me   to   the moon\"       # s = \"Deimos\"\n",
    "        \n",
    "        # Find the last space in the string\n",
    "        last_space_index = s.rfind(' ')                                   # last_space_index = 20                 # last_space_index = -1\n",
    "        \n",
    "        # If no space is found, return the length of the whole string\n",
    "        if last_space_index == -1:                                        # skip                                  # if -1 == -1\n",
    "            return len(s)                                                                                         # return 6\n",
    "        \n",
    "        # Return the length of the last word\n",
    "        return len(s) - last_space_index - 1                              # return 25 - 20 - 1 = 4\n"
   ]
  },
  {
   "cell_type": "code",
   "execution_count": 2,
   "id": "36cd94b0",
   "metadata": {},
   "outputs": [
    {
     "name": "stdout",
     "output_type": "stream",
     "text": [
      "5\n"
     ]
    }
   ],
   "source": [
    "# Create an instance of the Solution class\n",
    "solution = Solution()\n",
    "\n",
    "# Example 1 -\n",
    "\n",
    "s = \"Hello World\"\n",
    "output = solution.lengthOfLastWord(s)\n",
    "print(output)  # Output: 5\n"
   ]
  },
  {
   "cell_type": "code",
   "execution_count": 3,
   "id": "f9482c32",
   "metadata": {},
   "outputs": [
    {
     "name": "stdout",
     "output_type": "stream",
     "text": [
      "4\n"
     ]
    }
   ],
   "source": [
    "# Example 2 - String with spaces at the beginning, middle and the end\n",
    "\n",
    "s = \"   fly me   to   the moon  \"\n",
    "output = solution.lengthOfLastWord(s)\n",
    "print(output)  # Output: 4\n"
   ]
  },
  {
   "cell_type": "code",
   "execution_count": 4,
   "id": "bb36aa78",
   "metadata": {},
   "outputs": [
    {
     "name": "stdout",
     "output_type": "stream",
     "text": [
      "6\n"
     ]
    }
   ],
   "source": [
    "# Example 3 - Giving a string of only one word\n",
    "\n",
    "s = \"Deimos\"\n",
    "output = solution.lengthOfLastWord(s)\n",
    "print(output)  # Output: 4\n"
   ]
  }
 ],
 "metadata": {
  "kernelspec": {
   "display_name": "Python 3 (ipykernel)",
   "language": "python",
   "name": "python3"
  },
  "language_info": {
   "codemirror_mode": {
    "name": "ipython",
    "version": 3
   },
   "file_extension": ".py",
   "mimetype": "text/x-python",
   "name": "python",
   "nbconvert_exporter": "python",
   "pygments_lexer": "ipython3",
   "version": "3.9.13"
  }
 },
 "nbformat": 4,
 "nbformat_minor": 5
}
